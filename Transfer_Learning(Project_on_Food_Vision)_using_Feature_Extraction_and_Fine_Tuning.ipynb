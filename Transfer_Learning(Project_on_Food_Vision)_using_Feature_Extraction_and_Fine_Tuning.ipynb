{
  "nbformat": 4,
  "nbformat_minor": 0,
  "metadata": {
    "colab": {
      "provenance": [],
      "gpuType": "T4"
    },
    "kernelspec": {
      "name": "python3",
      "display_name": "Python 3"
    },
    "language_info": {
      "name": "python"
    },
    "accelerator": "GPU"
  },
  "cells": [
    {
      "cell_type": "code",
      "execution_count": 1,
      "metadata": {
        "colab": {
          "base_uri": "https://localhost:8080/"
        },
        "id": "k3fKZ2TLBIUK",
        "outputId": "652d3669-c1a1-4482-d43c-8ea10b1c09ea"
      },
      "outputs": [
        {
          "output_type": "stream",
          "name": "stdout",
          "text": [
            "--2024-09-01 12:22:22--  https://raw.githubusercontent.com/mrdbourke/tensorflow-deep-learning/main/extras/helper_functions.py\n",
            "Resolving raw.githubusercontent.com (raw.githubusercontent.com)... 185.199.109.133, 185.199.110.133, 185.199.111.133, ...\n",
            "Connecting to raw.githubusercontent.com (raw.githubusercontent.com)|185.199.109.133|:443... connected.\n",
            "HTTP request sent, awaiting response... 200 OK\n",
            "Length: 10246 (10K) [text/plain]\n",
            "Saving to: ‘helper_functions.py’\n",
            "\n",
            "\rhelper_functions.py   0%[                    ]       0  --.-KB/s               \rhelper_functions.py 100%[===================>]  10.01K  --.-KB/s    in 0s      \n",
            "\n",
            "2024-09-01 12:22:22 (72.8 MB/s) - ‘helper_functions.py’ saved [10246/10246]\n",
            "\n"
          ]
        }
      ],
      "source": [
        "!wget https://raw.githubusercontent.com/mrdbourke/tensorflow-deep-learning/main/extras/helper_functions.py"
      ]
    },
    {
      "cell_type": "code",
      "source": [
        "!nvidia-smi"
      ],
      "metadata": {
        "colab": {
          "base_uri": "https://localhost:8080/"
        },
        "id": "fl53FUdUB7Jv",
        "outputId": "8cebec67-2070-4ef6-a9e9-eb2f900cbc16"
      },
      "execution_count": 2,
      "outputs": [
        {
          "output_type": "stream",
          "name": "stdout",
          "text": [
            "/bin/bash: line 1: nvidia-smi: command not found\n"
          ]
        }
      ]
    },
    {
      "cell_type": "code",
      "source": [
        "from helper_functions import unzip_data, create_tensorboard_callback, plot_loss_curves, walk_through_dir"
      ],
      "metadata": {
        "id": "mDosqYVGB9Mv"
      },
      "execution_count": 3,
      "outputs": []
    },
    {
      "cell_type": "code",
      "source": [
        "!wget https://storage.googleapis.com/ztm_tf_course/food_vision/10_food_classes_10_percent.zip\n",
        "\n",
        "unzip_data(\"10_food_classes_10_percent.zip\")"
      ],
      "metadata": {
        "colab": {
          "base_uri": "https://localhost:8080/"
        },
        "id": "8Y5bSiHNC72N",
        "outputId": "48fd2f75-127f-473a-9c1c-de995e9bc7b3"
      },
      "execution_count": 7,
      "outputs": [
        {
          "output_type": "stream",
          "name": "stdout",
          "text": [
            "--2024-09-01 09:46:15--  https://storage.googleapis.com/ztm_tf_course/food_vision/10_food_classes_10_percent.zip\n",
            "Resolving storage.googleapis.com (storage.googleapis.com)... 74.125.68.207, 64.233.170.207, 142.251.175.207, ...\n",
            "Connecting to storage.googleapis.com (storage.googleapis.com)|74.125.68.207|:443... connected.\n",
            "HTTP request sent, awaiting response... 200 OK\n",
            "Length: 168546183 (161M) [application/zip]\n",
            "Saving to: ‘10_food_classes_10_percent.zip.2’\n",
            "\n",
            "10_food_classes_10_ 100%[===================>] 160.74M  23.1MB/s    in 8.0s    \n",
            "\n",
            "2024-09-01 09:46:23 (20.2 MB/s) - ‘10_food_classes_10_percent.zip.2’ saved [168546183/168546183]\n",
            "\n"
          ]
        }
      ]
    },
    {
      "cell_type": "code",
      "source": [
        "walk_through_dir(\"/content/10_food_classes_10_percent\")"
      ],
      "metadata": {
        "colab": {
          "base_uri": "https://localhost:8080/"
        },
        "id": "5UlvgwmlDlQo",
        "outputId": "72fbac56-30a1-44b4-c92b-d5ae9c4b7cb3"
      },
      "execution_count": 5,
      "outputs": [
        {
          "output_type": "stream",
          "name": "stdout",
          "text": [
            "There are 2 directories and 0 images in '/content/10_food_classes_10_percent'.\n",
            "There are 10 directories and 0 images in '/content/10_food_classes_10_percent/test'.\n",
            "There are 0 directories and 250 images in '/content/10_food_classes_10_percent/test/pizza'.\n",
            "There are 0 directories and 250 images in '/content/10_food_classes_10_percent/test/hamburger'.\n",
            "There are 0 directories and 250 images in '/content/10_food_classes_10_percent/test/sushi'.\n",
            "There are 0 directories and 250 images in '/content/10_food_classes_10_percent/test/chicken_curry'.\n",
            "There are 0 directories and 250 images in '/content/10_food_classes_10_percent/test/ice_cream'.\n",
            "There are 0 directories and 250 images in '/content/10_food_classes_10_percent/test/grilled_salmon'.\n",
            "There are 0 directories and 250 images in '/content/10_food_classes_10_percent/test/fried_rice'.\n",
            "There are 0 directories and 250 images in '/content/10_food_classes_10_percent/test/ramen'.\n",
            "There are 0 directories and 250 images in '/content/10_food_classes_10_percent/test/steak'.\n",
            "There are 0 directories and 250 images in '/content/10_food_classes_10_percent/test/chicken_wings'.\n",
            "There are 10 directories and 0 images in '/content/10_food_classes_10_percent/train'.\n",
            "There are 0 directories and 75 images in '/content/10_food_classes_10_percent/train/pizza'.\n",
            "There are 0 directories and 75 images in '/content/10_food_classes_10_percent/train/hamburger'.\n",
            "There are 0 directories and 75 images in '/content/10_food_classes_10_percent/train/sushi'.\n",
            "There are 0 directories and 75 images in '/content/10_food_classes_10_percent/train/chicken_curry'.\n",
            "There are 0 directories and 75 images in '/content/10_food_classes_10_percent/train/ice_cream'.\n",
            "There are 0 directories and 75 images in '/content/10_food_classes_10_percent/train/grilled_salmon'.\n",
            "There are 0 directories and 75 images in '/content/10_food_classes_10_percent/train/fried_rice'.\n",
            "There are 0 directories and 75 images in '/content/10_food_classes_10_percent/train/ramen'.\n",
            "There are 0 directories and 75 images in '/content/10_food_classes_10_percent/train/steak'.\n",
            "There are 0 directories and 75 images in '/content/10_food_classes_10_percent/train/chicken_wings'.\n"
          ]
        }
      ]
    },
    {
      "cell_type": "code",
      "source": [
        "train_dir='/content/10_food_classes_10_percent/train'\n",
        "test_dir='/content/10_food_classes_10_percent/test'"
      ],
      "metadata": {
        "id": "wYGpgos7Dw1t"
      },
      "execution_count": 6,
      "outputs": []
    },
    {
      "cell_type": "code",
      "source": [
        "from re import T\n",
        "import tensorflow as tf\n",
        "IMG_SIZE=(224,224)\n",
        "BATCH_SIZE=32\n",
        "train_data_10_percent=tf.keras.preprocessing.image_dataset_from_directory(train_dir,\n",
        "                                                                          label_mode='categorical',\n",
        "                                                                          batch_size=BATCH_SIZE,\n",
        "                                                                          image_size=IMG_SIZE)\n",
        "\n",
        "test_data=tf.keras.preprocessing.image_dataset_from_directory(test_dir,\n",
        "                                                              label_mode='categorical',\n",
        "                                                              image_size=IMG_SIZE,\n",
        "                                                              batch_size=BATCH_SIZE)"
      ],
      "metadata": {
        "colab": {
          "base_uri": "https://localhost:8080/"
        },
        "id": "n_xoybW1EpQp",
        "outputId": "80e9c7e7-2575-4c40-a4ab-f67d3004d16e"
      },
      "execution_count": 7,
      "outputs": [
        {
          "output_type": "stream",
          "name": "stdout",
          "text": [
            "Found 750 files belonging to 10 classes.\n",
            "Found 2500 files belonging to 10 classes.\n"
          ]
        }
      ]
    },
    {
      "cell_type": "code",
      "source": [
        "train_data_10_percent.class_names"
      ],
      "metadata": {
        "colab": {
          "base_uri": "https://localhost:8080/"
        },
        "id": "y6RcV1YdV0CC",
        "outputId": "570580f9-5e4f-47ff-c671-7b6cb03341a0"
      },
      "execution_count": 8,
      "outputs": [
        {
          "output_type": "execute_result",
          "data": {
            "text/plain": [
              "['chicken_curry',\n",
              " 'chicken_wings',\n",
              " 'fried_rice',\n",
              " 'grilled_salmon',\n",
              " 'hamburger',\n",
              " 'ice_cream',\n",
              " 'pizza',\n",
              " 'ramen',\n",
              " 'steak',\n",
              " 'sushi']"
            ]
          },
          "metadata": {},
          "execution_count": 8
        }
      ]
    },
    {
      "cell_type": "code",
      "source": [
        "len(train_data_10_percent.class_names)"
      ],
      "metadata": {
        "colab": {
          "base_uri": "https://localhost:8080/"
        },
        "id": "qSxRCIrHFp2O",
        "outputId": "b795b57c-fca4-47c7-eea5-6bbb31e5bba1"
      },
      "execution_count": 9,
      "outputs": [
        {
          "output_type": "execute_result",
          "data": {
            "text/plain": [
              "10"
            ]
          },
          "metadata": {},
          "execution_count": 9
        }
      ]
    },
    {
      "cell_type": "code",
      "source": [
        "for images,labels in train_data_10_percent.take(1):\n",
        "  print(images,labels)\n",
        "  print(images[0].shape)"
      ],
      "metadata": {
        "colab": {
          "base_uri": "https://localhost:8080/"
        },
        "id": "bC5Cps7VGRkP",
        "outputId": "ed412ffb-c984-4003-a2c6-3740f2af6e4f"
      },
      "execution_count": 10,
      "outputs": [
        {
          "output_type": "stream",
          "name": "stdout",
          "text": [
            "tf.Tensor(\n",
            "[[[[2.24658157e+02 1.37301025e+02 2.60867348e+01]\n",
            "   [2.25188782e+02 1.39234695e+02 3.73775520e+01]\n",
            "   [2.35000000e+02 1.47719391e+02 4.56938782e+01]\n",
            "   ...\n",
            "   [5.70914793e+00 6.70914793e+00 4.28527832e-01]\n",
            "   [5.33162785e+00 4.33162785e+00 1.42883301e-01]\n",
            "   [4.22961426e+00 4.22961426e+00 2.94396973e+00]]\n",
            "\n",
            "  [[2.30357147e+02 1.39454086e+02 3.30969391e+01]\n",
            "   [2.30714294e+02 1.42857147e+02 4.40051041e+01]\n",
            "   [2.41428574e+02 1.55173462e+02 5.60306129e+01]\n",
            "   ...\n",
            "   [7.04081964e+00 7.98469543e+00 4.13223267e-01]\n",
            "   [6.99998665e+00 5.99998665e+00 1.20410585e+00]\n",
            "   [4.57139397e+00 4.71425056e+00 3.21432066e+00]]\n",
            "\n",
            "  [[2.31198975e+02 1.43857132e+02 2.33622456e+01]\n",
            "   [2.27122452e+02 1.43897964e+02 3.60306168e+01]\n",
            "   [2.33591827e+02 1.52734695e+02 5.58112259e+01]\n",
            "   ...\n",
            "   [7.73982239e+00 7.61738586e+00 2.14263916e-01]\n",
            "   [7.98469114e+00 7.71427250e+00 5.96969843e-01]\n",
            "   [4.42853642e+00 6.42853642e+00 2.14289188e+00]]\n",
            "\n",
            "  ...\n",
            "\n",
            "  [[1.39989792e+02 1.08576508e+02 7.97142715e+01]\n",
            "   [1.44183670e+02 1.08928543e+02 7.90561066e+01]\n",
            "   [1.58132599e+02 1.18795868e+02 8.87295456e+01]\n",
            "   ...\n",
            "   [8.25609589e+01 8.33925781e+01 7.88977203e+01]\n",
            "   [1.03898125e+02 1.05898125e+02 1.04898125e+02]\n",
            "   [1.12627495e+02 1.13627495e+02 1.15627495e+02]]\n",
            "\n",
            "  [[1.48117523e+02 1.16979790e+02 8.80256958e+01]\n",
            "   [1.48127640e+02 1.13071548e+02 8.49899368e+01]\n",
            "   [1.55377594e+02 1.18234772e+02 8.92347717e+01]\n",
            "   ...\n",
            "   [8.09797058e+01 8.11939697e+01 7.85511780e+01]\n",
            "   [1.13076698e+02 1.15010353e+02 1.14209373e+02]\n",
            "   [1.16948990e+02 1.17948990e+02 1.21806168e+02]]\n",
            "\n",
            "  [[1.35607193e+02 1.05250046e+02 7.72500458e+01]\n",
            "   [1.40479630e+02 1.08408180e+02 7.97653275e+01]\n",
            "   [1.44867371e+02 1.11576553e+02 8.12194061e+01]\n",
            "   ...\n",
            "   [9.43165054e+01 9.43165054e+01 9.23165054e+01]\n",
            "   [1.18535690e+02 1.19535690e+02 1.21535690e+02]\n",
            "   [1.20913391e+02 1.21913391e+02 1.25913391e+02]]]\n",
            "\n",
            "\n",
            " [[[2.13540817e+02 1.63806122e+02 9.16632690e+01]\n",
            "   [2.15403061e+02 1.61811218e+02 5.92091827e+01]\n",
            "   [2.17280609e+02 1.57091827e+02 5.85765305e+01]\n",
            "   ...\n",
            "   [4.92857780e+01 1.67040977e+01 2.78560543e+00]\n",
            "   [6.12091942e+01 2.53061523e+01 1.04591370e+00]\n",
            "   [5.93571777e+01 2.76582546e+01 2.55126953e-01]]\n",
            "\n",
            "  [[2.19423477e+02 1.68311234e+02 5.43775520e+01]\n",
            "   [2.17877548e+02 1.63214279e+02 4.61122475e+01]\n",
            "   [2.20831635e+02 1.60545929e+02 7.97499924e+01]\n",
            "   ...\n",
            "   [6.74030533e+01 2.69030781e+01 2.32649016e+00]\n",
            "   [6.82703247e+01 3.27652893e+01 6.57649231e+00]\n",
            "   [5.49541206e+01 2.83827248e+01 2.35728240e+00]]\n",
            "\n",
            "  [[2.19219391e+02 1.62270416e+02 5.87550964e+01]\n",
            "   [2.18000000e+02 1.62010208e+02 4.96173439e+01]\n",
            "   [2.15719391e+02 1.64219391e+02 6.12091904e+01]\n",
            "   ...\n",
            "   [7.26988297e+01 2.83162136e+01 2.14285851e-01]\n",
            "   [5.81274452e+01 2.59846401e+01 2.28568840e+00]\n",
            "   [4.81991310e+01 2.20512352e+01 1.98999012e+00]]\n",
            "\n",
            "  ...\n",
            "\n",
            "  [[4.57656860e+00 1.37760714e-01 1.55102367e+01]\n",
            "   [5.15817261e+00 3.08674455e+00 8.37245750e+00]\n",
            "   [5.04592896e+00 2.59696293e+00 1.24540977e+01]\n",
            "   ...\n",
            "   [3.57144165e+00 4.00003052e+00 1.00713806e+01]\n",
            "   [1.65813184e+00 1.92855835e+00 8.47439575e+00]\n",
            "   [2.80636549e-01 1.28063655e+00 5.63775349e+00]]\n",
            "\n",
            "  [[9.92350578e+00 6.42857194e-01 1.74999828e+01]\n",
            "   [5.13773870e+00 3.92857170e+00 9.21428490e+00]\n",
            "   [4.54078913e+00 4.05610847e+00 1.33265219e+01]\n",
            "   ...\n",
            "   [1.85714722e+00 3.85714722e+00 9.99969482e-01]\n",
            "   [9.28558350e-01 2.85714722e+00 3.46882820e-01]\n",
            "   [3.31671268e-01 2.26026011e+00 1.47449350e+00]]\n",
            "\n",
            "  [[1.03571339e+01 8.26525092e-01 1.52550964e+01]\n",
            "   [3.18877459e+00 3.57142448e+00 5.92856598e+00]\n",
            "   [2.42857170e+00 1.78571415e+00 1.27244835e+01]\n",
            "   ...\n",
            "   [1.78573608e+00 3.14288330e+00 5.35714722e+00]\n",
            "   [1.97448480e+00 2.92855835e+00 6.99489594e+00]\n",
            "   [2.87246561e+00 3.22961283e+00 1.02602491e+01]]]\n",
            "\n",
            "\n",
            " [[[7.27142868e+01 1.18714287e+02 1.07714287e+02]\n",
            "   [6.95714340e+01 1.15571434e+02 1.04571434e+02]\n",
            "   [7.33520432e+01 1.19352043e+02 1.08352043e+02]\n",
            "   ...\n",
            "   [5.97856712e+01 1.14642860e+02 1.01362236e+02]\n",
            "   [5.76887703e+01 1.12974487e+02 9.96173401e+01]\n",
            "   [5.63571434e+01 1.11642860e+02 9.82857132e+01]]\n",
            "\n",
            "  [[7.33826523e+01 1.19382652e+02 1.08382652e+02]\n",
            "   [7.18622437e+01 1.17862244e+02 1.06862244e+02]\n",
            "   [7.51989822e+01 1.21198982e+02 1.10198982e+02]\n",
            "   ...\n",
            "   [5.61734657e+01 1.16928574e+02 1.02015305e+02]\n",
            "   [5.50714149e+01 1.15857132e+02 1.00928558e+02]\n",
            "   [5.41428566e+01 1.14928574e+02 1.00000000e+02]]\n",
            "\n",
            "  [[7.25714264e+01 1.18571426e+02 1.08571426e+02]\n",
            "   [7.12857132e+01 1.17285713e+02 1.07285713e+02]\n",
            "   [7.30000000e+01 1.19000000e+02 1.09000000e+02]\n",
            "   ...\n",
            "   [5.49795570e+01 1.14214287e+02 1.02214287e+02]\n",
            "   [5.44285736e+01 1.14000000e+02 1.02000000e+02]\n",
            "   [5.41479340e+01 1.13719360e+02 1.01719360e+02]]\n",
            "\n",
            "  ...\n",
            "\n",
            "  [[5.02754593e+01 9.62754593e+01 8.32754593e+01]\n",
            "   [4.57040977e+01 9.17041016e+01 7.87041016e+01]\n",
            "   [5.47349243e+01 1.00092064e+02 8.93063507e+01]\n",
            "   ...\n",
            "   [3.30459099e+01 7.18316422e+01 5.44744377e+01]\n",
            "   [3.31275749e+01 7.21275787e+01 5.41275749e+01]\n",
            "   [3.61429138e+01 7.51429138e+01 5.71429138e+01]]\n",
            "\n",
            "  [[5.19948959e+01 9.79948959e+01 8.49948959e+01]\n",
            "   [5.40714569e+01 1.00071457e+02 8.70714569e+01]\n",
            "   [5.37295799e+01 9.91326447e+01 8.83316269e+01]\n",
            "   ...\n",
            "   [3.52703972e+01 7.20561371e+01 5.56989250e+01]\n",
            "   [3.50663376e+01 7.20663376e+01 5.50663376e+01]\n",
            "   [3.59285583e+01 7.29285583e+01 5.59285583e+01]]\n",
            "\n",
            "  [[5.05968361e+01 9.45968399e+01 8.15968399e+01]\n",
            "   [4.87649994e+01 9.47649994e+01 8.17649994e+01]\n",
            "   [5.34334373e+01 9.94334412e+01 8.84334412e+01]\n",
            "   ...\n",
            "   [3.63571777e+01 7.21479111e+01 5.60713501e+01]\n",
            "   [3.70715332e+01 7.30000000e+01 5.63571777e+01]\n",
            "   [3.70715332e+01 7.30000000e+01 5.63571777e+01]]]\n",
            "\n",
            "\n",
            " ...\n",
            "\n",
            "\n",
            " [[[1.15293686e+02 1.05293686e+02 1.13293686e+02]\n",
            "   [1.18610016e+02 1.11726082e+02 1.18668045e+02]\n",
            "   [1.27294640e+02 1.22294647e+02 1.29058029e+02]\n",
            "   ...\n",
            "   [9.24601822e+01 6.03887558e+01 5.87458992e+01]\n",
            "   [9.52618332e+01 6.31904068e+01 6.15475502e+01]\n",
            "   [9.84161453e+01 6.37018623e+01 6.30590019e+01]]\n",
            "\n",
            "  [[1.14050385e+02 1.05032845e+02 1.12705360e+02]\n",
            "   [1.17232147e+02 1.10348213e+02 1.18290176e+02]\n",
            "   [1.23399231e+02 1.19816963e+02 1.26816963e+02]\n",
            "   ...\n",
            "   [1.00286774e+02 7.49841614e+01 7.03091278e+01]\n",
            "   [1.06986374e+02 8.16292343e+01 7.77720947e+01]\n",
            "   [1.10861626e+02 8.61055908e+01 8.22484436e+01]]\n",
            "\n",
            "  [[1.10411034e+02 1.03625320e+02 1.12053894e+02]\n",
            "   [1.14363525e+02 1.09149239e+02 1.16792091e+02]\n",
            "   [1.17385521e+02 1.13861603e+02 1.22540497e+02]\n",
            "   ...\n",
            "   [1.41538681e+02 1.27446533e+02 1.23461243e+02]\n",
            "   [1.48196518e+02 1.35008072e+02 1.32222366e+02]\n",
            "   [1.51722916e+02 1.38857483e+02 1.36147339e+02]]\n",
            "\n",
            "  ...\n",
            "\n",
            "  [[2.22986694e+02 2.24986694e+02 2.21986694e+02]\n",
            "   [2.27908951e+02 2.29908951e+02 2.26908951e+02]\n",
            "   [2.32107391e+02 2.34107391e+02 2.29907745e+02]\n",
            "   ...\n",
            "   [2.48000000e+02 2.54000000e+02 2.44000000e+02]\n",
            "   [2.48000000e+02 2.54000000e+02 2.44000000e+02]\n",
            "   [2.48000000e+02 2.54000000e+02 2.44000000e+02]]\n",
            "\n",
            "  [[2.07248779e+02 2.07248779e+02 2.05248779e+02]\n",
            "   [2.01875641e+02 2.02875641e+02 1.97875641e+02]\n",
            "   [1.99748047e+02 2.00748047e+02 1.95748047e+02]\n",
            "   ...\n",
            "   [2.48000000e+02 2.54000000e+02 2.44000000e+02]\n",
            "   [2.48000000e+02 2.54000000e+02 2.44000000e+02]\n",
            "   [2.48000000e+02 2.54000000e+02 2.44000000e+02]]\n",
            "\n",
            "  [[2.22165558e+02 2.22165558e+02 2.20165558e+02]\n",
            "   [2.13318909e+02 2.14318909e+02 2.09318909e+02]\n",
            "   [2.07905869e+02 2.08905869e+02 2.03905869e+02]\n",
            "   ...\n",
            "   [2.48000000e+02 2.54000000e+02 2.44000000e+02]\n",
            "   [2.48000000e+02 2.54000000e+02 2.44000000e+02]\n",
            "   [2.48000000e+02 2.54000000e+02 2.44000000e+02]]]\n",
            "\n",
            "\n",
            " [[[9.50000000e+01 6.20000000e+01 4.50000000e+01]\n",
            "   [9.50000000e+01 6.20000000e+01 4.50000000e+01]\n",
            "   [9.60559616e+01 6.30559616e+01 4.60559616e+01]\n",
            "   ...\n",
            "   [6.69874907e+00 5.91301298e+00 4.34154081e+00]\n",
            "   [4.00000000e+00 0.00000000e+00 0.00000000e+00]\n",
            "   [5.00000000e+00 1.00000000e+00 0.00000000e+00]]\n",
            "\n",
            "  [[9.50000000e+01 6.20000000e+01 4.50000000e+01]\n",
            "   [9.57275238e+01 6.27275200e+01 4.57275200e+01]\n",
            "   [9.62142868e+01 6.32142868e+01 4.62142868e+01]\n",
            "   ...\n",
            "   [7.47266579e+00 6.68692970e+00 5.11545753e+00]\n",
            "   [4.00000000e+00 0.00000000e+00 0.00000000e+00]\n",
            "   [5.00000000e+00 1.00000000e+00 0.00000000e+00]]\n",
            "\n",
            "  [[9.50000000e+01 6.20000000e+01 4.50000000e+01]\n",
            "   [9.60000000e+01 6.30000000e+01 4.60000000e+01]\n",
            "   [9.70000000e+01 6.40000000e+01 4.70000000e+01]\n",
            "   ...\n",
            "   [7.85705566e+00 7.07131958e+00 5.49984741e+00]\n",
            "   [4.00000000e+00 0.00000000e+00 0.00000000e+00]\n",
            "   [4.69419622e+00 6.94196224e-01 0.00000000e+00]]\n",
            "\n",
            "  ...\n",
            "\n",
            "  [[1.64305786e+02 1.61305786e+02 1.28305786e+02]\n",
            "   [1.64305786e+02 1.61305786e+02 1.28305786e+02]\n",
            "   [1.65454544e+02 1.62454544e+02 1.29454544e+02]\n",
            "   ...\n",
            "   [1.34571472e+02 1.37000000e+02 1.36000000e+02]\n",
            "   [1.34000000e+02 1.36000000e+02 1.35000000e+02]\n",
            "   [1.34000000e+02 1.36000000e+02 1.35000000e+02]]\n",
            "\n",
            "  [[1.64216522e+02 1.61216522e+02 1.28216522e+02]\n",
            "   [1.64015472e+02 1.61015472e+02 1.28015472e+02]\n",
            "   [1.64384399e+02 1.61384399e+02 1.28384399e+02]\n",
            "   ...\n",
            "   [1.34955872e+02 1.37384399e+02 1.36384399e+02]\n",
            "   [1.34944031e+02 1.36944031e+02 1.35944031e+02]\n",
            "   [1.33922668e+02 1.35922668e+02 1.34922668e+02]]\n",
            "\n",
            "  [[1.66002747e+02 1.63002747e+02 1.30002747e+02]\n",
            "   [1.64810287e+02 1.61810287e+02 1.28810287e+02]\n",
            "   [1.65738861e+02 1.62738861e+02 1.29738861e+02]\n",
            "   ...\n",
            "   [1.36310333e+02 1.38738861e+02 1.37738861e+02]\n",
            "   [1.35686081e+02 1.37686081e+02 1.36686081e+02]\n",
            "   [1.33642822e+02 1.35642822e+02 1.34642822e+02]]]\n",
            "\n",
            "\n",
            " [[[4.62946415e+00 2.62946415e+00 3.62946415e+00]\n",
            "   [3.05819488e+00 1.05819488e+00 2.05819488e+00]\n",
            "   [2.01068234e+00 1.85267866e-01 1.01068234e+00]\n",
            "   ...\n",
            "   [0.00000000e+00 0.00000000e+00 0.00000000e+00]\n",
            "   [0.00000000e+00 0.00000000e+00 0.00000000e+00]\n",
            "   [0.00000000e+00 0.00000000e+00 0.00000000e+00]]\n",
            "\n",
            "  [[1.88839293e+00 4.44196463e-01 8.88392925e-01]\n",
            "   [2.44419646e+00 4.44196463e-01 1.44419646e+00]\n",
            "   [3.11910081e+00 1.11910081e+00 2.11910081e+00]\n",
            "   ...\n",
            "   [0.00000000e+00 0.00000000e+00 0.00000000e+00]\n",
            "   [0.00000000e+00 0.00000000e+00 0.00000000e+00]\n",
            "   [0.00000000e+00 0.00000000e+00 0.00000000e+00]]\n",
            "\n",
            "  [[1.00000000e+00 0.00000000e+00 0.00000000e+00]\n",
            "   [1.93383312e+00 0.00000000e+00 9.33833122e-01]\n",
            "   [3.01578450e+00 1.01578438e+00 2.01578450e+00]\n",
            "   ...\n",
            "   [0.00000000e+00 0.00000000e+00 0.00000000e+00]\n",
            "   [0.00000000e+00 0.00000000e+00 0.00000000e+00]\n",
            "   [0.00000000e+00 0.00000000e+00 0.00000000e+00]]\n",
            "\n",
            "  ...\n",
            "\n",
            "  [[0.00000000e+00 0.00000000e+00 0.00000000e+00]\n",
            "   [0.00000000e+00 0.00000000e+00 0.00000000e+00]\n",
            "   [0.00000000e+00 0.00000000e+00 0.00000000e+00]\n",
            "   ...\n",
            "   [4.05114031e+00 7.36694336e-02 0.00000000e+00]\n",
            "   [4.00526285e+00 7.14416504e-02 0.00000000e+00]\n",
            "   [5.07366943e+00 1.28350830e+00 0.00000000e+00]]\n",
            "\n",
            "  [[0.00000000e+00 0.00000000e+00 0.00000000e+00]\n",
            "   [0.00000000e+00 0.00000000e+00 0.00000000e+00]\n",
            "   [0.00000000e+00 0.00000000e+00 0.00000000e+00]\n",
            "   ...\n",
            "   [1.90482104e+00 6.50965095e-01 4.44213867e-01]\n",
            "   [4.07144165e+00 7.14416504e-02 0.00000000e+00]\n",
            "   [6.00000000e+00 1.98514432e-01 0.00000000e+00]]\n",
            "\n",
            "  [[0.00000000e+00 0.00000000e+00 0.00000000e+00]\n",
            "   [0.00000000e+00 0.00000000e+00 0.00000000e+00]\n",
            "   [0.00000000e+00 0.00000000e+00 0.00000000e+00]\n",
            "   ...\n",
            "   [1.78573608e+00 2.14263916e-01 1.00000000e+00]\n",
            "   [4.07144165e+00 7.14416504e-02 0.00000000e+00]\n",
            "   [6.00000000e+00 0.00000000e+00 0.00000000e+00]]]], shape=(32, 224, 224, 3), dtype=float32) tf.Tensor(\n",
            "[[0. 0. 0. 0. 0. 0. 0. 0. 0. 1.]\n",
            " [0. 0. 1. 0. 0. 0. 0. 0. 0. 0.]\n",
            " [0. 0. 0. 0. 0. 0. 0. 1. 0. 0.]\n",
            " [1. 0. 0. 0. 0. 0. 0. 0. 0. 0.]\n",
            " [1. 0. 0. 0. 0. 0. 0. 0. 0. 0.]\n",
            " [0. 0. 0. 0. 0. 0. 1. 0. 0. 0.]\n",
            " [0. 0. 1. 0. 0. 0. 0. 0. 0. 0.]\n",
            " [0. 0. 0. 0. 0. 0. 0. 0. 0. 1.]\n",
            " [1. 0. 0. 0. 0. 0. 0. 0. 0. 0.]\n",
            " [0. 0. 1. 0. 0. 0. 0. 0. 0. 0.]\n",
            " [0. 0. 0. 1. 0. 0. 0. 0. 0. 0.]\n",
            " [0. 0. 0. 0. 0. 1. 0. 0. 0. 0.]\n",
            " [0. 0. 0. 0. 0. 0. 0. 0. 1. 0.]\n",
            " [1. 0. 0. 0. 0. 0. 0. 0. 0. 0.]\n",
            " [0. 0. 1. 0. 0. 0. 0. 0. 0. 0.]\n",
            " [0. 0. 0. 0. 0. 1. 0. 0. 0. 0.]\n",
            " [0. 1. 0. 0. 0. 0. 0. 0. 0. 0.]\n",
            " [0. 0. 0. 0. 0. 0. 0. 1. 0. 0.]\n",
            " [0. 0. 0. 0. 0. 0. 0. 0. 1. 0.]\n",
            " [0. 0. 0. 0. 0. 0. 0. 0. 0. 1.]\n",
            " [0. 0. 0. 0. 0. 0. 0. 0. 1. 0.]\n",
            " [0. 0. 0. 0. 0. 1. 0. 0. 0. 0.]\n",
            " [0. 0. 0. 1. 0. 0. 0. 0. 0. 0.]\n",
            " [0. 0. 0. 0. 0. 0. 0. 0. 0. 1.]\n",
            " [0. 0. 0. 1. 0. 0. 0. 0. 0. 0.]\n",
            " [1. 0. 0. 0. 0. 0. 0. 0. 0. 0.]\n",
            " [0. 0. 0. 0. 0. 0. 0. 0. 1. 0.]\n",
            " [1. 0. 0. 0. 0. 0. 0. 0. 0. 0.]\n",
            " [0. 0. 0. 0. 0. 0. 1. 0. 0. 0.]\n",
            " [0. 0. 0. 0. 0. 1. 0. 0. 0. 0.]\n",
            " [0. 1. 0. 0. 0. 0. 0. 0. 0. 0.]\n",
            " [0. 0. 0. 0. 0. 0. 0. 0. 1. 0.]], shape=(32, 10), dtype=float32)\n",
            "(224, 224, 3)\n"
          ]
        }
      ]
    },
    {
      "cell_type": "markdown",
      "source": [
        "## Model 0: Building the feature extraction transfer learning model using keras functional API\n",
        "1. Sequential API allows to build models sequentially\n",
        "2. Functional API gives more flexibility"
      ],
      "metadata": {
        "id": "8yTJ55HUGhxp"
      }
    },
    {
      "cell_type": "code",
      "source": [
        "base_model = tf.keras.applications.efficientnet_v2.EfficientNetV2B0(include_top=False)\n",
        "base_model.trainable=False\n",
        "\n",
        "inputs=tf.keras.layers.Input(shape=(224,224,3),name='input_layer')\n",
        "\n",
        "#If you are using a model like ResNet50V2 you will need to rescale it or normalize not needed for efficient net v2\n",
        "#x=tf.keras.layers.experimental.preprocessing.Rescaling(1/255.0)(inputs) Not needed here!\n",
        "\n",
        "x=base_model((inputs))\n",
        "print(f\"Shape after passing through base model: {x.shape}\")\n",
        "\n",
        "#Aggregating the most important information and reducing the dimension also\n",
        "x=tf.keras.layers.GlobalAveragePooling2D(name='global_average_pooling_layer')(x)\n",
        "print(f\"Shape After Global Average Pooling: {x.shape}\")\n",
        "\n",
        "#Create the output activation layer\n",
        "outputs=tf.keras.layers.Dense(10,activation='softmax',name='output_layer')(x)\n",
        "\n",
        "#Combine both inputs and ouputs together\n",
        "model_0=tf.keras.Model(inputs,outputs)\n",
        "\n",
        "model_0.compile(loss='categorical_crossentropy',\n",
        "                optimizer=\"Adam\",\n",
        "                metrics=['accuracy'])\n",
        "\n",
        "history_model_0=model_0.fit(train_data_10_percent,epochs=5,steps_per_epoch=len(train_data_10_percent),\n",
        "            validation_data=test_data,validation_steps=int(0.25*len(test_data)),\n",
        "                    callbacks=[create_tensorboard_callback(dir_name='transfer_learning',\n",
        "                                                           experiment_name='10_percent_feature_extraction')]\n",
        ")"
      ],
      "metadata": {
        "colab": {
          "base_uri": "https://localhost:8080/",
          "height": 515
        },
        "id": "-BuuLQknRmyw",
        "outputId": "8a31585f-5607-4d17-c9e7-c6597a3e057e"
      },
      "execution_count": 11,
      "outputs": [
        {
          "output_type": "stream",
          "name": "stdout",
          "text": [
            "Downloading data from https://storage.googleapis.com/tensorflow/keras-applications/efficientnet_v2/efficientnetv2-b0_notop.h5\n",
            "\u001b[1m24274472/24274472\u001b[0m \u001b[32m━━━━━━━━━━━━━━━━━━━━\u001b[0m\u001b[37m\u001b[0m \u001b[1m0s\u001b[0m 0us/step\n",
            "Shape after passing through base model: (None, 7, 7, 1280)\n",
            "Shape After Global Average Pooling: (None, 1280)\n",
            "Saving TensorBoard log files to: transfer_learning/10_percent_feature_extraction/20240901-072231\n",
            "Epoch 1/5\n",
            "\u001b[1m24/24\u001b[0m \u001b[32m━━━━━━━━━━━━━━━━━━━━\u001b[0m\u001b[37m\u001b[0m \u001b[1m0s\u001b[0m 2s/step - accuracy: 0.3191 - loss: 2.0721"
          ]
        },
        {
          "output_type": "error",
          "ename": "KeyboardInterrupt",
          "evalue": "",
          "traceback": [
            "\u001b[0;31m---------------------------------------------------------------------------\u001b[0m",
            "\u001b[0;31mKeyboardInterrupt\u001b[0m                         Traceback (most recent call last)",
            "\u001b[0;32m<ipython-input-11-1752112fe9c4>\u001b[0m in \u001b[0;36m<cell line: 26>\u001b[0;34m()\u001b[0m\n\u001b[1;32m     24\u001b[0m                 metrics=['accuracy'])\n\u001b[1;32m     25\u001b[0m \u001b[0;34m\u001b[0m\u001b[0m\n\u001b[0;32m---> 26\u001b[0;31m history_model_0=model_0.fit(train_data_10_percent,epochs=5,steps_per_epoch=len(train_data_10_percent),\n\u001b[0m\u001b[1;32m     27\u001b[0m             \u001b[0mvalidation_data\u001b[0m\u001b[0;34m=\u001b[0m\u001b[0mtest_data\u001b[0m\u001b[0;34m,\u001b[0m\u001b[0mvalidation_steps\u001b[0m\u001b[0;34m=\u001b[0m\u001b[0mint\u001b[0m\u001b[0;34m(\u001b[0m\u001b[0;36m0.25\u001b[0m\u001b[0;34m*\u001b[0m\u001b[0mlen\u001b[0m\u001b[0;34m(\u001b[0m\u001b[0mtest_data\u001b[0m\u001b[0;34m)\u001b[0m\u001b[0;34m)\u001b[0m\u001b[0;34m,\u001b[0m\u001b[0;34m\u001b[0m\u001b[0;34m\u001b[0m\u001b[0m\n\u001b[1;32m     28\u001b[0m                     callbacks=[create_tensorboard_callback(dir_name='transfer_learning',\n",
            "\u001b[0;32m/usr/local/lib/python3.10/dist-packages/keras/src/utils/traceback_utils.py\u001b[0m in \u001b[0;36merror_handler\u001b[0;34m(*args, **kwargs)\u001b[0m\n\u001b[1;32m    115\u001b[0m         \u001b[0mfiltered_tb\u001b[0m \u001b[0;34m=\u001b[0m \u001b[0;32mNone\u001b[0m\u001b[0;34m\u001b[0m\u001b[0;34m\u001b[0m\u001b[0m\n\u001b[1;32m    116\u001b[0m         \u001b[0;32mtry\u001b[0m\u001b[0;34m:\u001b[0m\u001b[0;34m\u001b[0m\u001b[0;34m\u001b[0m\u001b[0m\n\u001b[0;32m--> 117\u001b[0;31m             \u001b[0;32mreturn\u001b[0m \u001b[0mfn\u001b[0m\u001b[0;34m(\u001b[0m\u001b[0;34m*\u001b[0m\u001b[0margs\u001b[0m\u001b[0;34m,\u001b[0m \u001b[0;34m**\u001b[0m\u001b[0mkwargs\u001b[0m\u001b[0;34m)\u001b[0m\u001b[0;34m\u001b[0m\u001b[0;34m\u001b[0m\u001b[0m\n\u001b[0m\u001b[1;32m    118\u001b[0m         \u001b[0;32mexcept\u001b[0m \u001b[0mException\u001b[0m \u001b[0;32mas\u001b[0m \u001b[0me\u001b[0m\u001b[0;34m:\u001b[0m\u001b[0;34m\u001b[0m\u001b[0;34m\u001b[0m\u001b[0m\n\u001b[1;32m    119\u001b[0m             \u001b[0mfiltered_tb\u001b[0m \u001b[0;34m=\u001b[0m \u001b[0m_process_traceback_frames\u001b[0m\u001b[0;34m(\u001b[0m\u001b[0me\u001b[0m\u001b[0;34m.\u001b[0m\u001b[0m__traceback__\u001b[0m\u001b[0;34m)\u001b[0m\u001b[0;34m\u001b[0m\u001b[0;34m\u001b[0m\u001b[0m\n",
            "\u001b[0;32m/usr/local/lib/python3.10/dist-packages/keras/src/backend/tensorflow/trainer.py\u001b[0m in \u001b[0;36mfit\u001b[0;34m(self, x, y, batch_size, epochs, verbose, callbacks, validation_split, validation_data, shuffle, class_weight, sample_weight, initial_epoch, steps_per_epoch, validation_steps, validation_batch_size, validation_freq)\u001b[0m\n\u001b[1;32m    341\u001b[0m                         \u001b[0mshuffle\u001b[0m\u001b[0;34m=\u001b[0m\u001b[0;32mFalse\u001b[0m\u001b[0;34m,\u001b[0m\u001b[0;34m\u001b[0m\u001b[0;34m\u001b[0m\u001b[0m\n\u001b[1;32m    342\u001b[0m                     )\n\u001b[0;32m--> 343\u001b[0;31m                 val_logs = self.evaluate(\n\u001b[0m\u001b[1;32m    344\u001b[0m                     \u001b[0mx\u001b[0m\u001b[0;34m=\u001b[0m\u001b[0mval_x\u001b[0m\u001b[0;34m,\u001b[0m\u001b[0;34m\u001b[0m\u001b[0;34m\u001b[0m\u001b[0m\n\u001b[1;32m    345\u001b[0m                     \u001b[0my\u001b[0m\u001b[0;34m=\u001b[0m\u001b[0mval_y\u001b[0m\u001b[0;34m,\u001b[0m\u001b[0;34m\u001b[0m\u001b[0;34m\u001b[0m\u001b[0m\n",
            "\u001b[0;32m/usr/local/lib/python3.10/dist-packages/keras/src/utils/traceback_utils.py\u001b[0m in \u001b[0;36merror_handler\u001b[0;34m(*args, **kwargs)\u001b[0m\n\u001b[1;32m    115\u001b[0m         \u001b[0mfiltered_tb\u001b[0m \u001b[0;34m=\u001b[0m \u001b[0;32mNone\u001b[0m\u001b[0;34m\u001b[0m\u001b[0;34m\u001b[0m\u001b[0m\n\u001b[1;32m    116\u001b[0m         \u001b[0;32mtry\u001b[0m\u001b[0;34m:\u001b[0m\u001b[0;34m\u001b[0m\u001b[0;34m\u001b[0m\u001b[0m\n\u001b[0;32m--> 117\u001b[0;31m             \u001b[0;32mreturn\u001b[0m \u001b[0mfn\u001b[0m\u001b[0;34m(\u001b[0m\u001b[0;34m*\u001b[0m\u001b[0margs\u001b[0m\u001b[0;34m,\u001b[0m \u001b[0;34m**\u001b[0m\u001b[0mkwargs\u001b[0m\u001b[0;34m)\u001b[0m\u001b[0;34m\u001b[0m\u001b[0;34m\u001b[0m\u001b[0m\n\u001b[0m\u001b[1;32m    118\u001b[0m         \u001b[0;32mexcept\u001b[0m \u001b[0mException\u001b[0m \u001b[0;32mas\u001b[0m \u001b[0me\u001b[0m\u001b[0;34m:\u001b[0m\u001b[0;34m\u001b[0m\u001b[0;34m\u001b[0m\u001b[0m\n\u001b[1;32m    119\u001b[0m             \u001b[0mfiltered_tb\u001b[0m \u001b[0;34m=\u001b[0m \u001b[0m_process_traceback_frames\u001b[0m\u001b[0;34m(\u001b[0m\u001b[0me\u001b[0m\u001b[0;34m.\u001b[0m\u001b[0m__traceback__\u001b[0m\u001b[0;34m)\u001b[0m\u001b[0;34m\u001b[0m\u001b[0;34m\u001b[0m\u001b[0m\n",
            "\u001b[0;32m/usr/local/lib/python3.10/dist-packages/keras/src/backend/tensorflow/trainer.py\u001b[0m in \u001b[0;36mevaluate\u001b[0;34m(self, x, y, batch_size, verbose, sample_weight, steps, callbacks, return_dict, **kwargs)\u001b[0m\n\u001b[1;32m    427\u001b[0m             \u001b[0;32mfor\u001b[0m \u001b[0mstep\u001b[0m\u001b[0;34m,\u001b[0m \u001b[0miterator\u001b[0m \u001b[0;32min\u001b[0m \u001b[0mepoch_iterator\u001b[0m\u001b[0;34m.\u001b[0m\u001b[0menumerate_epoch\u001b[0m\u001b[0;34m(\u001b[0m\u001b[0;34m)\u001b[0m\u001b[0;34m:\u001b[0m\u001b[0;34m\u001b[0m\u001b[0;34m\u001b[0m\u001b[0m\n\u001b[1;32m    428\u001b[0m                 \u001b[0mcallbacks\u001b[0m\u001b[0;34m.\u001b[0m\u001b[0mon_test_batch_begin\u001b[0m\u001b[0;34m(\u001b[0m\u001b[0mstep\u001b[0m\u001b[0;34m)\u001b[0m\u001b[0;34m\u001b[0m\u001b[0;34m\u001b[0m\u001b[0m\n\u001b[0;32m--> 429\u001b[0;31m                 \u001b[0mlogs\u001b[0m \u001b[0;34m=\u001b[0m \u001b[0mself\u001b[0m\u001b[0;34m.\u001b[0m\u001b[0mtest_function\u001b[0m\u001b[0;34m(\u001b[0m\u001b[0miterator\u001b[0m\u001b[0;34m)\u001b[0m\u001b[0;34m\u001b[0m\u001b[0;34m\u001b[0m\u001b[0m\n\u001b[0m\u001b[1;32m    430\u001b[0m                 \u001b[0mlogs\u001b[0m \u001b[0;34m=\u001b[0m \u001b[0mself\u001b[0m\u001b[0;34m.\u001b[0m\u001b[0m_pythonify_logs\u001b[0m\u001b[0;34m(\u001b[0m\u001b[0mlogs\u001b[0m\u001b[0;34m)\u001b[0m\u001b[0;34m\u001b[0m\u001b[0;34m\u001b[0m\u001b[0m\n\u001b[1;32m    431\u001b[0m                 \u001b[0mcallbacks\u001b[0m\u001b[0;34m.\u001b[0m\u001b[0mon_test_batch_end\u001b[0m\u001b[0;34m(\u001b[0m\u001b[0mstep\u001b[0m\u001b[0;34m,\u001b[0m \u001b[0mlogs\u001b[0m\u001b[0;34m)\u001b[0m\u001b[0;34m\u001b[0m\u001b[0;34m\u001b[0m\u001b[0m\n",
            "\u001b[0;32m/usr/local/lib/python3.10/dist-packages/tensorflow/python/util/traceback_utils.py\u001b[0m in \u001b[0;36merror_handler\u001b[0;34m(*args, **kwargs)\u001b[0m\n\u001b[1;32m    148\u001b[0m     \u001b[0mfiltered_tb\u001b[0m \u001b[0;34m=\u001b[0m \u001b[0;32mNone\u001b[0m\u001b[0;34m\u001b[0m\u001b[0;34m\u001b[0m\u001b[0m\n\u001b[1;32m    149\u001b[0m     \u001b[0;32mtry\u001b[0m\u001b[0;34m:\u001b[0m\u001b[0;34m\u001b[0m\u001b[0;34m\u001b[0m\u001b[0m\n\u001b[0;32m--> 150\u001b[0;31m       \u001b[0;32mreturn\u001b[0m \u001b[0mfn\u001b[0m\u001b[0;34m(\u001b[0m\u001b[0;34m*\u001b[0m\u001b[0margs\u001b[0m\u001b[0;34m,\u001b[0m \u001b[0;34m**\u001b[0m\u001b[0mkwargs\u001b[0m\u001b[0;34m)\u001b[0m\u001b[0;34m\u001b[0m\u001b[0;34m\u001b[0m\u001b[0m\n\u001b[0m\u001b[1;32m    151\u001b[0m     \u001b[0;32mexcept\u001b[0m \u001b[0mException\u001b[0m \u001b[0;32mas\u001b[0m \u001b[0me\u001b[0m\u001b[0;34m:\u001b[0m\u001b[0;34m\u001b[0m\u001b[0;34m\u001b[0m\u001b[0m\n\u001b[1;32m    152\u001b[0m       \u001b[0mfiltered_tb\u001b[0m \u001b[0;34m=\u001b[0m \u001b[0m_process_traceback_frames\u001b[0m\u001b[0;34m(\u001b[0m\u001b[0me\u001b[0m\u001b[0;34m.\u001b[0m\u001b[0m__traceback__\u001b[0m\u001b[0;34m)\u001b[0m\u001b[0;34m\u001b[0m\u001b[0;34m\u001b[0m\u001b[0m\n",
            "\u001b[0;32m/usr/local/lib/python3.10/dist-packages/tensorflow/python/eager/polymorphic_function/polymorphic_function.py\u001b[0m in \u001b[0;36m__call__\u001b[0;34m(self, *args, **kwds)\u001b[0m\n\u001b[1;32m    831\u001b[0m \u001b[0;34m\u001b[0m\u001b[0m\n\u001b[1;32m    832\u001b[0m       \u001b[0;32mwith\u001b[0m \u001b[0mOptionalXlaContext\u001b[0m\u001b[0;34m(\u001b[0m\u001b[0mself\u001b[0m\u001b[0;34m.\u001b[0m\u001b[0m_jit_compile\u001b[0m\u001b[0;34m)\u001b[0m\u001b[0;34m:\u001b[0m\u001b[0;34m\u001b[0m\u001b[0;34m\u001b[0m\u001b[0m\n\u001b[0;32m--> 833\u001b[0;31m         \u001b[0mresult\u001b[0m \u001b[0;34m=\u001b[0m \u001b[0mself\u001b[0m\u001b[0;34m.\u001b[0m\u001b[0m_call\u001b[0m\u001b[0;34m(\u001b[0m\u001b[0;34m*\u001b[0m\u001b[0margs\u001b[0m\u001b[0;34m,\u001b[0m \u001b[0;34m**\u001b[0m\u001b[0mkwds\u001b[0m\u001b[0;34m)\u001b[0m\u001b[0;34m\u001b[0m\u001b[0;34m\u001b[0m\u001b[0m\n\u001b[0m\u001b[1;32m    834\u001b[0m \u001b[0;34m\u001b[0m\u001b[0m\n\u001b[1;32m    835\u001b[0m       \u001b[0mnew_tracing_count\u001b[0m \u001b[0;34m=\u001b[0m \u001b[0mself\u001b[0m\u001b[0;34m.\u001b[0m\u001b[0mexperimental_get_tracing_count\u001b[0m\u001b[0;34m(\u001b[0m\u001b[0;34m)\u001b[0m\u001b[0;34m\u001b[0m\u001b[0;34m\u001b[0m\u001b[0m\n",
            "\u001b[0;32m/usr/local/lib/python3.10/dist-packages/tensorflow/python/eager/polymorphic_function/polymorphic_function.py\u001b[0m in \u001b[0;36m_call\u001b[0;34m(self, *args, **kwds)\u001b[0m\n\u001b[1;32m    876\u001b[0m       \u001b[0;31m# In this case we have not created variables on the first call. So we can\u001b[0m\u001b[0;34m\u001b[0m\u001b[0;34m\u001b[0m\u001b[0m\n\u001b[1;32m    877\u001b[0m       \u001b[0;31m# run the first trace but we should fail if variables are created.\u001b[0m\u001b[0;34m\u001b[0m\u001b[0;34m\u001b[0m\u001b[0m\n\u001b[0;32m--> 878\u001b[0;31m       results = tracing_compilation.call_function(\n\u001b[0m\u001b[1;32m    879\u001b[0m           \u001b[0margs\u001b[0m\u001b[0;34m,\u001b[0m \u001b[0mkwds\u001b[0m\u001b[0;34m,\u001b[0m \u001b[0mself\u001b[0m\u001b[0;34m.\u001b[0m\u001b[0m_variable_creation_config\u001b[0m\u001b[0;34m\u001b[0m\u001b[0;34m\u001b[0m\u001b[0m\n\u001b[1;32m    880\u001b[0m       )\n",
            "\u001b[0;32m/usr/local/lib/python3.10/dist-packages/tensorflow/python/eager/polymorphic_function/tracing_compilation.py\u001b[0m in \u001b[0;36mcall_function\u001b[0;34m(args, kwargs, tracing_options)\u001b[0m\n\u001b[1;32m    137\u001b[0m   \u001b[0mbound_args\u001b[0m \u001b[0;34m=\u001b[0m \u001b[0mfunction\u001b[0m\u001b[0;34m.\u001b[0m\u001b[0mfunction_type\u001b[0m\u001b[0;34m.\u001b[0m\u001b[0mbind\u001b[0m\u001b[0;34m(\u001b[0m\u001b[0;34m*\u001b[0m\u001b[0margs\u001b[0m\u001b[0;34m,\u001b[0m \u001b[0;34m**\u001b[0m\u001b[0mkwargs\u001b[0m\u001b[0;34m)\u001b[0m\u001b[0;34m\u001b[0m\u001b[0;34m\u001b[0m\u001b[0m\n\u001b[1;32m    138\u001b[0m   \u001b[0mflat_inputs\u001b[0m \u001b[0;34m=\u001b[0m \u001b[0mfunction\u001b[0m\u001b[0;34m.\u001b[0m\u001b[0mfunction_type\u001b[0m\u001b[0;34m.\u001b[0m\u001b[0munpack_inputs\u001b[0m\u001b[0;34m(\u001b[0m\u001b[0mbound_args\u001b[0m\u001b[0;34m)\u001b[0m\u001b[0;34m\u001b[0m\u001b[0;34m\u001b[0m\u001b[0m\n\u001b[0;32m--> 139\u001b[0;31m   return function._call_flat(  # pylint: disable=protected-access\n\u001b[0m\u001b[1;32m    140\u001b[0m       \u001b[0mflat_inputs\u001b[0m\u001b[0;34m,\u001b[0m \u001b[0mcaptured_inputs\u001b[0m\u001b[0;34m=\u001b[0m\u001b[0mfunction\u001b[0m\u001b[0;34m.\u001b[0m\u001b[0mcaptured_inputs\u001b[0m\u001b[0;34m\u001b[0m\u001b[0;34m\u001b[0m\u001b[0m\n\u001b[1;32m    141\u001b[0m   )\n",
            "\u001b[0;32m/usr/local/lib/python3.10/dist-packages/tensorflow/python/eager/polymorphic_function/concrete_function.py\u001b[0m in \u001b[0;36m_call_flat\u001b[0;34m(self, tensor_inputs, captured_inputs)\u001b[0m\n\u001b[1;32m   1320\u001b[0m         and executing_eagerly):\n\u001b[1;32m   1321\u001b[0m       \u001b[0;31m# No tape is watching; skip to running the function.\u001b[0m\u001b[0;34m\u001b[0m\u001b[0;34m\u001b[0m\u001b[0m\n\u001b[0;32m-> 1322\u001b[0;31m       \u001b[0;32mreturn\u001b[0m \u001b[0mself\u001b[0m\u001b[0;34m.\u001b[0m\u001b[0m_inference_function\u001b[0m\u001b[0;34m.\u001b[0m\u001b[0mcall_preflattened\u001b[0m\u001b[0;34m(\u001b[0m\u001b[0margs\u001b[0m\u001b[0;34m)\u001b[0m\u001b[0;34m\u001b[0m\u001b[0;34m\u001b[0m\u001b[0m\n\u001b[0m\u001b[1;32m   1323\u001b[0m     forward_backward = self._select_forward_and_backward_functions(\n\u001b[1;32m   1324\u001b[0m         \u001b[0margs\u001b[0m\u001b[0;34m,\u001b[0m\u001b[0;34m\u001b[0m\u001b[0;34m\u001b[0m\u001b[0m\n",
            "\u001b[0;32m/usr/local/lib/python3.10/dist-packages/tensorflow/python/eager/polymorphic_function/atomic_function.py\u001b[0m in \u001b[0;36mcall_preflattened\u001b[0;34m(self, args)\u001b[0m\n\u001b[1;32m    214\u001b[0m   \u001b[0;32mdef\u001b[0m \u001b[0mcall_preflattened\u001b[0m\u001b[0;34m(\u001b[0m\u001b[0mself\u001b[0m\u001b[0;34m,\u001b[0m \u001b[0margs\u001b[0m\u001b[0;34m:\u001b[0m \u001b[0mSequence\u001b[0m\u001b[0;34m[\u001b[0m\u001b[0mcore\u001b[0m\u001b[0;34m.\u001b[0m\u001b[0mTensor\u001b[0m\u001b[0;34m]\u001b[0m\u001b[0;34m)\u001b[0m \u001b[0;34m->\u001b[0m \u001b[0mAny\u001b[0m\u001b[0;34m:\u001b[0m\u001b[0;34m\u001b[0m\u001b[0;34m\u001b[0m\u001b[0m\n\u001b[1;32m    215\u001b[0m     \u001b[0;34m\"\"\"Calls with flattened tensor inputs and returns the structured output.\"\"\"\u001b[0m\u001b[0;34m\u001b[0m\u001b[0;34m\u001b[0m\u001b[0m\n\u001b[0;32m--> 216\u001b[0;31m     \u001b[0mflat_outputs\u001b[0m \u001b[0;34m=\u001b[0m \u001b[0mself\u001b[0m\u001b[0;34m.\u001b[0m\u001b[0mcall_flat\u001b[0m\u001b[0;34m(\u001b[0m\u001b[0;34m*\u001b[0m\u001b[0margs\u001b[0m\u001b[0;34m)\u001b[0m\u001b[0;34m\u001b[0m\u001b[0;34m\u001b[0m\u001b[0m\n\u001b[0m\u001b[1;32m    217\u001b[0m     \u001b[0;32mreturn\u001b[0m \u001b[0mself\u001b[0m\u001b[0;34m.\u001b[0m\u001b[0mfunction_type\u001b[0m\u001b[0;34m.\u001b[0m\u001b[0mpack_output\u001b[0m\u001b[0;34m(\u001b[0m\u001b[0mflat_outputs\u001b[0m\u001b[0;34m)\u001b[0m\u001b[0;34m\u001b[0m\u001b[0;34m\u001b[0m\u001b[0m\n\u001b[1;32m    218\u001b[0m \u001b[0;34m\u001b[0m\u001b[0m\n",
            "\u001b[0;32m/usr/local/lib/python3.10/dist-packages/tensorflow/python/eager/polymorphic_function/atomic_function.py\u001b[0m in \u001b[0;36mcall_flat\u001b[0;34m(self, *args)\u001b[0m\n\u001b[1;32m    249\u001b[0m         \u001b[0;32mwith\u001b[0m \u001b[0mrecord\u001b[0m\u001b[0;34m.\u001b[0m\u001b[0mstop_recording\u001b[0m\u001b[0;34m(\u001b[0m\u001b[0;34m)\u001b[0m\u001b[0;34m:\u001b[0m\u001b[0;34m\u001b[0m\u001b[0;34m\u001b[0m\u001b[0m\n\u001b[1;32m    250\u001b[0m           \u001b[0;32mif\u001b[0m \u001b[0mself\u001b[0m\u001b[0;34m.\u001b[0m\u001b[0m_bound_context\u001b[0m\u001b[0;34m.\u001b[0m\u001b[0mexecuting_eagerly\u001b[0m\u001b[0;34m(\u001b[0m\u001b[0;34m)\u001b[0m\u001b[0;34m:\u001b[0m\u001b[0;34m\u001b[0m\u001b[0;34m\u001b[0m\u001b[0m\n\u001b[0;32m--> 251\u001b[0;31m             outputs = self._bound_context.call_function(\n\u001b[0m\u001b[1;32m    252\u001b[0m                 \u001b[0mself\u001b[0m\u001b[0;34m.\u001b[0m\u001b[0mname\u001b[0m\u001b[0;34m,\u001b[0m\u001b[0;34m\u001b[0m\u001b[0;34m\u001b[0m\u001b[0m\n\u001b[1;32m    253\u001b[0m                 \u001b[0mlist\u001b[0m\u001b[0;34m(\u001b[0m\u001b[0margs\u001b[0m\u001b[0;34m)\u001b[0m\u001b[0;34m,\u001b[0m\u001b[0;34m\u001b[0m\u001b[0;34m\u001b[0m\u001b[0m\n",
            "\u001b[0;32m/usr/local/lib/python3.10/dist-packages/tensorflow/python/eager/context.py\u001b[0m in \u001b[0;36mcall_function\u001b[0;34m(self, name, tensor_inputs, num_outputs)\u001b[0m\n\u001b[1;32m   1550\u001b[0m     \u001b[0mcancellation_context\u001b[0m \u001b[0;34m=\u001b[0m \u001b[0mcancellation\u001b[0m\u001b[0;34m.\u001b[0m\u001b[0mcontext\u001b[0m\u001b[0;34m(\u001b[0m\u001b[0;34m)\u001b[0m\u001b[0;34m\u001b[0m\u001b[0;34m\u001b[0m\u001b[0m\n\u001b[1;32m   1551\u001b[0m     \u001b[0;32mif\u001b[0m \u001b[0mcancellation_context\u001b[0m \u001b[0;32mis\u001b[0m \u001b[0;32mNone\u001b[0m\u001b[0;34m:\u001b[0m\u001b[0;34m\u001b[0m\u001b[0;34m\u001b[0m\u001b[0m\n\u001b[0;32m-> 1552\u001b[0;31m       outputs = execute.execute(\n\u001b[0m\u001b[1;32m   1553\u001b[0m           \u001b[0mname\u001b[0m\u001b[0;34m.\u001b[0m\u001b[0mdecode\u001b[0m\u001b[0;34m(\u001b[0m\u001b[0;34m\"utf-8\"\u001b[0m\u001b[0;34m)\u001b[0m\u001b[0;34m,\u001b[0m\u001b[0;34m\u001b[0m\u001b[0;34m\u001b[0m\u001b[0m\n\u001b[1;32m   1554\u001b[0m           \u001b[0mnum_outputs\u001b[0m\u001b[0;34m=\u001b[0m\u001b[0mnum_outputs\u001b[0m\u001b[0;34m,\u001b[0m\u001b[0;34m\u001b[0m\u001b[0;34m\u001b[0m\u001b[0m\n",
            "\u001b[0;32m/usr/local/lib/python3.10/dist-packages/tensorflow/python/eager/execute.py\u001b[0m in \u001b[0;36mquick_execute\u001b[0;34m(op_name, num_outputs, inputs, attrs, ctx, name)\u001b[0m\n\u001b[1;32m     51\u001b[0m   \u001b[0;32mtry\u001b[0m\u001b[0;34m:\u001b[0m\u001b[0;34m\u001b[0m\u001b[0;34m\u001b[0m\u001b[0m\n\u001b[1;32m     52\u001b[0m     \u001b[0mctx\u001b[0m\u001b[0;34m.\u001b[0m\u001b[0mensure_initialized\u001b[0m\u001b[0;34m(\u001b[0m\u001b[0;34m)\u001b[0m\u001b[0;34m\u001b[0m\u001b[0;34m\u001b[0m\u001b[0m\n\u001b[0;32m---> 53\u001b[0;31m     tensors = pywrap_tfe.TFE_Py_Execute(ctx._handle, device_name, op_name,\n\u001b[0m\u001b[1;32m     54\u001b[0m                                         inputs, attrs, num_outputs)\n\u001b[1;32m     55\u001b[0m   \u001b[0;32mexcept\u001b[0m \u001b[0mcore\u001b[0m\u001b[0;34m.\u001b[0m\u001b[0m_NotOkStatusException\u001b[0m \u001b[0;32mas\u001b[0m \u001b[0me\u001b[0m\u001b[0;34m:\u001b[0m\u001b[0;34m\u001b[0m\u001b[0;34m\u001b[0m\u001b[0m\n",
            "\u001b[0;31mKeyboardInterrupt\u001b[0m: "
          ]
        }
      ]
    },
    {
      "cell_type": "code",
      "source": [
        "model_0.evaluate(test_data)"
      ],
      "metadata": {
        "id": "dMqE5hZHW1P0"
      },
      "execution_count": null,
      "outputs": []
    },
    {
      "cell_type": "code",
      "source": [
        "len(base_model.layers)"
      ],
      "metadata": {
        "id": "5JKX2QN4XOwN"
      },
      "execution_count": null,
      "outputs": []
    },
    {
      "cell_type": "code",
      "source": [
        "for layer_name,layer in enumerate(base_model.layers):\n",
        "  print(layer_name,layer.name)"
      ],
      "metadata": {
        "id": "rMzcj66qW3Vr"
      },
      "execution_count": null,
      "outputs": []
    },
    {
      "cell_type": "code",
      "source": [
        "base_model.summary()"
      ],
      "metadata": {
        "id": "xzRSznSiXINQ"
      },
      "execution_count": null,
      "outputs": []
    },
    {
      "cell_type": "code",
      "source": [
        "model_0.summary()"
      ],
      "metadata": {
        "id": "BtcMI9WTXqbl"
      },
      "execution_count": null,
      "outputs": []
    },
    {
      "cell_type": "code",
      "source": [
        "plot_loss_curves(history_model_0)"
      ],
      "metadata": {
        "id": "j5R15ykcXxfh"
      },
      "execution_count": null,
      "outputs": []
    },
    {
      "cell_type": "markdown",
      "source": [
        "## Getting a feature vector from the trained model\n",
        "Global Average Pooling 2d Layer\n",
        "1. shape=(None,7,7,1280)\n",
        "2. But after passing through Global Average Pooling 2d our shape turns into (None,1280)\n",
        "3. Let's try to pass some feature vector of shape (1,4,4,3) and then pass it to GlobalAveragePooling 2D"
      ],
      "metadata": {
        "id": "Y8gsrer_YJxW"
      }
    },
    {
      "cell_type": "code",
      "source": [
        "input_shape=(1,4,4,3)\n",
        "tf.random.set_seed(42)\n",
        "input_tensor=tf.random.normal(input_shape)\n",
        "print(f'Input tensor is {input_tensor}')\n",
        "print(f\"Input shape is {input_tensor.shape}\")"
      ],
      "metadata": {
        "id": "_9GdUj5RZrh3"
      },
      "execution_count": null,
      "outputs": []
    },
    {
      "cell_type": "code",
      "source": [
        "global_average_pooling_2d=tf.keras.layers.GlobalAveragePooling2D()(input_tensor)\n",
        "print(f\"Shape after Global Average Pooling 2D is {global_average_pooling_2d.shape}\")\n",
        "print(f\"Tensor after applying Global Average Pooling 2D is {global_average_pooling_2d}\")"
      ],
      "metadata": {
        "id": "mA35iTi8Z2A0"
      },
      "execution_count": null,
      "outputs": []
    },
    {
      "cell_type": "code",
      "source": [
        "tf.reduce_mean(input_tensor,axis=[1,2]).numpy()"
      ],
      "metadata": {
        "colab": {
          "base_uri": "https://localhost:8080/",
          "height": 141
        },
        "id": "lZHmwjB0azEA",
        "outputId": "d6c26111-5cd0-4b66-8755-24325fe062db"
      },
      "execution_count": 5,
      "outputs": [
        {
          "output_type": "error",
          "ename": "NameError",
          "evalue": "name 'tf' is not defined",
          "traceback": [
            "\u001b[0;31m---------------------------------------------------------------------------\u001b[0m",
            "\u001b[0;31mNameError\u001b[0m                                 Traceback (most recent call last)",
            "\u001b[0;32m<ipython-input-5-4bd8642dd4ac>\u001b[0m in \u001b[0;36m<cell line: 1>\u001b[0;34m()\u001b[0m\n\u001b[0;32m----> 1\u001b[0;31m \u001b[0mtf\u001b[0m\u001b[0;34m.\u001b[0m\u001b[0mreduce_mean\u001b[0m\u001b[0;34m(\u001b[0m\u001b[0minput_tensor\u001b[0m\u001b[0;34m,\u001b[0m\u001b[0maxis\u001b[0m\u001b[0;34m=\u001b[0m\u001b[0;34m[\u001b[0m\u001b[0;36m1\u001b[0m\u001b[0;34m,\u001b[0m\u001b[0;36m2\u001b[0m\u001b[0;34m]\u001b[0m\u001b[0;34m)\u001b[0m\u001b[0;34m.\u001b[0m\u001b[0mnumpy\u001b[0m\u001b[0;34m(\u001b[0m\u001b[0;34m)\u001b[0m\u001b[0;34m\u001b[0m\u001b[0;34m\u001b[0m\u001b[0m\n\u001b[0m",
            "\u001b[0;31mNameError\u001b[0m: name 'tf' is not defined"
          ]
        }
      ]
    },
    {
      "cell_type": "code",
      "source": [
        "!wget https://storage.googleapis.com/ztm_tf_course/food_vision/10_food_classes_1_percent.zip"
      ],
      "metadata": {
        "colab": {
          "base_uri": "https://localhost:8080/"
        },
        "id": "VRoB9e28dh9x",
        "outputId": "c8b72647-ed8e-4619-8052-d24b3e2560b8"
      },
      "execution_count": 7,
      "outputs": [
        {
          "output_type": "stream",
          "name": "stdout",
          "text": [
            "--2024-09-01 08:51:52--  https://storage.googleapis.com/ztm_tf_course/food_vision/10_food_classes_1_percent.zip\n",
            "Resolving storage.googleapis.com (storage.googleapis.com)... 142.250.4.207, 172.253.118.207, 74.125.200.207, ...\n",
            "Connecting to storage.googleapis.com (storage.googleapis.com)|142.250.4.207|:443... connected.\n",
            "HTTP request sent, awaiting response... 200 OK\n",
            "Length: 133612354 (127M) [application/zip]\n",
            "Saving to: ‘10_food_classes_1_percent.zip’\n",
            "\n",
            "10_food_classes_1_p 100%[===================>] 127.42M  21.4MB/s    in 7.1s    \n",
            "\n",
            "2024-09-01 08:52:00 (18.0 MB/s) - ‘10_food_classes_1_percent.zip’ saved [133612354/133612354]\n",
            "\n"
          ]
        }
      ]
    },
    {
      "cell_type": "code",
      "source": [
        "import tensorflow as tf"
      ],
      "metadata": {
        "id": "kV7hfE_FtSX4"
      },
      "execution_count": 9,
      "outputs": []
    },
    {
      "cell_type": "code",
      "source": [
        "unzip_data('10_food_classes_1_percent.zip')"
      ],
      "metadata": {
        "id": "_axzbnIRbwk4"
      },
      "execution_count": 9,
      "outputs": []
    },
    {
      "cell_type": "code",
      "source": [
        "train_dir_1_percent='/content/10_food_classes_1_percent/train'\n",
        "test_dir='/content/10_food_classes_1_percent/test'"
      ],
      "metadata": {
        "id": "vu3rca43eapr"
      },
      "execution_count": 10,
      "outputs": []
    },
    {
      "cell_type": "code",
      "source": [
        "walk_through_dir('10_food_classes_1_percent')"
      ],
      "metadata": {
        "id": "y_pldg7FexTO"
      },
      "execution_count": 11,
      "outputs": []
    },
    {
      "cell_type": "code",
      "source": [
        "IMAGE_SIZE=(224,224)\n",
        "BATCH_SIZE=32\n",
        "\n",
        "train_data_1_percent=tf.keras.preprocessing.image_dataset_from_directory(train_dir_1_percent,\n",
        "                                                                         label_mode='categorical',\n",
        "                                                                         image_size=IMAGE_SIZE,\n",
        "                                                                         batch_size=BATCH_SIZE)\n",
        "\n",
        "test_data=tf.keras.preprocessing.image_dataset_from_directory(test_dir,\n",
        "                                                              label_mode='categorical',\n",
        "                                                              image_size=IMAGE_SIZE,\n",
        "                                                              batch_size=BATCH_SIZE)"
      ],
      "metadata": {
        "colab": {
          "base_uri": "https://localhost:8080/",
          "height": 356
        },
        "id": "o83Ah894erq0",
        "outputId": "fdb41621-6f02-4d4c-bde8-5330d67ab804"
      },
      "execution_count": 12,
      "outputs": [
        {
          "output_type": "error",
          "ename": "NotFoundError",
          "evalue": "Could not find directory /content/10_food_classes_1_percent/train",
          "traceback": [
            "\u001b[0;31m---------------------------------------------------------------------------\u001b[0m",
            "\u001b[0;31mNotFoundError\u001b[0m                             Traceback (most recent call last)",
            "\u001b[0;32m<ipython-input-12-9df85e4330ff>\u001b[0m in \u001b[0;36m<cell line: 4>\u001b[0;34m()\u001b[0m\n\u001b[1;32m      2\u001b[0m \u001b[0mBATCH_SIZE\u001b[0m\u001b[0;34m=\u001b[0m\u001b[0;36m32\u001b[0m\u001b[0;34m\u001b[0m\u001b[0;34m\u001b[0m\u001b[0m\n\u001b[1;32m      3\u001b[0m \u001b[0;34m\u001b[0m\u001b[0m\n\u001b[0;32m----> 4\u001b[0;31m train_data_1_percent=tf.keras.preprocessing.image_dataset_from_directory(train_dir_1_percent,\n\u001b[0m\u001b[1;32m      5\u001b[0m                                                                          \u001b[0mlabel_mode\u001b[0m\u001b[0;34m=\u001b[0m\u001b[0;34m'categorical'\u001b[0m\u001b[0;34m,\u001b[0m\u001b[0;34m\u001b[0m\u001b[0;34m\u001b[0m\u001b[0m\n\u001b[1;32m      6\u001b[0m                                                                          \u001b[0mimage_size\u001b[0m\u001b[0;34m=\u001b[0m\u001b[0mIMAGE_SIZE\u001b[0m\u001b[0;34m,\u001b[0m\u001b[0;34m\u001b[0m\u001b[0;34m\u001b[0m\u001b[0m\n",
            "\u001b[0;32m/usr/local/lib/python3.10/dist-packages/keras/src/utils/image_dataset_utils.py\u001b[0m in \u001b[0;36mimage_dataset_from_directory\u001b[0;34m(directory, labels, label_mode, class_names, color_mode, batch_size, image_size, shuffle, seed, validation_split, subset, interpolation, follow_links, crop_to_aspect_ratio, pad_to_aspect_ratio, data_format, verbose)\u001b[0m\n\u001b[1;32m    221\u001b[0m     \u001b[0;32mif\u001b[0m \u001b[0mseed\u001b[0m \u001b[0;32mis\u001b[0m \u001b[0;32mNone\u001b[0m\u001b[0;34m:\u001b[0m\u001b[0;34m\u001b[0m\u001b[0;34m\u001b[0m\u001b[0m\n\u001b[1;32m    222\u001b[0m         \u001b[0mseed\u001b[0m \u001b[0;34m=\u001b[0m \u001b[0mnp\u001b[0m\u001b[0;34m.\u001b[0m\u001b[0mrandom\u001b[0m\u001b[0;34m.\u001b[0m\u001b[0mrandint\u001b[0m\u001b[0;34m(\u001b[0m\u001b[0;36m1e6\u001b[0m\u001b[0;34m)\u001b[0m\u001b[0;34m\u001b[0m\u001b[0;34m\u001b[0m\u001b[0m\n\u001b[0;32m--> 223\u001b[0;31m     image_paths, labels, class_names = dataset_utils.index_directory(\n\u001b[0m\u001b[1;32m    224\u001b[0m         \u001b[0mdirectory\u001b[0m\u001b[0;34m,\u001b[0m\u001b[0;34m\u001b[0m\u001b[0;34m\u001b[0m\u001b[0m\n\u001b[1;32m    225\u001b[0m         \u001b[0mlabels\u001b[0m\u001b[0;34m,\u001b[0m\u001b[0;34m\u001b[0m\u001b[0;34m\u001b[0m\u001b[0m\n",
            "\u001b[0;32m/usr/local/lib/python3.10/dist-packages/keras/src/utils/dataset_utils.py\u001b[0m in \u001b[0;36mindex_directory\u001b[0;34m(directory, labels, formats, class_names, shuffle, seed, follow_links, verbose)\u001b[0m\n\u001b[1;32m    528\u001b[0m     \u001b[0;32mif\u001b[0m \u001b[0mlabels\u001b[0m \u001b[0;34m==\u001b[0m \u001b[0;34m\"inferred\"\u001b[0m\u001b[0;34m:\u001b[0m\u001b[0;34m\u001b[0m\u001b[0;34m\u001b[0m\u001b[0m\n\u001b[1;32m    529\u001b[0m         \u001b[0msubdirs\u001b[0m \u001b[0;34m=\u001b[0m \u001b[0;34m[\u001b[0m\u001b[0;34m]\u001b[0m\u001b[0;34m\u001b[0m\u001b[0;34m\u001b[0m\u001b[0m\n\u001b[0;32m--> 530\u001b[0;31m         \u001b[0;32mfor\u001b[0m \u001b[0msubdir\u001b[0m \u001b[0;32min\u001b[0m \u001b[0msorted\u001b[0m\u001b[0;34m(\u001b[0m\u001b[0mtf\u001b[0m\u001b[0;34m.\u001b[0m\u001b[0mio\u001b[0m\u001b[0;34m.\u001b[0m\u001b[0mgfile\u001b[0m\u001b[0;34m.\u001b[0m\u001b[0mlistdir\u001b[0m\u001b[0;34m(\u001b[0m\u001b[0mdirectory\u001b[0m\u001b[0;34m)\u001b[0m\u001b[0;34m)\u001b[0m\u001b[0;34m:\u001b[0m\u001b[0;34m\u001b[0m\u001b[0;34m\u001b[0m\u001b[0m\n\u001b[0m\u001b[1;32m    531\u001b[0m             \u001b[0;32mif\u001b[0m \u001b[0mtf\u001b[0m\u001b[0;34m.\u001b[0m\u001b[0mio\u001b[0m\u001b[0;34m.\u001b[0m\u001b[0mgfile\u001b[0m\u001b[0;34m.\u001b[0m\u001b[0misdir\u001b[0m\u001b[0;34m(\u001b[0m\u001b[0mtf\u001b[0m\u001b[0;34m.\u001b[0m\u001b[0mio\u001b[0m\u001b[0;34m.\u001b[0m\u001b[0mgfile\u001b[0m\u001b[0;34m.\u001b[0m\u001b[0mjoin\u001b[0m\u001b[0;34m(\u001b[0m\u001b[0mdirectory\u001b[0m\u001b[0;34m,\u001b[0m \u001b[0msubdir\u001b[0m\u001b[0;34m)\u001b[0m\u001b[0;34m)\u001b[0m\u001b[0;34m:\u001b[0m\u001b[0;34m\u001b[0m\u001b[0;34m\u001b[0m\u001b[0m\n\u001b[1;32m    532\u001b[0m                 \u001b[0;32mif\u001b[0m \u001b[0;32mnot\u001b[0m \u001b[0msubdir\u001b[0m\u001b[0;34m.\u001b[0m\u001b[0mstartswith\u001b[0m\u001b[0;34m(\u001b[0m\u001b[0;34m\".\"\u001b[0m\u001b[0;34m)\u001b[0m\u001b[0;34m:\u001b[0m\u001b[0;34m\u001b[0m\u001b[0;34m\u001b[0m\u001b[0m\n",
            "\u001b[0;32m/usr/local/lib/python3.10/dist-packages/tensorflow/python/lib/io/file_io.py\u001b[0m in \u001b[0;36mlist_directory_v2\u001b[0;34m(path)\u001b[0m\n\u001b[1;32m    766\u001b[0m   \"\"\"\n\u001b[1;32m    767\u001b[0m   \u001b[0;32mif\u001b[0m \u001b[0;32mnot\u001b[0m \u001b[0mis_directory\u001b[0m\u001b[0;34m(\u001b[0m\u001b[0mpath\u001b[0m\u001b[0;34m)\u001b[0m\u001b[0;34m:\u001b[0m\u001b[0;34m\u001b[0m\u001b[0;34m\u001b[0m\u001b[0m\n\u001b[0;32m--> 768\u001b[0;31m     raise errors.NotFoundError(\n\u001b[0m\u001b[1;32m    769\u001b[0m         \u001b[0mnode_def\u001b[0m\u001b[0;34m=\u001b[0m\u001b[0;32mNone\u001b[0m\u001b[0;34m,\u001b[0m\u001b[0;34m\u001b[0m\u001b[0;34m\u001b[0m\u001b[0m\n\u001b[1;32m    770\u001b[0m         \u001b[0mop\u001b[0m\u001b[0;34m=\u001b[0m\u001b[0;32mNone\u001b[0m\u001b[0;34m,\u001b[0m\u001b[0;34m\u001b[0m\u001b[0;34m\u001b[0m\u001b[0m\n",
            "\u001b[0;31mNotFoundError\u001b[0m: Could not find directory /content/10_food_classes_1_percent/train"
          ]
        }
      ]
    },
    {
      "cell_type": "markdown",
      "source": [
        "## Let's add data augmentation to our model\n",
        "\n",
        "`tf.keras.experimental.preprocessing()`"
      ],
      "metadata": {
        "id": "x2Eng-ZtfV5Y"
      }
    },
    {
      "cell_type": "code",
      "source": [
        "from tensorflow import keras\n",
        "from tensorflow.keras import layers\n",
        "data_augmentation = tf.keras.Sequential([\n",
        "    layers.Resizing(224, 224),  # Ensuring resizing to the correct shape\n",
        "    layers.RandomFlip(\"horizontal\"),\n",
        "    layers.RandomRotation(0.2),\n",
        "    # Any other augmentation you wish to add\n",
        "])"
      ],
      "metadata": {
        "id": "1N-Vf2omg9tw"
      },
      "execution_count": 13,
      "outputs": []
    },
    {
      "cell_type": "code",
      "source": [
        "### Preprocessing of images happens in GPU rather than CPU\n",
        "### Data Augmentation happens only during training so no problem:\n",
        "\n",
        "\n",
        "import matplotlib.pyplot as plt\n",
        "import matplotlib.image as mpimg\n",
        "import os\n",
        "import random\n",
        "\n",
        "target_class=random.choice(train_data_1_percent.class_names)\n",
        "target_dir=\"10_food_classes_1_percent/train/\"+target_class\n",
        "random_image=random.choice(os.listdir(target_dir))\n",
        "random_image_path=target_dir+\"/\"+random_image\n",
        "img=mpimg.imread(random_image_path)\n",
        "plt.imshow(img)\n",
        "plt.title(f\"Original random image from class {target_class}\")\n",
        "plt.axis(False)\n",
        "\n",
        "augmented_img = data_augmentation(img,training=True) # data augmentation model requires shape (None, height, width, 3)\n",
        "plt.figure()\n",
        "plt.imshow(tf.squeeze(augmented_img)/255.) # requires normalization after augmentation\n",
        "plt.title(f\"Augmented random image from class: {target_class}\")\n",
        "plt.axis(False);\n"
      ],
      "metadata": {
        "colab": {
          "base_uri": "https://localhost:8080/",
          "height": 211
        },
        "id": "fTM0U0rNhtqn",
        "outputId": "68875c2d-728e-474c-90bd-d931ed2137a6"
      },
      "execution_count": 14,
      "outputs": [
        {
          "output_type": "error",
          "ename": "NameError",
          "evalue": "name 'train_data_1_percent' is not defined",
          "traceback": [
            "\u001b[0;31m---------------------------------------------------------------------------\u001b[0m",
            "\u001b[0;31mNameError\u001b[0m                                 Traceback (most recent call last)",
            "\u001b[0;32m<ipython-input-14-387570078980>\u001b[0m in \u001b[0;36m<cell line: 10>\u001b[0;34m()\u001b[0m\n\u001b[1;32m      8\u001b[0m \u001b[0;32mimport\u001b[0m \u001b[0mrandom\u001b[0m\u001b[0;34m\u001b[0m\u001b[0;34m\u001b[0m\u001b[0m\n\u001b[1;32m      9\u001b[0m \u001b[0;34m\u001b[0m\u001b[0m\n\u001b[0;32m---> 10\u001b[0;31m \u001b[0mtarget_class\u001b[0m\u001b[0;34m=\u001b[0m\u001b[0mrandom\u001b[0m\u001b[0;34m.\u001b[0m\u001b[0mchoice\u001b[0m\u001b[0;34m(\u001b[0m\u001b[0mtrain_data_1_percent\u001b[0m\u001b[0;34m.\u001b[0m\u001b[0mclass_names\u001b[0m\u001b[0;34m)\u001b[0m\u001b[0;34m\u001b[0m\u001b[0;34m\u001b[0m\u001b[0m\n\u001b[0m\u001b[1;32m     11\u001b[0m \u001b[0mtarget_dir\u001b[0m\u001b[0;34m=\u001b[0m\u001b[0;34m\"10_food_classes_1_percent/train/\"\u001b[0m\u001b[0;34m+\u001b[0m\u001b[0mtarget_class\u001b[0m\u001b[0;34m\u001b[0m\u001b[0;34m\u001b[0m\u001b[0m\n\u001b[1;32m     12\u001b[0m \u001b[0mrandom_image\u001b[0m\u001b[0;34m=\u001b[0m\u001b[0mrandom\u001b[0m\u001b[0;34m.\u001b[0m\u001b[0mchoice\u001b[0m\u001b[0;34m(\u001b[0m\u001b[0mos\u001b[0m\u001b[0;34m.\u001b[0m\u001b[0mlistdir\u001b[0m\u001b[0;34m(\u001b[0m\u001b[0mtarget_dir\u001b[0m\u001b[0;34m)\u001b[0m\u001b[0;34m)\u001b[0m\u001b[0;34m\u001b[0m\u001b[0;34m\u001b[0m\u001b[0m\n",
            "\u001b[0;31mNameError\u001b[0m: name 'train_data_1_percent' is not defined"
          ]
        }
      ]
    },
    {
      "cell_type": "code",
      "source": [
        "# Define the data augmentation layer with correct input size\n",
        "data_augmentation = tf.keras.Sequential([\n",
        "    layers.Resizing(224, 224),  # Ensuring resizing to the correct shape\n",
        "    layers.RandomFlip(\"horizontal\"),\n",
        "    layers.RandomRotation(0.2),\n",
        "    # Any other augmentation you wish to add\n",
        "])\n",
        "\n",
        "base_model = tf.keras.applications.efficientnet_v2.EfficientNetV2B0(include_top=False)\n",
        "base_model.trainable = False\n",
        "\n",
        "input_shape=(224,224,3)\n",
        "# Define the input layer\n",
        "\n",
        "\n",
        "inputs = layers.Input(shape=input_shape, name=\"input_layer\")\n",
        "\n",
        "# Apply data augmentation to the inputs\n",
        "x = data_augmentation(inputs)\n",
        "\n",
        "# Use the base model\n",
        "x = base_model(x, training=False)\n",
        "\n",
        "# Pool output features of base model\n",
        "x = layers.GlobalAveragePooling2D(name=\"global_average_pooling_layer\")(x)\n",
        "\n",
        "# Define the output layer\n",
        "outputs = layers.Dense(10, activation=\"softmax\", name=\"output_layer\")(x)\n",
        "\n",
        "# Create the model\n",
        "model_1 = keras.Model(inputs, outputs)\n",
        "\n",
        "# Compile the model\n",
        "model_1.compile(loss=\"categorical_crossentropy\",\n",
        "              optimizer=tf.keras.optimizers.Adam(),\n",
        "              metrics=[\"accuracy\"])\n",
        "\n",
        "# Fit the model\n",
        "history_1_percent = model_1.fit(train_data_1_percent,\n",
        "                    epochs=5,\n",
        "                    steps_per_epoch=len(train_data_1_percent),\n",
        "                    validation_data=test_data,\n",
        "                    validation_steps=int(0.25* len(test_data)),\n",
        "                    callbacks=[create_tensorboard_callback(\"transfer_learning\", \"1_percent_data_aug\")])\n"
      ],
      "metadata": {
        "colab": {
          "base_uri": "https://localhost:8080/"
        },
        "id": "KCU37nmYyZVv",
        "outputId": "311d3fbe-07cf-44ba-b397-0fb9330ce8f9"
      },
      "execution_count": 20,
      "outputs": [
        {
          "output_type": "stream",
          "name": "stdout",
          "text": [
            "Saving TensorBoard log files to: transfer_learning/1_percent_data_aug/20240901-085422\n",
            "Epoch 1/5\n",
            "\u001b[1m3/3\u001b[0m \u001b[32m━━━━━━━━━━━━━━━━━━━━\u001b[0m\u001b[37m\u001b[0m \u001b[1m22s\u001b[0m 3s/step - accuracy: 0.0969 - loss: 2.3596 - val_accuracy: 0.1957 - val_loss: 2.2165\n",
            "Epoch 2/5\n"
          ]
        },
        {
          "output_type": "stream",
          "name": "stderr",
          "text": [
            "/usr/lib/python3.10/contextlib.py:153: UserWarning: Your input ran out of data; interrupting training. Make sure that your dataset or generator can generate at least `steps_per_epoch * epochs` batches. You may need to use the `.repeat()` function when building your dataset.\n",
            "  self.gen.throw(typ, value, traceback)\n"
          ]
        },
        {
          "output_type": "stream",
          "name": "stdout",
          "text": [
            "\r\u001b[1m3/3\u001b[0m \u001b[32m━━━━━━━━━━━━━━━━━━━━\u001b[0m\u001b[37m\u001b[0m \u001b[1m1s\u001b[0m 373ms/step - accuracy: 0.0000e+00 - loss: 0.0000e+00 - val_accuracy: 0.2270 - val_loss: 2.1982\n",
            "Epoch 3/5\n",
            "\u001b[1m3/3\u001b[0m \u001b[32m━━━━━━━━━━━━━━━━━━━━\u001b[0m\u001b[37m\u001b[0m \u001b[1m11s\u001b[0m 570ms/step - accuracy: 0.1970 - loss: 2.1704 - val_accuracy: 0.2780 - val_loss: 2.1033\n",
            "Epoch 4/5\n",
            "\u001b[1m3/3\u001b[0m \u001b[32m━━━━━━━━━━━━━━━━━━━━\u001b[0m\u001b[37m\u001b[0m \u001b[1m1s\u001b[0m 433ms/step - accuracy: 0.0000e+00 - loss: 0.0000e+00 - val_accuracy: 0.3141 - val_loss: 2.0802\n",
            "Epoch 5/5\n",
            "\u001b[1m3/3\u001b[0m \u001b[32m━━━━━━━━━━━━━━━━━━━━\u001b[0m\u001b[37m\u001b[0m \u001b[1m5s\u001b[0m 3s/step - accuracy: 0.3693 - loss: 1.9447 - val_accuracy: 0.3088 - val_loss: 1.9804\n"
          ]
        }
      ]
    },
    {
      "cell_type": "code",
      "source": [
        "model_1.summary()"
      ],
      "metadata": {
        "colab": {
          "base_uri": "https://localhost:8080/",
          "height": 321
        },
        "id": "jDnBsg2Oytqr",
        "outputId": "ca70fd14-29e9-4b46-a423-6c155f745fe6"
      },
      "execution_count": 21,
      "outputs": [
        {
          "output_type": "display_data",
          "data": {
            "text/plain": [
              "\u001b[1mModel: \"functional_3\"\u001b[0m\n"
            ],
            "text/html": [
              "<pre style=\"white-space:pre;overflow-x:auto;line-height:normal;font-family:Menlo,'DejaVu Sans Mono',consolas,'Courier New',monospace\"><span style=\"font-weight: bold\">Model: \"functional_3\"</span>\n",
              "</pre>\n"
            ]
          },
          "metadata": {}
        },
        {
          "output_type": "display_data",
          "data": {
            "text/plain": [
              "┏━━━━━━━━━━━━━━━━━━━━━━━━━━━━━━━━━━━━━━┳━━━━━━━━━━━━━━━━━━━━━━━━━━━━━┳━━━━━━━━━━━━━━━━━┓\n",
              "┃\u001b[1m \u001b[0m\u001b[1mLayer (type)                        \u001b[0m\u001b[1m \u001b[0m┃\u001b[1m \u001b[0m\u001b[1mOutput Shape               \u001b[0m\u001b[1m \u001b[0m┃\u001b[1m \u001b[0m\u001b[1m        Param #\u001b[0m\u001b[1m \u001b[0m┃\n",
              "┡━━━━━━━━━━━━━━━━━━━━━━━━━━━━━━━━━━━━━━╇━━━━━━━━━━━━━━━━━━━━━━━━━━━━━╇━━━━━━━━━━━━━━━━━┩\n",
              "│ input_layer (\u001b[38;5;33mInputLayer\u001b[0m)             │ (\u001b[38;5;45mNone\u001b[0m, \u001b[38;5;34m224\u001b[0m, \u001b[38;5;34m224\u001b[0m, \u001b[38;5;34m3\u001b[0m)         │               \u001b[38;5;34m0\u001b[0m │\n",
              "├──────────────────────────────────────┼─────────────────────────────┼─────────────────┤\n",
              "│ sequential_2 (\u001b[38;5;33mSequential\u001b[0m)            │ (\u001b[38;5;45mNone\u001b[0m, \u001b[38;5;34m224\u001b[0m, \u001b[38;5;34m224\u001b[0m, \u001b[38;5;34m3\u001b[0m)         │               \u001b[38;5;34m0\u001b[0m │\n",
              "├──────────────────────────────────────┼─────────────────────────────┼─────────────────┤\n",
              "│ efficientnetv2-b0 (\u001b[38;5;33mFunctional\u001b[0m)       │ (\u001b[38;5;45mNone\u001b[0m, \u001b[38;5;34m7\u001b[0m, \u001b[38;5;34m7\u001b[0m, \u001b[38;5;34m1280\u001b[0m)          │       \u001b[38;5;34m5,919,312\u001b[0m │\n",
              "├──────────────────────────────────────┼─────────────────────────────┼─────────────────┤\n",
              "│ global_average_pooling_layer         │ (\u001b[38;5;45mNone\u001b[0m, \u001b[38;5;34m1280\u001b[0m)                │               \u001b[38;5;34m0\u001b[0m │\n",
              "│ (\u001b[38;5;33mGlobalAveragePooling2D\u001b[0m)             │                             │                 │\n",
              "├──────────────────────────────────────┼─────────────────────────────┼─────────────────┤\n",
              "│ output_layer (\u001b[38;5;33mDense\u001b[0m)                 │ (\u001b[38;5;45mNone\u001b[0m, \u001b[38;5;34m10\u001b[0m)                  │          \u001b[38;5;34m12,810\u001b[0m │\n",
              "└──────────────────────────────────────┴─────────────────────────────┴─────────────────┘\n"
            ],
            "text/html": [
              "<pre style=\"white-space:pre;overflow-x:auto;line-height:normal;font-family:Menlo,'DejaVu Sans Mono',consolas,'Courier New',monospace\">┏━━━━━━━━━━━━━━━━━━━━━━━━━━━━━━━━━━━━━━┳━━━━━━━━━━━━━━━━━━━━━━━━━━━━━┳━━━━━━━━━━━━━━━━━┓\n",
              "┃<span style=\"font-weight: bold\"> Layer (type)                         </span>┃<span style=\"font-weight: bold\"> Output Shape                </span>┃<span style=\"font-weight: bold\">         Param # </span>┃\n",
              "┡━━━━━━━━━━━━━━━━━━━━━━━━━━━━━━━━━━━━━━╇━━━━━━━━━━━━━━━━━━━━━━━━━━━━━╇━━━━━━━━━━━━━━━━━┩\n",
              "│ input_layer (<span style=\"color: #0087ff; text-decoration-color: #0087ff\">InputLayer</span>)             │ (<span style=\"color: #00d7ff; text-decoration-color: #00d7ff\">None</span>, <span style=\"color: #00af00; text-decoration-color: #00af00\">224</span>, <span style=\"color: #00af00; text-decoration-color: #00af00\">224</span>, <span style=\"color: #00af00; text-decoration-color: #00af00\">3</span>)         │               <span style=\"color: #00af00; text-decoration-color: #00af00\">0</span> │\n",
              "├──────────────────────────────────────┼─────────────────────────────┼─────────────────┤\n",
              "│ sequential_2 (<span style=\"color: #0087ff; text-decoration-color: #0087ff\">Sequential</span>)            │ (<span style=\"color: #00d7ff; text-decoration-color: #00d7ff\">None</span>, <span style=\"color: #00af00; text-decoration-color: #00af00\">224</span>, <span style=\"color: #00af00; text-decoration-color: #00af00\">224</span>, <span style=\"color: #00af00; text-decoration-color: #00af00\">3</span>)         │               <span style=\"color: #00af00; text-decoration-color: #00af00\">0</span> │\n",
              "├──────────────────────────────────────┼─────────────────────────────┼─────────────────┤\n",
              "│ efficientnetv2-b0 (<span style=\"color: #0087ff; text-decoration-color: #0087ff\">Functional</span>)       │ (<span style=\"color: #00d7ff; text-decoration-color: #00d7ff\">None</span>, <span style=\"color: #00af00; text-decoration-color: #00af00\">7</span>, <span style=\"color: #00af00; text-decoration-color: #00af00\">7</span>, <span style=\"color: #00af00; text-decoration-color: #00af00\">1280</span>)          │       <span style=\"color: #00af00; text-decoration-color: #00af00\">5,919,312</span> │\n",
              "├──────────────────────────────────────┼─────────────────────────────┼─────────────────┤\n",
              "│ global_average_pooling_layer         │ (<span style=\"color: #00d7ff; text-decoration-color: #00d7ff\">None</span>, <span style=\"color: #00af00; text-decoration-color: #00af00\">1280</span>)                │               <span style=\"color: #00af00; text-decoration-color: #00af00\">0</span> │\n",
              "│ (<span style=\"color: #0087ff; text-decoration-color: #0087ff\">GlobalAveragePooling2D</span>)             │                             │                 │\n",
              "├──────────────────────────────────────┼─────────────────────────────┼─────────────────┤\n",
              "│ output_layer (<span style=\"color: #0087ff; text-decoration-color: #0087ff\">Dense</span>)                 │ (<span style=\"color: #00d7ff; text-decoration-color: #00d7ff\">None</span>, <span style=\"color: #00af00; text-decoration-color: #00af00\">10</span>)                  │          <span style=\"color: #00af00; text-decoration-color: #00af00\">12,810</span> │\n",
              "└──────────────────────────────────────┴─────────────────────────────┴─────────────────┘\n",
              "</pre>\n"
            ]
          },
          "metadata": {}
        },
        {
          "output_type": "display_data",
          "data": {
            "text/plain": [
              "\u001b[1m Total params: \u001b[0m\u001b[38;5;34m5,957,744\u001b[0m (22.73 MB)\n"
            ],
            "text/html": [
              "<pre style=\"white-space:pre;overflow-x:auto;line-height:normal;font-family:Menlo,'DejaVu Sans Mono',consolas,'Courier New',monospace\"><span style=\"font-weight: bold\"> Total params: </span><span style=\"color: #00af00; text-decoration-color: #00af00\">5,957,744</span> (22.73 MB)\n",
              "</pre>\n"
            ]
          },
          "metadata": {}
        },
        {
          "output_type": "display_data",
          "data": {
            "text/plain": [
              "\u001b[1m Trainable params: \u001b[0m\u001b[38;5;34m12,810\u001b[0m (50.04 KB)\n"
            ],
            "text/html": [
              "<pre style=\"white-space:pre;overflow-x:auto;line-height:normal;font-family:Menlo,'DejaVu Sans Mono',consolas,'Courier New',monospace\"><span style=\"font-weight: bold\"> Trainable params: </span><span style=\"color: #00af00; text-decoration-color: #00af00\">12,810</span> (50.04 KB)\n",
              "</pre>\n"
            ]
          },
          "metadata": {}
        },
        {
          "output_type": "display_data",
          "data": {
            "text/plain": [
              "\u001b[1m Non-trainable params: \u001b[0m\u001b[38;5;34m5,919,312\u001b[0m (22.58 MB)\n"
            ],
            "text/html": [
              "<pre style=\"white-space:pre;overflow-x:auto;line-height:normal;font-family:Menlo,'DejaVu Sans Mono',consolas,'Courier New',monospace\"><span style=\"font-weight: bold\"> Non-trainable params: </span><span style=\"color: #00af00; text-decoration-color: #00af00\">5,919,312</span> (22.58 MB)\n",
              "</pre>\n"
            ]
          },
          "metadata": {}
        },
        {
          "output_type": "display_data",
          "data": {
            "text/plain": [
              "\u001b[1m Optimizer params: \u001b[0m\u001b[38;5;34m25,622\u001b[0m (100.09 KB)\n"
            ],
            "text/html": [
              "<pre style=\"white-space:pre;overflow-x:auto;line-height:normal;font-family:Menlo,'DejaVu Sans Mono',consolas,'Courier New',monospace\"><span style=\"font-weight: bold\"> Optimizer params: </span><span style=\"color: #00af00; text-decoration-color: #00af00\">25,622</span> (100.09 KB)\n",
              "</pre>\n"
            ]
          },
          "metadata": {}
        }
      ]
    },
    {
      "cell_type": "code",
      "source": [
        "model_1.evaluate(test_data)"
      ],
      "metadata": {
        "colab": {
          "base_uri": "https://localhost:8080/"
        },
        "id": "JZNIfdUzy_3w",
        "outputId": "17229dfd-8811-4f35-b9bd-c8881edad335"
      },
      "execution_count": 22,
      "outputs": [
        {
          "output_type": "stream",
          "name": "stdout",
          "text": [
            "\u001b[1m79/79\u001b[0m \u001b[32m━━━━━━━━━━━━━━━━━━━━\u001b[0m\u001b[37m\u001b[0m \u001b[1m7s\u001b[0m 85ms/step - accuracy: 0.3742 - loss: 1.9787\n"
          ]
        },
        {
          "output_type": "execute_result",
          "data": {
            "text/plain": [
              "[1.978947639465332, 0.3747999966144562]"
            ]
          },
          "metadata": {},
          "execution_count": 22
        }
      ]
    },
    {
      "cell_type": "code",
      "source": [
        "plot_loss_curves(history_1_percent)"
      ],
      "metadata": {
        "colab": {
          "base_uri": "https://localhost:8080/",
          "height": 927
        },
        "id": "WGBfwCz2zDoM",
        "outputId": "001c25fa-ed29-42e7-8220-f8de77b4f3c6"
      },
      "execution_count": 23,
      "outputs": [
        {
          "output_type": "display_data",
          "data": {
            "text/plain": [
              "<Figure size 640x480 with 1 Axes>"
            ],
            "image/png": "[encoded data removed]"
          },
          "metadata": {}
        },
        {
          "output_type": "display_data",
          "data": {
            "text/plain": [
              "<Figure size 640x480 with 1 Axes>"
            ],
            "image/png": "[encoded data removed]"
          },
          "metadata": {}
        }
      ]
    },
    {
      "cell_type": "code",
      "source": [
        "from tensorflow.keras import layers\n",
        "from tensorflow import keras"
      ],
      "metadata": {
        "id": "K-U6t7gJzbH1"
      },
      "execution_count": 17,
      "outputs": []
    },
    {
      "cell_type": "code",
      "source": [
        "!wget https://storage.googleapis.com/ztm_tf_course/food_vision/10_food_classes_10_percent.zip\n",
        "\n",
        "unzip_data(\"10_food_classes_10_percent.zip\")\n",
        "\n",
        "train_dir='/content/10_food_classes_10_percent/train'\n",
        "test_dir='/content/10_food_classes_10_percent/test'"
      ],
      "metadata": {
        "colab": {
          "base_uri": "https://localhost:8080/"
        },
        "id": "5-Q5Hcyp3-Zz",
        "outputId": "ad61d0cd-de07-41f0-f51b-d964e510c6c9"
      },
      "execution_count": 8,
      "outputs": [
        {
          "output_type": "stream",
          "name": "stdout",
          "text": [
            "--2024-09-01 12:23:05--  https://storage.googleapis.com/ztm_tf_course/food_vision/10_food_classes_10_percent.zip\n",
            "Resolving storage.googleapis.com (storage.googleapis.com)... 142.250.125.207, 142.251.183.207, 142.251.184.207, ...\n",
            "Connecting to storage.googleapis.com (storage.googleapis.com)|142.250.125.207|:443... connected.\n",
            "HTTP request sent, awaiting response... 200 OK\n",
            "Length: 168546183 (161M) [application/zip]\n",
            "Saving to: ‘10_food_classes_10_percent.zip.1’\n",
            "\n",
            "10_food_classes_10_ 100%[===================>] 160.74M   116MB/s    in 1.4s    \n",
            "\n",
            "2024-09-01 12:23:07 (116 MB/s) - ‘10_food_classes_10_percent.zip.1’ saved [168546183/168546183]\n",
            "\n"
          ]
        }
      ]
    },
    {
      "cell_type": "code",
      "source": [
        "BATCH_SIZE=32\n",
        "IMAGE_SIZE=(224,224)\n",
        "\n",
        "import tensorflow as tf\n",
        "train_data_10_percent=tf.keras.preprocessing.image_dataset_from_directory(train_dir,\n",
        "                                                                          label_mode='categorical',\n",
        "                                                                          batch_size=BATCH_SIZE,\n",
        "                                                                          image_size=IMAGE_SIZE)\n",
        "test_data=tf.keras.preprocessing.image_dataset_from_directory(test_dir,\n",
        "                                                              label_mode='categorical',\n",
        "                                                              batch_size=BATCH_SIZE,\n",
        "                                                              image_size=IMAGE_SIZE)"
      ],
      "metadata": {
        "colab": {
          "base_uri": "https://localhost:8080/"
        },
        "id": "1RUrhmuK5WXm",
        "outputId": "247bf5e6-3150-4d23-d33e-49feb3699e0f"
      },
      "execution_count": 13,
      "outputs": [
        {
          "output_type": "stream",
          "name": "stdout",
          "text": [
            "Found 750 files belonging to 10 classes.\n",
            "Found 2500 files belonging to 10 classes.\n"
          ]
        }
      ]
    },
    {
      "cell_type": "code",
      "source": [
        "input_shape=(224,224,3)\n",
        "\n",
        "base_model = tf.keras.applications.efficientnet_v2.EfficientNetV2B0(include_top=False)\n",
        "base_model.trainable = False\n",
        "inputs=layers.Input(shape=input_shape,name='input_layer')\n",
        "\n",
        "\n",
        "data_augmentation=tf.keras.Sequential([\n",
        "    layers.Resizing(224,224),\n",
        "    layers.RandomFlip(\"horizontal\"),\n",
        "    layers.RandomRotation(0.2),\n",
        "    layers.RandomHeight(0.2),\n",
        "    layers.RandomWidth(0.2),\n",
        "    layers.RandomZoom(0.2)\n",
        "],name='data_augmentation_layer')\n",
        "\n",
        "x=data_augmentation(inputs)\n",
        "x=base_model(x)\n",
        "\n",
        "x=layers.GlobalAveragePooling2D(name='global_average_pooling_layer')(x)\n",
        "outputs=layers.Dense(10,activation='softmax')(x)\n",
        "\n",
        "model_2=keras.Model(inputs,outputs)\n",
        "model_2.compile(loss=tf.keras.losses.categorical_crossentropy,\n",
        "                optimizer='Adam',\n",
        "                metrics=['accuracy'])\n",
        "\n"
      ],
      "metadata": {
        "id": "HLUtJipK6Plh"
      },
      "execution_count": 14,
      "outputs": []
    },
    {
      "cell_type": "code",
      "source": [
        "model_2.summary()"
      ],
      "metadata": {
        "colab": {
          "base_uri": "https://localhost:8080/",
          "height": 305
        },
        "id": "VDRJ1onW-S9L",
        "outputId": "6ae0dead-6e37-44cd-cb57-9a52db61a1d9"
      },
      "execution_count": 15,
      "outputs": [
        {
          "output_type": "display_data",
          "data": {
            "text/plain": [
              "\u001b[1mModel: \"functional_2\"\u001b[0m\n"
            ],
            "text/html": [
              "<pre style=\"white-space:pre;overflow-x:auto;line-height:normal;font-family:Menlo,'DejaVu Sans Mono',consolas,'Courier New',monospace\"><span style=\"font-weight: bold\">Model: \"functional_2\"</span>\n",
              "</pre>\n"
            ]
          },
          "metadata": {}
        },
        {
          "output_type": "display_data",
          "data": {
            "text/plain": [
              "┏━━━━━━━━━━━━━━━━━━━━━━━━━━━━━━━━━━━━━━┳━━━━━━━━━━━━━━━━━━━━━━━━━━━━━┳━━━━━━━━━━━━━━━━━┓\n",
              "┃\u001b[1m \u001b[0m\u001b[1mLayer (type)                        \u001b[0m\u001b[1m \u001b[0m┃\u001b[1m \u001b[0m\u001b[1mOutput Shape               \u001b[0m\u001b[1m \u001b[0m┃\u001b[1m \u001b[0m\u001b[1m        Param #\u001b[0m\u001b[1m \u001b[0m┃\n",
              "┡━━━━━━━━━━━━━━━━━━━━━━━━━━━━━━━━━━━━━━╇━━━━━━━━━━━━━━━━━━━━━━━━━━━━━╇━━━━━━━━━━━━━━━━━┩\n",
              "│ input_layer (\u001b[38;5;33mInputLayer\u001b[0m)             │ (\u001b[38;5;45mNone\u001b[0m, \u001b[38;5;34m224\u001b[0m, \u001b[38;5;34m224\u001b[0m, \u001b[38;5;34m3\u001b[0m)         │               \u001b[38;5;34m0\u001b[0m │\n",
              "├──────────────────────────────────────┼─────────────────────────────┼─────────────────┤\n",
              "│ data_augmentation_layer (\u001b[38;5;33mSequential\u001b[0m) │ (\u001b[38;5;45mNone\u001b[0m, \u001b[38;5;45mNone\u001b[0m, \u001b[38;5;45mNone\u001b[0m, \u001b[38;5;34m3\u001b[0m)       │               \u001b[38;5;34m0\u001b[0m │\n",
              "├──────────────────────────────────────┼─────────────────────────────┼─────────────────┤\n",
              "│ efficientnetv2-b0 (\u001b[38;5;33mFunctional\u001b[0m)       │ (\u001b[38;5;45mNone\u001b[0m, \u001b[38;5;45mNone\u001b[0m, \u001b[38;5;45mNone\u001b[0m, \u001b[38;5;34m1280\u001b[0m)    │       \u001b[38;5;34m5,919,312\u001b[0m │\n",
              "├──────────────────────────────────────┼─────────────────────────────┼─────────────────┤\n",
              "│ global_average_pooling_layer         │ (\u001b[38;5;45mNone\u001b[0m, \u001b[38;5;34m1280\u001b[0m)                │               \u001b[38;5;34m0\u001b[0m │\n",
              "│ (\u001b[38;5;33mGlobalAveragePooling2D\u001b[0m)             │                             │                 │\n",
              "├──────────────────────────────────────┼─────────────────────────────┼─────────────────┤\n",
              "│ dense_1 (\u001b[38;5;33mDense\u001b[0m)                      │ (\u001b[38;5;45mNone\u001b[0m, \u001b[38;5;34m10\u001b[0m)                  │          \u001b[38;5;34m12,810\u001b[0m │\n",
              "└──────────────────────────────────────┴─────────────────────────────┴─────────────────┘\n"
            ],
            "text/html": [
              "<pre style=\"white-space:pre;overflow-x:auto;line-height:normal;font-family:Menlo,'DejaVu Sans Mono',consolas,'Courier New',monospace\">┏━━━━━━━━━━━━━━━━━━━━━━━━━━━━━━━━━━━━━━┳━━━━━━━━━━━━━━━━━━━━━━━━━━━━━┳━━━━━━━━━━━━━━━━━┓\n",
              "┃<span style=\"font-weight: bold\"> Layer (type)                         </span>┃<span style=\"font-weight: bold\"> Output Shape                </span>┃<span style=\"font-weight: bold\">         Param # </span>┃\n",
              "┡━━━━━━━━━━━━━━━━━━━━━━━━━━━━━━━━━━━━━━╇━━━━━━━━━━━━━━━━━━━━━━━━━━━━━╇━━━━━━━━━━━━━━━━━┩\n",
              "│ input_layer (<span style=\"color: #0087ff; text-decoration-color: #0087ff\">InputLayer</span>)             │ (<span style=\"color: #00d7ff; text-decoration-color: #00d7ff\">None</span>, <span style=\"color: #00af00; text-decoration-color: #00af00\">224</span>, <span style=\"color: #00af00; text-decoration-color: #00af00\">224</span>, <span style=\"color: #00af00; text-decoration-color: #00af00\">3</span>)         │               <span style=\"color: #00af00; text-decoration-color: #00af00\">0</span> │\n",
              "├──────────────────────────────────────┼─────────────────────────────┼─────────────────┤\n",
              "│ data_augmentation_layer (<span style=\"color: #0087ff; text-decoration-color: #0087ff\">Sequential</span>) │ (<span style=\"color: #00d7ff; text-decoration-color: #00d7ff\">None</span>, <span style=\"color: #00d7ff; text-decoration-color: #00d7ff\">None</span>, <span style=\"color: #00d7ff; text-decoration-color: #00d7ff\">None</span>, <span style=\"color: #00af00; text-decoration-color: #00af00\">3</span>)       │               <span style=\"color: #00af00; text-decoration-color: #00af00\">0</span> │\n",
              "├──────────────────────────────────────┼─────────────────────────────┼─────────────────┤\n",
              "│ efficientnetv2-b0 (<span style=\"color: #0087ff; text-decoration-color: #0087ff\">Functional</span>)       │ (<span style=\"color: #00d7ff; text-decoration-color: #00d7ff\">None</span>, <span style=\"color: #00d7ff; text-decoration-color: #00d7ff\">None</span>, <span style=\"color: #00d7ff; text-decoration-color: #00d7ff\">None</span>, <span style=\"color: #00af00; text-decoration-color: #00af00\">1280</span>)    │       <span style=\"color: #00af00; text-decoration-color: #00af00\">5,919,312</span> │\n",
              "├──────────────────────────────────────┼─────────────────────────────┼─────────────────┤\n",
              "│ global_average_pooling_layer         │ (<span style=\"color: #00d7ff; text-decoration-color: #00d7ff\">None</span>, <span style=\"color: #00af00; text-decoration-color: #00af00\">1280</span>)                │               <span style=\"color: #00af00; text-decoration-color: #00af00\">0</span> │\n",
              "│ (<span style=\"color: #0087ff; text-decoration-color: #0087ff\">GlobalAveragePooling2D</span>)             │                             │                 │\n",
              "├──────────────────────────────────────┼─────────────────────────────┼─────────────────┤\n",
              "│ dense_1 (<span style=\"color: #0087ff; text-decoration-color: #0087ff\">Dense</span>)                      │ (<span style=\"color: #00d7ff; text-decoration-color: #00d7ff\">None</span>, <span style=\"color: #00af00; text-decoration-color: #00af00\">10</span>)                  │          <span style=\"color: #00af00; text-decoration-color: #00af00\">12,810</span> │\n",
              "└──────────────────────────────────────┴─────────────────────────────┴─────────────────┘\n",
              "</pre>\n"
            ]
          },
          "metadata": {}
        },
        {
          "output_type": "display_data",
          "data": {
            "text/plain": [
              "\u001b[1m Total params: \u001b[0m\u001b[38;5;34m5,932,122\u001b[0m (22.63 MB)\n"
            ],
            "text/html": [
              "<pre style=\"white-space:pre;overflow-x:auto;line-height:normal;font-family:Menlo,'DejaVu Sans Mono',consolas,'Courier New',monospace\"><span style=\"font-weight: bold\"> Total params: </span><span style=\"color: #00af00; text-decoration-color: #00af00\">5,932,122</span> (22.63 MB)\n",
              "</pre>\n"
            ]
          },
          "metadata": {}
        },
        {
          "output_type": "display_data",
          "data": {
            "text/plain": [
              "\u001b[1m Trainable params: \u001b[0m\u001b[38;5;34m12,810\u001b[0m (50.04 KB)\n"
            ],
            "text/html": [
              "<pre style=\"white-space:pre;overflow-x:auto;line-height:normal;font-family:Menlo,'DejaVu Sans Mono',consolas,'Courier New',monospace\"><span style=\"font-weight: bold\"> Trainable params: </span><span style=\"color: #00af00; text-decoration-color: #00af00\">12,810</span> (50.04 KB)\n",
              "</pre>\n"
            ]
          },
          "metadata": {}
        },
        {
          "output_type": "display_data",
          "data": {
            "text/plain": [
              "\u001b[1m Non-trainable params: \u001b[0m\u001b[38;5;34m5,919,312\u001b[0m (22.58 MB)\n"
            ],
            "text/html": [
              "<pre style=\"white-space:pre;overflow-x:auto;line-height:normal;font-family:Menlo,'DejaVu Sans Mono',consolas,'Courier New',monospace\"><span style=\"font-weight: bold\"> Non-trainable params: </span><span style=\"color: #00af00; text-decoration-color: #00af00\">5,919,312</span> (22.58 MB)\n",
              "</pre>\n"
            ]
          },
          "metadata": {}
        }
      ]
    },
    {
      "cell_type": "markdown",
      "source": [
        "# Model Checkpoint Callback\n",
        "This saves our whole model or just the weights during training. So that we can come and start where we left off."
      ],
      "metadata": {
        "id": "AoMmhwA__DTu"
      }
    },
    {
      "cell_type": "code",
      "source": [
        " # Set the checkpoint path\n",
        "checkpoint_path='ten_percent_model_checkpoints.weights.h5'\n",
        "\n",
        "checkpoint_callback=tf.keras.callbacks.ModelCheckpoint(filepath=checkpoint_path,\n",
        "                                                       save_weights_only=True,\n",
        "                                                       save_best_only=True,\n",
        "                                                       save_freq=\"epoch\",\n",
        "                                                       verbose=1)"
      ],
      "metadata": {
        "id": "jBqedLGZD6Zc"
      },
      "execution_count": 41,
      "outputs": []
    },
    {
      "cell_type": "code",
      "source": [
        "hitory_10_percent_data_aug=model_2.fit(train_data_10_percent,epochs=5,\n",
        "            validation_data=test_data,validation_steps=int(0.25*len(test_data)),\n",
        "            callbacks=[create_tensorboard_callback(dir_name='transfer_learning',\n",
        "                                                   experiment_name='10_percent_data_aug'),checkpoint_callback])"
      ],
      "metadata": {
        "colab": {
          "base_uri": "https://localhost:8080/"
        },
        "id": "8qQD8qBWBPOs",
        "outputId": "8c4090b3-24e5-450e-9e2e-a109f0debd77"
      },
      "execution_count": 42,
      "outputs": [
        {
          "output_type": "stream",
          "name": "stdout",
          "text": [
            "Saving TensorBoard log files to: transfer_learning/10_percent_data_aug/20240901-130307\n",
            "\u001b[1m24/24\u001b[0m \u001b[32m━━━━━━━━━━━━━━━━━━━━\u001b[0m\u001b[37m\u001b[0m \u001b[1m0s\u001b[0m 2s/step - accuracy: 0.5456 - loss: 1.7406\n",
            "Epoch 1: val_loss improved from inf to 1.40238, saving model to ten_percent_model_checkpoints.weights.h5\n",
            "\u001b[1m24/24\u001b[0m \u001b[32m━━━━━━━━━━━━━━━━━━━━\u001b[0m\u001b[37m\u001b[0m \u001b[1m113s\u001b[0m 4s/step - accuracy: 0.5453 - loss: 1.7400 - val_accuracy: 0.7467 - val_loss: 1.4024\n"
          ]
        }
      ]
    },
    {
      "cell_type": "code",
      "source": [
        "model_2.evaluate(test_data)"
      ],
      "metadata": {
        "colab": {
          "base_uri": "https://localhost:8080/"
        },
        "id": "xRZ7ERPQD5WV",
        "outputId": "11e3ade8-b4ce-4b06-d252-2af3ed7e7be9"
      },
      "execution_count": 43,
      "outputs": [
        {
          "output_type": "stream",
          "name": "stdout",
          "text": [
            "\u001b[1m79/79\u001b[0m \u001b[32m━━━━━━━━━━━━━━━━━━━━\u001b[0m\u001b[37m\u001b[0m \u001b[1m146s\u001b[0m 2s/step - accuracy: 0.7357 - loss: 1.4090\n"
          ]
        },
        {
          "output_type": "execute_result",
          "data": {
            "text/plain": [
              "[1.4226619005203247, 0.7152000069618225]"
            ]
          },
          "metadata": {},
          "execution_count": 43
        }
      ]
    },
    {
      "cell_type": "code",
      "source": [
        "model_2.load_weights(checkpoint_path)"
      ],
      "metadata": {
        "id": "7cdmG49bEjoK"
      },
      "execution_count": 44,
      "outputs": []
    },
    {
      "cell_type": "code",
      "source": [
        "model_2.evaluate(test_data)"
      ],
      "metadata": {
        "colab": {
          "base_uri": "https://localhost:8080/"
        },
        "id": "coXitAUTE7J3",
        "outputId": "111d7079-3052-401f-840e-3a7b61593a77"
      },
      "execution_count": 45,
      "outputs": [
        {
          "output_type": "stream",
          "name": "stdout",
          "text": [
            "\u001b[1m79/79\u001b[0m \u001b[32m━━━━━━━━━━━━━━━━━━━━\u001b[0m\u001b[37m\u001b[0m \u001b[1m161s\u001b[0m 2s/step - accuracy: 0.7233 - loss: 1.4180\n"
          ]
        },
        {
          "output_type": "execute_result",
          "data": {
            "text/plain": [
              "[1.4226617813110352, 0.7152000069618225]"
            ]
          },
          "metadata": {},
          "execution_count": 45
        }
      ]
    },
    {
      "cell_type": "code",
      "source": [
        "model_2.layers"
      ],
      "metadata": {
        "colab": {
          "base_uri": "https://localhost:8080/"
        },
        "id": "19-TUeK1E9TA",
        "outputId": "3f2af777-08f2-47f6-86c5-9441e5618e72"
      },
      "execution_count": 46,
      "outputs": [
        {
          "output_type": "execute_result",
          "data": {
            "text/plain": [
              "[<InputLayer name=input_layer, built=True>,\n",
              " <Sequential name=data_augmentation_layer, built=True>,\n",
              " <Functional name=efficientnetv2-b0, built=True>,\n",
              " <GlobalAveragePooling2D name=global_average_pooling_layer, built=True>,\n",
              " <Dense name=dense_1, built=True>]"
            ]
          },
          "metadata": {},
          "execution_count": 46
        }
      ]
    },
    {
      "cell_type": "code",
      "source": [
        "for layer in model_2.layers:\n",
        "  print(layer,layer.trainable)"
      ],
      "metadata": {
        "colab": {
          "base_uri": "https://localhost:8080/"
        },
        "id": "Bt1PpfU5ixxL",
        "outputId": "147cfd50-8fe8-4402-be8f-7669beb0a303"
      },
      "execution_count": 47,
      "outputs": [
        {
          "output_type": "stream",
          "name": "stdout",
          "text": [
            "<InputLayer name=input_layer, built=True> True\n",
            "<Sequential name=data_augmentation_layer, built=True> True\n",
            "<Functional name=efficientnetv2-b0, built=True> True\n",
            "<GlobalAveragePooling2D name=global_average_pooling_layer, built=True> True\n",
            "<Dense name=dense_1, built=True> True\n"
          ]
        }
      ]
    },
    {
      "cell_type": "code",
      "source": [
        "for i, layer in enumerate(model_2.layers[2].layers):\n",
        "  print(i,layer.name,layer.trainable)"
      ],
      "metadata": {
        "colab": {
          "base_uri": "https://localhost:8080/"
        },
        "id": "DYCu5S92jbR-",
        "outputId": "be7a5764-3214-4ef2-b1a6-3c756a83037c"
      },
      "execution_count": 48,
      "outputs": [
        {
          "output_type": "stream",
          "name": "stdout",
          "text": [
            "0 input_layer_3 False\n",
            "1 rescaling_2 False\n",
            "2 normalization_2 False\n",
            "3 stem_conv False\n",
            "4 stem_bn False\n",
            "5 stem_activation False\n",
            "6 block1a_project_conv False\n",
            "7 block1a_project_bn False\n",
            "8 block1a_project_activation False\n",
            "9 block2a_expand_conv False\n",
            "10 block2a_expand_bn False\n",
            "11 block2a_expand_activation False\n",
            "12 block2a_project_conv False\n",
            "13 block2a_project_bn False\n",
            "14 block2b_expand_conv False\n",
            "15 block2b_expand_bn False\n",
            "16 block2b_expand_activation False\n",
            "17 block2b_project_conv False\n",
            "18 block2b_project_bn False\n",
            "19 block2b_drop False\n",
            "20 block2b_add False\n",
            "21 block3a_expand_conv False\n",
            "22 block3a_expand_bn False\n",
            "23 block3a_expand_activation False\n",
            "24 block3a_project_conv False\n",
            "25 block3a_project_bn False\n",
            "26 block3b_expand_conv False\n",
            "27 block3b_expand_bn False\n",
            "28 block3b_expand_activation False\n",
            "29 block3b_project_conv False\n",
            "30 block3b_project_bn False\n",
            "31 block3b_drop False\n",
            "32 block3b_add False\n",
            "33 block4a_expand_conv False\n",
            "34 block4a_expand_bn False\n",
            "35 block4a_expand_activation False\n",
            "36 block4a_dwconv2 False\n",
            "37 block4a_bn False\n",
            "38 block4a_activation False\n",
            "39 block4a_se_squeeze False\n",
            "40 block4a_se_reshape False\n",
            "41 block4a_se_reduce False\n",
            "42 block4a_se_expand False\n",
            "43 block4a_se_excite False\n",
            "44 block4a_project_conv False\n",
            "45 block4a_project_bn False\n",
            "46 block4b_expand_conv False\n",
            "47 block4b_expand_bn False\n",
            "48 block4b_expand_activation False\n",
            "49 block4b_dwconv2 False\n",
            "50 block4b_bn False\n",
            "51 block4b_activation False\n",
            "52 block4b_se_squeeze False\n",
            "53 block4b_se_reshape False\n",
            "54 block4b_se_reduce False\n",
            "55 block4b_se_expand False\n",
            "56 block4b_se_excite False\n",
            "57 block4b_project_conv False\n",
            "58 block4b_project_bn False\n",
            "59 block4b_drop False\n",
            "60 block4b_add False\n",
            "61 block4c_expand_conv False\n",
            "62 block4c_expand_bn False\n",
            "63 block4c_expand_activation False\n",
            "64 block4c_dwconv2 False\n",
            "65 block4c_bn False\n",
            "66 block4c_activation False\n",
            "67 block4c_se_squeeze False\n",
            "68 block4c_se_reshape False\n",
            "69 block4c_se_reduce False\n",
            "70 block4c_se_expand False\n",
            "71 block4c_se_excite False\n",
            "72 block4c_project_conv False\n",
            "73 block4c_project_bn False\n",
            "74 block4c_drop False\n",
            "75 block4c_add False\n",
            "76 block5a_expand_conv False\n",
            "77 block5a_expand_bn False\n",
            "78 block5a_expand_activation False\n",
            "79 block5a_dwconv2 False\n",
            "80 block5a_bn False\n",
            "81 block5a_activation False\n",
            "82 block5a_se_squeeze False\n",
            "83 block5a_se_reshape False\n",
            "84 block5a_se_reduce False\n",
            "85 block5a_se_expand False\n",
            "86 block5a_se_excite False\n",
            "87 block5a_project_conv False\n",
            "88 block5a_project_bn False\n",
            "89 block5b_expand_conv False\n",
            "90 block5b_expand_bn False\n",
            "91 block5b_expand_activation False\n",
            "92 block5b_dwconv2 False\n",
            "93 block5b_bn False\n",
            "94 block5b_activation False\n",
            "95 block5b_se_squeeze False\n",
            "96 block5b_se_reshape False\n",
            "97 block5b_se_reduce False\n",
            "98 block5b_se_expand False\n",
            "99 block5b_se_excite False\n",
            "100 block5b_project_conv False\n",
            "101 block5b_project_bn False\n",
            "102 block5b_drop False\n",
            "103 block5b_add False\n",
            "104 block5c_expand_conv False\n",
            "105 block5c_expand_bn False\n",
            "106 block5c_expand_activation False\n",
            "107 block5c_dwconv2 False\n",
            "108 block5c_bn False\n",
            "109 block5c_activation False\n",
            "110 block5c_se_squeeze False\n",
            "111 block5c_se_reshape False\n",
            "112 block5c_se_reduce False\n",
            "113 block5c_se_expand False\n",
            "114 block5c_se_excite False\n",
            "115 block5c_project_conv False\n",
            "116 block5c_project_bn False\n",
            "117 block5c_drop False\n",
            "118 block5c_add False\n",
            "119 block5d_expand_conv False\n",
            "120 block5d_expand_bn False\n",
            "121 block5d_expand_activation False\n",
            "122 block5d_dwconv2 False\n",
            "123 block5d_bn False\n",
            "124 block5d_activation False\n",
            "125 block5d_se_squeeze False\n",
            "126 block5d_se_reshape False\n",
            "127 block5d_se_reduce False\n",
            "128 block5d_se_expand False\n",
            "129 block5d_se_excite False\n",
            "130 block5d_project_conv False\n",
            "131 block5d_project_bn False\n",
            "132 block5d_drop False\n",
            "133 block5d_add False\n",
            "134 block5e_expand_conv False\n",
            "135 block5e_expand_bn False\n",
            "136 block5e_expand_activation False\n",
            "137 block5e_dwconv2 False\n",
            "138 block5e_bn False\n",
            "139 block5e_activation False\n",
            "140 block5e_se_squeeze False\n",
            "141 block5e_se_reshape False\n",
            "142 block5e_se_reduce False\n",
            "143 block5e_se_expand False\n",
            "144 block5e_se_excite False\n",
            "145 block5e_project_conv False\n",
            "146 block5e_project_bn False\n",
            "147 block5e_drop False\n",
            "148 block5e_add False\n",
            "149 block6a_expand_conv False\n",
            "150 block6a_expand_bn False\n",
            "151 block6a_expand_activation False\n",
            "152 block6a_dwconv2 False\n",
            "153 block6a_bn False\n",
            "154 block6a_activation False\n",
            "155 block6a_se_squeeze False\n",
            "156 block6a_se_reshape False\n",
            "157 block6a_se_reduce False\n",
            "158 block6a_se_expand False\n",
            "159 block6a_se_excite False\n",
            "160 block6a_project_conv False\n",
            "161 block6a_project_bn False\n",
            "162 block6b_expand_conv False\n",
            "163 block6b_expand_bn False\n",
            "164 block6b_expand_activation False\n",
            "165 block6b_dwconv2 False\n",
            "166 block6b_bn False\n",
            "167 block6b_activation False\n",
            "168 block6b_se_squeeze False\n",
            "169 block6b_se_reshape False\n",
            "170 block6b_se_reduce False\n",
            "171 block6b_se_expand False\n",
            "172 block6b_se_excite False\n",
            "173 block6b_project_conv False\n",
            "174 block6b_project_bn False\n",
            "175 block6b_drop False\n",
            "176 block6b_add False\n",
            "177 block6c_expand_conv False\n",
            "178 block6c_expand_bn False\n",
            "179 block6c_expand_activation False\n",
            "180 block6c_dwconv2 False\n",
            "181 block6c_bn False\n",
            "182 block6c_activation False\n",
            "183 block6c_se_squeeze False\n",
            "184 block6c_se_reshape False\n",
            "185 block6c_se_reduce False\n",
            "186 block6c_se_expand False\n",
            "187 block6c_se_excite False\n",
            "188 block6c_project_conv False\n",
            "189 block6c_project_bn False\n",
            "190 block6c_drop False\n",
            "191 block6c_add False\n",
            "192 block6d_expand_conv False\n",
            "193 block6d_expand_bn False\n",
            "194 block6d_expand_activation False\n",
            "195 block6d_dwconv2 False\n",
            "196 block6d_bn False\n",
            "197 block6d_activation False\n",
            "198 block6d_se_squeeze False\n",
            "199 block6d_se_reshape False\n",
            "200 block6d_se_reduce False\n",
            "201 block6d_se_expand False\n",
            "202 block6d_se_excite False\n",
            "203 block6d_project_conv False\n",
            "204 block6d_project_bn False\n",
            "205 block6d_drop False\n",
            "206 block6d_add False\n",
            "207 block6e_expand_conv False\n",
            "208 block6e_expand_bn False\n",
            "209 block6e_expand_activation False\n",
            "210 block6e_dwconv2 False\n",
            "211 block6e_bn False\n",
            "212 block6e_activation False\n",
            "213 block6e_se_squeeze False\n",
            "214 block6e_se_reshape False\n",
            "215 block6e_se_reduce False\n",
            "216 block6e_se_expand False\n",
            "217 block6e_se_excite False\n",
            "218 block6e_project_conv False\n",
            "219 block6e_project_bn False\n",
            "220 block6e_drop False\n",
            "221 block6e_add False\n",
            "222 block6f_expand_conv False\n",
            "223 block6f_expand_bn False\n",
            "224 block6f_expand_activation False\n",
            "225 block6f_dwconv2 False\n",
            "226 block6f_bn False\n",
            "227 block6f_activation False\n",
            "228 block6f_se_squeeze False\n",
            "229 block6f_se_reshape False\n",
            "230 block6f_se_reduce False\n",
            "231 block6f_se_expand False\n",
            "232 block6f_se_excite False\n",
            "233 block6f_project_conv False\n",
            "234 block6f_project_bn False\n",
            "235 block6f_drop False\n",
            "236 block6f_add False\n",
            "237 block6g_expand_conv False\n",
            "238 block6g_expand_bn False\n",
            "239 block6g_expand_activation False\n",
            "240 block6g_dwconv2 False\n",
            "241 block6g_bn False\n",
            "242 block6g_activation False\n",
            "243 block6g_se_squeeze False\n",
            "244 block6g_se_reshape False\n",
            "245 block6g_se_reduce False\n",
            "246 block6g_se_expand False\n",
            "247 block6g_se_excite False\n",
            "248 block6g_project_conv False\n",
            "249 block6g_project_bn False\n",
            "250 block6g_drop False\n",
            "251 block6g_add False\n",
            "252 block6h_expand_conv False\n",
            "253 block6h_expand_bn False\n",
            "254 block6h_expand_activation False\n",
            "255 block6h_dwconv2 False\n",
            "256 block6h_bn False\n",
            "257 block6h_activation False\n",
            "258 block6h_se_squeeze False\n",
            "259 block6h_se_reshape False\n",
            "260 block6h_se_reduce True\n",
            "261 block6h_se_expand True\n",
            "262 block6h_se_excite True\n",
            "263 block6h_project_conv True\n",
            "264 block6h_project_bn True\n",
            "265 block6h_drop True\n",
            "266 block6h_add True\n",
            "267 top_conv True\n",
            "268 top_bn True\n",
            "269 top_activation True\n"
          ]
        }
      ]
    },
    {
      "cell_type": "code",
      "source": [
        "print(len(model_2.layers[2].trainable_variables))"
      ],
      "metadata": {
        "colab": {
          "base_uri": "https://localhost:8080/"
        },
        "id": "qXzdZDA9jplg",
        "outputId": "101aebd6-480c-4cbd-f792-2ab097b2f0f8"
      },
      "execution_count": 49,
      "outputs": [
        {
          "output_type": "stream",
          "name": "stdout",
          "text": [
            "10\n"
          ]
        }
      ]
    },
    {
      "cell_type": "code",
      "source": [
        "base_model.trainable=True\n",
        "\n",
        "for layer in base_model.layers[:-10]:\n",
        "  layer.trainable=False\n",
        "\n",
        "\n",
        "model_2.compile(loss='categorical_crossentropy',\n",
        "                optimizer=tf.keras.optimizers.Adam(learning_rate=0.0001),\n",
        "                metrics=['accuracy'])"
      ],
      "metadata": {
        "id": "aNofBKXskwY5"
      },
      "execution_count": 50,
      "outputs": []
    },
    {
      "cell_type": "code",
      "source": [
        "for layer in base_model.layers:\n",
        "  print(layer,layer.trainable)"
      ],
      "metadata": {
        "colab": {
          "base_uri": "https://localhost:8080/"
        },
        "id": "Z2bR3TrClYxo",
        "outputId": "041abf30-403f-482f-9268-9bc398ca10ea"
      },
      "execution_count": 51,
      "outputs": [
        {
          "output_type": "stream",
          "name": "stdout",
          "text": [
            "<InputLayer name=input_layer_3, built=True> False\n",
            "<Rescaling name=rescaling_2, built=True> False\n",
            "<Normalization name=normalization_2, built=True> False\n",
            "<Conv2D name=stem_conv, built=True> False\n",
            "<BatchNormalization name=stem_bn, built=True> False\n",
            "<Activation name=stem_activation, built=True> False\n",
            "<Conv2D name=block1a_project_conv, built=True> False\n",
            "<BatchNormalization name=block1a_project_bn, built=True> False\n",
            "<Activation name=block1a_project_activation, built=True> False\n",
            "<Conv2D name=block2a_expand_conv, built=True> False\n",
            "<BatchNormalization name=block2a_expand_bn, built=True> False\n",
            "<Activation name=block2a_expand_activation, built=True> False\n",
            "<Conv2D name=block2a_project_conv, built=True> False\n",
            "<BatchNormalization name=block2a_project_bn, built=True> False\n",
            "<Conv2D name=block2b_expand_conv, built=True> False\n",
            "<BatchNormalization name=block2b_expand_bn, built=True> False\n",
            "<Activation name=block2b_expand_activation, built=True> False\n",
            "<Conv2D name=block2b_project_conv, built=True> False\n",
            "<BatchNormalization name=block2b_project_bn, built=True> False\n",
            "<Dropout name=block2b_drop, built=True> False\n",
            "<Add name=block2b_add, built=True> False\n",
            "<Conv2D name=block3a_expand_conv, built=True> False\n",
            "<BatchNormalization name=block3a_expand_bn, built=True> False\n",
            "<Activation name=block3a_expand_activation, built=True> False\n",
            "<Conv2D name=block3a_project_conv, built=True> False\n",
            "<BatchNormalization name=block3a_project_bn, built=True> False\n",
            "<Conv2D name=block3b_expand_conv, built=True> False\n",
            "<BatchNormalization name=block3b_expand_bn, built=True> False\n",
            "<Activation name=block3b_expand_activation, built=True> False\n",
            "<Conv2D name=block3b_project_conv, built=True> False\n",
            "<BatchNormalization name=block3b_project_bn, built=True> False\n",
            "<Dropout name=block3b_drop, built=True> False\n",
            "<Add name=block3b_add, built=True> False\n",
            "<Conv2D name=block4a_expand_conv, built=True> False\n",
            "<BatchNormalization name=block4a_expand_bn, built=True> False\n",
            "<Activation name=block4a_expand_activation, built=True> False\n",
            "<DepthwiseConv2D name=block4a_dwconv2, built=True> False\n",
            "<BatchNormalization name=block4a_bn, built=True> False\n",
            "<Activation name=block4a_activation, built=True> False\n",
            "<GlobalAveragePooling2D name=block4a_se_squeeze, built=True> False\n",
            "<Reshape name=block4a_se_reshape, built=True> False\n",
            "<Conv2D name=block4a_se_reduce, built=True> False\n",
            "<Conv2D name=block4a_se_expand, built=True> False\n",
            "<Multiply name=block4a_se_excite, built=True> False\n",
            "<Conv2D name=block4a_project_conv, built=True> False\n",
            "<BatchNormalization name=block4a_project_bn, built=True> False\n",
            "<Conv2D name=block4b_expand_conv, built=True> False\n",
            "<BatchNormalization name=block4b_expand_bn, built=True> False\n",
            "<Activation name=block4b_expand_activation, built=True> False\n",
            "<DepthwiseConv2D name=block4b_dwconv2, built=True> False\n",
            "<BatchNormalization name=block4b_bn, built=True> False\n",
            "<Activation name=block4b_activation, built=True> False\n",
            "<GlobalAveragePooling2D name=block4b_se_squeeze, built=True> False\n",
            "<Reshape name=block4b_se_reshape, built=True> False\n",
            "<Conv2D name=block4b_se_reduce, built=True> False\n",
            "<Conv2D name=block4b_se_expand, built=True> False\n",
            "<Multiply name=block4b_se_excite, built=True> False\n",
            "<Conv2D name=block4b_project_conv, built=True> False\n",
            "<BatchNormalization name=block4b_project_bn, built=True> False\n",
            "<Dropout name=block4b_drop, built=True> False\n",
            "<Add name=block4b_add, built=True> False\n",
            "<Conv2D name=block4c_expand_conv, built=True> False\n",
            "<BatchNormalization name=block4c_expand_bn, built=True> False\n",
            "<Activation name=block4c_expand_activation, built=True> False\n",
            "<DepthwiseConv2D name=block4c_dwconv2, built=True> False\n",
            "<BatchNormalization name=block4c_bn, built=True> False\n",
            "<Activation name=block4c_activation, built=True> False\n",
            "<GlobalAveragePooling2D name=block4c_se_squeeze, built=True> False\n",
            "<Reshape name=block4c_se_reshape, built=True> False\n",
            "<Conv2D name=block4c_se_reduce, built=True> False\n",
            "<Conv2D name=block4c_se_expand, built=True> False\n",
            "<Multiply name=block4c_se_excite, built=True> False\n",
            "<Conv2D name=block4c_project_conv, built=True> False\n",
            "<BatchNormalization name=block4c_project_bn, built=True> False\n",
            "<Dropout name=block4c_drop, built=True> False\n",
            "<Add name=block4c_add, built=True> False\n",
            "<Conv2D name=block5a_expand_conv, built=True> False\n",
            "<BatchNormalization name=block5a_expand_bn, built=True> False\n",
            "<Activation name=block5a_expand_activation, built=True> False\n",
            "<DepthwiseConv2D name=block5a_dwconv2, built=True> False\n",
            "<BatchNormalization name=block5a_bn, built=True> False\n",
            "<Activation name=block5a_activation, built=True> False\n",
            "<GlobalAveragePooling2D name=block5a_se_squeeze, built=True> False\n",
            "<Reshape name=block5a_se_reshape, built=True> False\n",
            "<Conv2D name=block5a_se_reduce, built=True> False\n",
            "<Conv2D name=block5a_se_expand, built=True> False\n",
            "<Multiply name=block5a_se_excite, built=True> False\n",
            "<Conv2D name=block5a_project_conv, built=True> False\n",
            "<BatchNormalization name=block5a_project_bn, built=True> False\n",
            "<Conv2D name=block5b_expand_conv, built=True> False\n",
            "<BatchNormalization name=block5b_expand_bn, built=True> False\n",
            "<Activation name=block5b_expand_activation, built=True> False\n",
            "<DepthwiseConv2D name=block5b_dwconv2, built=True> False\n",
            "<BatchNormalization name=block5b_bn, built=True> False\n",
            "<Activation name=block5b_activation, built=True> False\n",
            "<GlobalAveragePooling2D name=block5b_se_squeeze, built=True> False\n",
            "<Reshape name=block5b_se_reshape, built=True> False\n",
            "<Conv2D name=block5b_se_reduce, built=True> False\n",
            "<Conv2D name=block5b_se_expand, built=True> False\n",
            "<Multiply name=block5b_se_excite, built=True> False\n",
            "<Conv2D name=block5b_project_conv, built=True> False\n",
            "<BatchNormalization name=block5b_project_bn, built=True> False\n",
            "<Dropout name=block5b_drop, built=True> False\n",
            "<Add name=block5b_add, built=True> False\n",
            "<Conv2D name=block5c_expand_conv, built=True> False\n",
            "<BatchNormalization name=block5c_expand_bn, built=True> False\n",
            "<Activation name=block5c_expand_activation, built=True> False\n",
            "<DepthwiseConv2D name=block5c_dwconv2, built=True> False\n",
            "<BatchNormalization name=block5c_bn, built=True> False\n",
            "<Activation name=block5c_activation, built=True> False\n",
            "<GlobalAveragePooling2D name=block5c_se_squeeze, built=True> False\n",
            "<Reshape name=block5c_se_reshape, built=True> False\n",
            "<Conv2D name=block5c_se_reduce, built=True> False\n",
            "<Conv2D name=block5c_se_expand, built=True> False\n",
            "<Multiply name=block5c_se_excite, built=True> False\n",
            "<Conv2D name=block5c_project_conv, built=True> False\n",
            "<BatchNormalization name=block5c_project_bn, built=True> False\n",
            "<Dropout name=block5c_drop, built=True> False\n",
            "<Add name=block5c_add, built=True> False\n",
            "<Conv2D name=block5d_expand_conv, built=True> False\n",
            "<BatchNormalization name=block5d_expand_bn, built=True> False\n",
            "<Activation name=block5d_expand_activation, built=True> False\n",
            "<DepthwiseConv2D name=block5d_dwconv2, built=True> False\n",
            "<BatchNormalization name=block5d_bn, built=True> False\n",
            "<Activation name=block5d_activation, built=True> False\n",
            "<GlobalAveragePooling2D name=block5d_se_squeeze, built=True> False\n",
            "<Reshape name=block5d_se_reshape, built=True> False\n",
            "<Conv2D name=block5d_se_reduce, built=True> False\n",
            "<Conv2D name=block5d_se_expand, built=True> False\n",
            "<Multiply name=block5d_se_excite, built=True> False\n",
            "<Conv2D name=block5d_project_conv, built=True> False\n",
            "<BatchNormalization name=block5d_project_bn, built=True> False\n",
            "<Dropout name=block5d_drop, built=True> False\n",
            "<Add name=block5d_add, built=True> False\n",
            "<Conv2D name=block5e_expand_conv, built=True> False\n",
            "<BatchNormalization name=block5e_expand_bn, built=True> False\n",
            "<Activation name=block5e_expand_activation, built=True> False\n",
            "<DepthwiseConv2D name=block5e_dwconv2, built=True> False\n",
            "<BatchNormalization name=block5e_bn, built=True> False\n",
            "<Activation name=block5e_activation, built=True> False\n",
            "<GlobalAveragePooling2D name=block5e_se_squeeze, built=True> False\n",
            "<Reshape name=block5e_se_reshape, built=True> False\n",
            "<Conv2D name=block5e_se_reduce, built=True> False\n",
            "<Conv2D name=block5e_se_expand, built=True> False\n",
            "<Multiply name=block5e_se_excite, built=True> False\n",
            "<Conv2D name=block5e_project_conv, built=True> False\n",
            "<BatchNormalization name=block5e_project_bn, built=True> False\n",
            "<Dropout name=block5e_drop, built=True> False\n",
            "<Add name=block5e_add, built=True> False\n",
            "<Conv2D name=block6a_expand_conv, built=True> False\n",
            "<BatchNormalization name=block6a_expand_bn, built=True> False\n",
            "<Activation name=block6a_expand_activation, built=True> False\n",
            "<DepthwiseConv2D name=block6a_dwconv2, built=True> False\n",
            "<BatchNormalization name=block6a_bn, built=True> False\n",
            "<Activation name=block6a_activation, built=True> False\n",
            "<GlobalAveragePooling2D name=block6a_se_squeeze, built=True> False\n",
            "<Reshape name=block6a_se_reshape, built=True> False\n",
            "<Conv2D name=block6a_se_reduce, built=True> False\n",
            "<Conv2D name=block6a_se_expand, built=True> False\n",
            "<Multiply name=block6a_se_excite, built=True> False\n",
            "<Conv2D name=block6a_project_conv, built=True> False\n",
            "<BatchNormalization name=block6a_project_bn, built=True> False\n",
            "<Conv2D name=block6b_expand_conv, built=True> False\n",
            "<BatchNormalization name=block6b_expand_bn, built=True> False\n",
            "<Activation name=block6b_expand_activation, built=True> False\n",
            "<DepthwiseConv2D name=block6b_dwconv2, built=True> False\n",
            "<BatchNormalization name=block6b_bn, built=True> False\n",
            "<Activation name=block6b_activation, built=True> False\n",
            "<GlobalAveragePooling2D name=block6b_se_squeeze, built=True> False\n",
            "<Reshape name=block6b_se_reshape, built=True> False\n",
            "<Conv2D name=block6b_se_reduce, built=True> False\n",
            "<Conv2D name=block6b_se_expand, built=True> False\n",
            "<Multiply name=block6b_se_excite, built=True> False\n",
            "<Conv2D name=block6b_project_conv, built=True> False\n",
            "<BatchNormalization name=block6b_project_bn, built=True> False\n",
            "<Dropout name=block6b_drop, built=True> False\n",
            "<Add name=block6b_add, built=True> False\n",
            "<Conv2D name=block6c_expand_conv, built=True> False\n",
            "<BatchNormalization name=block6c_expand_bn, built=True> False\n",
            "<Activation name=block6c_expand_activation, built=True> False\n",
            "<DepthwiseConv2D name=block6c_dwconv2, built=True> False\n",
            "<BatchNormalization name=block6c_bn, built=True> False\n",
            "<Activation name=block6c_activation, built=True> False\n",
            "<GlobalAveragePooling2D name=block6c_se_squeeze, built=True> False\n",
            "<Reshape name=block6c_se_reshape, built=True> False\n",
            "<Conv2D name=block6c_se_reduce, built=True> False\n",
            "<Conv2D name=block6c_se_expand, built=True> False\n",
            "<Multiply name=block6c_se_excite, built=True> False\n",
            "<Conv2D name=block6c_project_conv, built=True> False\n",
            "<BatchNormalization name=block6c_project_bn, built=True> False\n",
            "<Dropout name=block6c_drop, built=True> False\n",
            "<Add name=block6c_add, built=True> False\n",
            "<Conv2D name=block6d_expand_conv, built=True> False\n",
            "<BatchNormalization name=block6d_expand_bn, built=True> False\n",
            "<Activation name=block6d_expand_activation, built=True> False\n",
            "<DepthwiseConv2D name=block6d_dwconv2, built=True> False\n",
            "<BatchNormalization name=block6d_bn, built=True> False\n",
            "<Activation name=block6d_activation, built=True> False\n",
            "<GlobalAveragePooling2D name=block6d_se_squeeze, built=True> False\n",
            "<Reshape name=block6d_se_reshape, built=True> False\n",
            "<Conv2D name=block6d_se_reduce, built=True> False\n",
            "<Conv2D name=block6d_se_expand, built=True> False\n",
            "<Multiply name=block6d_se_excite, built=True> False\n",
            "<Conv2D name=block6d_project_conv, built=True> False\n",
            "<BatchNormalization name=block6d_project_bn, built=True> False\n",
            "<Dropout name=block6d_drop, built=True> False\n",
            "<Add name=block6d_add, built=True> False\n",
            "<Conv2D name=block6e_expand_conv, built=True> False\n",
            "<BatchNormalization name=block6e_expand_bn, built=True> False\n",
            "<Activation name=block6e_expand_activation, built=True> False\n",
            "<DepthwiseConv2D name=block6e_dwconv2, built=True> False\n",
            "<BatchNormalization name=block6e_bn, built=True> False\n",
            "<Activation name=block6e_activation, built=True> False\n",
            "<GlobalAveragePooling2D name=block6e_se_squeeze, built=True> False\n",
            "<Reshape name=block6e_se_reshape, built=True> False\n",
            "<Conv2D name=block6e_se_reduce, built=True> False\n",
            "<Conv2D name=block6e_se_expand, built=True> False\n",
            "<Multiply name=block6e_se_excite, built=True> False\n",
            "<Conv2D name=block6e_project_conv, built=True> False\n",
            "<BatchNormalization name=block6e_project_bn, built=True> False\n",
            "<Dropout name=block6e_drop, built=True> False\n",
            "<Add name=block6e_add, built=True> False\n",
            "<Conv2D name=block6f_expand_conv, built=True> False\n",
            "<BatchNormalization name=block6f_expand_bn, built=True> False\n",
            "<Activation name=block6f_expand_activation, built=True> False\n",
            "<DepthwiseConv2D name=block6f_dwconv2, built=True> False\n",
            "<BatchNormalization name=block6f_bn, built=True> False\n",
            "<Activation name=block6f_activation, built=True> False\n",
            "<GlobalAveragePooling2D name=block6f_se_squeeze, built=True> False\n",
            "<Reshape name=block6f_se_reshape, built=True> False\n",
            "<Conv2D name=block6f_se_reduce, built=True> False\n",
            "<Conv2D name=block6f_se_expand, built=True> False\n",
            "<Multiply name=block6f_se_excite, built=True> False\n",
            "<Conv2D name=block6f_project_conv, built=True> False\n",
            "<BatchNormalization name=block6f_project_bn, built=True> False\n",
            "<Dropout name=block6f_drop, built=True> False\n",
            "<Add name=block6f_add, built=True> False\n",
            "<Conv2D name=block6g_expand_conv, built=True> False\n",
            "<BatchNormalization name=block6g_expand_bn, built=True> False\n",
            "<Activation name=block6g_expand_activation, built=True> False\n",
            "<DepthwiseConv2D name=block6g_dwconv2, built=True> False\n",
            "<BatchNormalization name=block6g_bn, built=True> False\n",
            "<Activation name=block6g_activation, built=True> False\n",
            "<GlobalAveragePooling2D name=block6g_se_squeeze, built=True> False\n",
            "<Reshape name=block6g_se_reshape, built=True> False\n",
            "<Conv2D name=block6g_se_reduce, built=True> False\n",
            "<Conv2D name=block6g_se_expand, built=True> False\n",
            "<Multiply name=block6g_se_excite, built=True> False\n",
            "<Conv2D name=block6g_project_conv, built=True> False\n",
            "<BatchNormalization name=block6g_project_bn, built=True> False\n",
            "<Dropout name=block6g_drop, built=True> False\n",
            "<Add name=block6g_add, built=True> False\n",
            "<Conv2D name=block6h_expand_conv, built=True> False\n",
            "<BatchNormalization name=block6h_expand_bn, built=True> False\n",
            "<Activation name=block6h_expand_activation, built=True> False\n",
            "<DepthwiseConv2D name=block6h_dwconv2, built=True> False\n",
            "<BatchNormalization name=block6h_bn, built=True> False\n",
            "<Activation name=block6h_activation, built=True> False\n",
            "<GlobalAveragePooling2D name=block6h_se_squeeze, built=True> False\n",
            "<Reshape name=block6h_se_reshape, built=True> False\n",
            "<Conv2D name=block6h_se_reduce, built=True> True\n",
            "<Conv2D name=block6h_se_expand, built=True> True\n",
            "<Multiply name=block6h_se_excite, built=True> True\n",
            "<Conv2D name=block6h_project_conv, built=True> True\n",
            "<BatchNormalization name=block6h_project_bn, built=True> True\n",
            "<Dropout name=block6h_drop, built=True> True\n",
            "<Add name=block6h_add, built=True> True\n",
            "<Conv2D name=top_conv, built=True> True\n",
            "<BatchNormalization name=top_bn, built=True> True\n",
            "<Activation name=top_activation, built=True> True\n"
          ]
        }
      ]
    },
    {
      "cell_type": "code",
      "source": [
        "for i,layer in enumerate(model_2.layers[2].layers):\n",
        "  print(i,layer,layer.trainable)"
      ],
      "metadata": {
        "colab": {
          "base_uri": "https://localhost:8080/"
        },
        "id": "phRVDQpuld6i",
        "outputId": "78d5d367-aa06-4dd9-868e-3e49503f4db8"
      },
      "execution_count": 52,
      "outputs": [
        {
          "output_type": "stream",
          "name": "stdout",
          "text": [
            "0 <InputLayer name=input_layer_3, built=True> False\n",
            "1 <Rescaling name=rescaling_2, built=True> False\n",
            "2 <Normalization name=normalization_2, built=True> False\n",
            "3 <Conv2D name=stem_conv, built=True> False\n",
            "4 <BatchNormalization name=stem_bn, built=True> False\n",
            "5 <Activation name=stem_activation, built=True> False\n",
            "6 <Conv2D name=block1a_project_conv, built=True> False\n",
            "7 <BatchNormalization name=block1a_project_bn, built=True> False\n",
            "8 <Activation name=block1a_project_activation, built=True> False\n",
            "9 <Conv2D name=block2a_expand_conv, built=True> False\n",
            "10 <BatchNormalization name=block2a_expand_bn, built=True> False\n",
            "11 <Activation name=block2a_expand_activation, built=True> False\n",
            "12 <Conv2D name=block2a_project_conv, built=True> False\n",
            "13 <BatchNormalization name=block2a_project_bn, built=True> False\n",
            "14 <Conv2D name=block2b_expand_conv, built=True> False\n",
            "15 <BatchNormalization name=block2b_expand_bn, built=True> False\n",
            "16 <Activation name=block2b_expand_activation, built=True> False\n",
            "17 <Conv2D name=block2b_project_conv, built=True> False\n",
            "18 <BatchNormalization name=block2b_project_bn, built=True> False\n",
            "19 <Dropout name=block2b_drop, built=True> False\n",
            "20 <Add name=block2b_add, built=True> False\n",
            "21 <Conv2D name=block3a_expand_conv, built=True> False\n",
            "22 <BatchNormalization name=block3a_expand_bn, built=True> False\n",
            "23 <Activation name=block3a_expand_activation, built=True> False\n",
            "24 <Conv2D name=block3a_project_conv, built=True> False\n",
            "25 <BatchNormalization name=block3a_project_bn, built=True> False\n",
            "26 <Conv2D name=block3b_expand_conv, built=True> False\n",
            "27 <BatchNormalization name=block3b_expand_bn, built=True> False\n",
            "28 <Activation name=block3b_expand_activation, built=True> False\n",
            "29 <Conv2D name=block3b_project_conv, built=True> False\n",
            "30 <BatchNormalization name=block3b_project_bn, built=True> False\n",
            "31 <Dropout name=block3b_drop, built=True> False\n",
            "32 <Add name=block3b_add, built=True> False\n",
            "33 <Conv2D name=block4a_expand_conv, built=True> False\n",
            "34 <BatchNormalization name=block4a_expand_bn, built=True> False\n",
            "35 <Activation name=block4a_expand_activation, built=True> False\n",
            "36 <DepthwiseConv2D name=block4a_dwconv2, built=True> False\n",
            "37 <BatchNormalization name=block4a_bn, built=True> False\n",
            "38 <Activation name=block4a_activation, built=True> False\n",
            "39 <GlobalAveragePooling2D name=block4a_se_squeeze, built=True> False\n",
            "40 <Reshape name=block4a_se_reshape, built=True> False\n",
            "41 <Conv2D name=block4a_se_reduce, built=True> False\n",
            "42 <Conv2D name=block4a_se_expand, built=True> False\n",
            "43 <Multiply name=block4a_se_excite, built=True> False\n",
            "44 <Conv2D name=block4a_project_conv, built=True> False\n",
            "45 <BatchNormalization name=block4a_project_bn, built=True> False\n",
            "46 <Conv2D name=block4b_expand_conv, built=True> False\n",
            "47 <BatchNormalization name=block4b_expand_bn, built=True> False\n",
            "48 <Activation name=block4b_expand_activation, built=True> False\n",
            "49 <DepthwiseConv2D name=block4b_dwconv2, built=True> False\n",
            "50 <BatchNormalization name=block4b_bn, built=True> False\n",
            "51 <Activation name=block4b_activation, built=True> False\n",
            "52 <GlobalAveragePooling2D name=block4b_se_squeeze, built=True> False\n",
            "53 <Reshape name=block4b_se_reshape, built=True> False\n",
            "54 <Conv2D name=block4b_se_reduce, built=True> False\n",
            "55 <Conv2D name=block4b_se_expand, built=True> False\n",
            "56 <Multiply name=block4b_se_excite, built=True> False\n",
            "57 <Conv2D name=block4b_project_conv, built=True> False\n",
            "58 <BatchNormalization name=block4b_project_bn, built=True> False\n",
            "59 <Dropout name=block4b_drop, built=True> False\n",
            "60 <Add name=block4b_add, built=True> False\n",
            "61 <Conv2D name=block4c_expand_conv, built=True> False\n",
            "62 <BatchNormalization name=block4c_expand_bn, built=True> False\n",
            "63 <Activation name=block4c_expand_activation, built=True> False\n",
            "64 <DepthwiseConv2D name=block4c_dwconv2, built=True> False\n",
            "65 <BatchNormalization name=block4c_bn, built=True> False\n",
            "66 <Activation name=block4c_activation, built=True> False\n",
            "67 <GlobalAveragePooling2D name=block4c_se_squeeze, built=True> False\n",
            "68 <Reshape name=block4c_se_reshape, built=True> False\n",
            "69 <Conv2D name=block4c_se_reduce, built=True> False\n",
            "70 <Conv2D name=block4c_se_expand, built=True> False\n",
            "71 <Multiply name=block4c_se_excite, built=True> False\n",
            "72 <Conv2D name=block4c_project_conv, built=True> False\n",
            "73 <BatchNormalization name=block4c_project_bn, built=True> False\n",
            "74 <Dropout name=block4c_drop, built=True> False\n",
            "75 <Add name=block4c_add, built=True> False\n",
            "76 <Conv2D name=block5a_expand_conv, built=True> False\n",
            "77 <BatchNormalization name=block5a_expand_bn, built=True> False\n",
            "78 <Activation name=block5a_expand_activation, built=True> False\n",
            "79 <DepthwiseConv2D name=block5a_dwconv2, built=True> False\n",
            "80 <BatchNormalization name=block5a_bn, built=True> False\n",
            "81 <Activation name=block5a_activation, built=True> False\n",
            "82 <GlobalAveragePooling2D name=block5a_se_squeeze, built=True> False\n",
            "83 <Reshape name=block5a_se_reshape, built=True> False\n",
            "84 <Conv2D name=block5a_se_reduce, built=True> False\n",
            "85 <Conv2D name=block5a_se_expand, built=True> False\n",
            "86 <Multiply name=block5a_se_excite, built=True> False\n",
            "87 <Conv2D name=block5a_project_conv, built=True> False\n",
            "88 <BatchNormalization name=block5a_project_bn, built=True> False\n",
            "89 <Conv2D name=block5b_expand_conv, built=True> False\n",
            "90 <BatchNormalization name=block5b_expand_bn, built=True> False\n",
            "91 <Activation name=block5b_expand_activation, built=True> False\n",
            "92 <DepthwiseConv2D name=block5b_dwconv2, built=True> False\n",
            "93 <BatchNormalization name=block5b_bn, built=True> False\n",
            "94 <Activation name=block5b_activation, built=True> False\n",
            "95 <GlobalAveragePooling2D name=block5b_se_squeeze, built=True> False\n",
            "96 <Reshape name=block5b_se_reshape, built=True> False\n",
            "97 <Conv2D name=block5b_se_reduce, built=True> False\n",
            "98 <Conv2D name=block5b_se_expand, built=True> False\n",
            "99 <Multiply name=block5b_se_excite, built=True> False\n",
            "100 <Conv2D name=block5b_project_conv, built=True> False\n",
            "101 <BatchNormalization name=block5b_project_bn, built=True> False\n",
            "102 <Dropout name=block5b_drop, built=True> False\n",
            "103 <Add name=block5b_add, built=True> False\n",
            "104 <Conv2D name=block5c_expand_conv, built=True> False\n",
            "105 <BatchNormalization name=block5c_expand_bn, built=True> False\n",
            "106 <Activation name=block5c_expand_activation, built=True> False\n",
            "107 <DepthwiseConv2D name=block5c_dwconv2, built=True> False\n",
            "108 <BatchNormalization name=block5c_bn, built=True> False\n",
            "109 <Activation name=block5c_activation, built=True> False\n",
            "110 <GlobalAveragePooling2D name=block5c_se_squeeze, built=True> False\n",
            "111 <Reshape name=block5c_se_reshape, built=True> False\n",
            "112 <Conv2D name=block5c_se_reduce, built=True> False\n",
            "113 <Conv2D name=block5c_se_expand, built=True> False\n",
            "114 <Multiply name=block5c_se_excite, built=True> False\n",
            "115 <Conv2D name=block5c_project_conv, built=True> False\n",
            "116 <BatchNormalization name=block5c_project_bn, built=True> False\n",
            "117 <Dropout name=block5c_drop, built=True> False\n",
            "118 <Add name=block5c_add, built=True> False\n",
            "119 <Conv2D name=block5d_expand_conv, built=True> False\n",
            "120 <BatchNormalization name=block5d_expand_bn, built=True> False\n",
            "121 <Activation name=block5d_expand_activation, built=True> False\n",
            "122 <DepthwiseConv2D name=block5d_dwconv2, built=True> False\n",
            "123 <BatchNormalization name=block5d_bn, built=True> False\n",
            "124 <Activation name=block5d_activation, built=True> False\n",
            "125 <GlobalAveragePooling2D name=block5d_se_squeeze, built=True> False\n",
            "126 <Reshape name=block5d_se_reshape, built=True> False\n",
            "127 <Conv2D name=block5d_se_reduce, built=True> False\n",
            "128 <Conv2D name=block5d_se_expand, built=True> False\n",
            "129 <Multiply name=block5d_se_excite, built=True> False\n",
            "130 <Conv2D name=block5d_project_conv, built=True> False\n",
            "131 <BatchNormalization name=block5d_project_bn, built=True> False\n",
            "132 <Dropout name=block5d_drop, built=True> False\n",
            "133 <Add name=block5d_add, built=True> False\n",
            "134 <Conv2D name=block5e_expand_conv, built=True> False\n",
            "135 <BatchNormalization name=block5e_expand_bn, built=True> False\n",
            "136 <Activation name=block5e_expand_activation, built=True> False\n",
            "137 <DepthwiseConv2D name=block5e_dwconv2, built=True> False\n",
            "138 <BatchNormalization name=block5e_bn, built=True> False\n",
            "139 <Activation name=block5e_activation, built=True> False\n",
            "140 <GlobalAveragePooling2D name=block5e_se_squeeze, built=True> False\n",
            "141 <Reshape name=block5e_se_reshape, built=True> False\n",
            "142 <Conv2D name=block5e_se_reduce, built=True> False\n",
            "143 <Conv2D name=block5e_se_expand, built=True> False\n",
            "144 <Multiply name=block5e_se_excite, built=True> False\n",
            "145 <Conv2D name=block5e_project_conv, built=True> False\n",
            "146 <BatchNormalization name=block5e_project_bn, built=True> False\n",
            "147 <Dropout name=block5e_drop, built=True> False\n",
            "148 <Add name=block5e_add, built=True> False\n",
            "149 <Conv2D name=block6a_expand_conv, built=True> False\n",
            "150 <BatchNormalization name=block6a_expand_bn, built=True> False\n",
            "151 <Activation name=block6a_expand_activation, built=True> False\n",
            "152 <DepthwiseConv2D name=block6a_dwconv2, built=True> False\n",
            "153 <BatchNormalization name=block6a_bn, built=True> False\n",
            "154 <Activation name=block6a_activation, built=True> False\n",
            "155 <GlobalAveragePooling2D name=block6a_se_squeeze, built=True> False\n",
            "156 <Reshape name=block6a_se_reshape, built=True> False\n",
            "157 <Conv2D name=block6a_se_reduce, built=True> False\n",
            "158 <Conv2D name=block6a_se_expand, built=True> False\n",
            "159 <Multiply name=block6a_se_excite, built=True> False\n",
            "160 <Conv2D name=block6a_project_conv, built=True> False\n",
            "161 <BatchNormalization name=block6a_project_bn, built=True> False\n",
            "162 <Conv2D name=block6b_expand_conv, built=True> False\n",
            "163 <BatchNormalization name=block6b_expand_bn, built=True> False\n",
            "164 <Activation name=block6b_expand_activation, built=True> False\n",
            "165 <DepthwiseConv2D name=block6b_dwconv2, built=True> False\n",
            "166 <BatchNormalization name=block6b_bn, built=True> False\n",
            "167 <Activation name=block6b_activation, built=True> False\n",
            "168 <GlobalAveragePooling2D name=block6b_se_squeeze, built=True> False\n",
            "169 <Reshape name=block6b_se_reshape, built=True> False\n",
            "170 <Conv2D name=block6b_se_reduce, built=True> False\n",
            "171 <Conv2D name=block6b_se_expand, built=True> False\n",
            "172 <Multiply name=block6b_se_excite, built=True> False\n",
            "173 <Conv2D name=block6b_project_conv, built=True> False\n",
            "174 <BatchNormalization name=block6b_project_bn, built=True> False\n",
            "175 <Dropout name=block6b_drop, built=True> False\n",
            "176 <Add name=block6b_add, built=True> False\n",
            "177 <Conv2D name=block6c_expand_conv, built=True> False\n",
            "178 <BatchNormalization name=block6c_expand_bn, built=True> False\n",
            "179 <Activation name=block6c_expand_activation, built=True> False\n",
            "180 <DepthwiseConv2D name=block6c_dwconv2, built=True> False\n",
            "181 <BatchNormalization name=block6c_bn, built=True> False\n",
            "182 <Activation name=block6c_activation, built=True> False\n",
            "183 <GlobalAveragePooling2D name=block6c_se_squeeze, built=True> False\n",
            "184 <Reshape name=block6c_se_reshape, built=True> False\n",
            "185 <Conv2D name=block6c_se_reduce, built=True> False\n",
            "186 <Conv2D name=block6c_se_expand, built=True> False\n",
            "187 <Multiply name=block6c_se_excite, built=True> False\n",
            "188 <Conv2D name=block6c_project_conv, built=True> False\n",
            "189 <BatchNormalization name=block6c_project_bn, built=True> False\n",
            "190 <Dropout name=block6c_drop, built=True> False\n",
            "191 <Add name=block6c_add, built=True> False\n",
            "192 <Conv2D name=block6d_expand_conv, built=True> False\n",
            "193 <BatchNormalization name=block6d_expand_bn, built=True> False\n",
            "194 <Activation name=block6d_expand_activation, built=True> False\n",
            "195 <DepthwiseConv2D name=block6d_dwconv2, built=True> False\n",
            "196 <BatchNormalization name=block6d_bn, built=True> False\n",
            "197 <Activation name=block6d_activation, built=True> False\n",
            "198 <GlobalAveragePooling2D name=block6d_se_squeeze, built=True> False\n",
            "199 <Reshape name=block6d_se_reshape, built=True> False\n",
            "200 <Conv2D name=block6d_se_reduce, built=True> False\n",
            "201 <Conv2D name=block6d_se_expand, built=True> False\n",
            "202 <Multiply name=block6d_se_excite, built=True> False\n",
            "203 <Conv2D name=block6d_project_conv, built=True> False\n",
            "204 <BatchNormalization name=block6d_project_bn, built=True> False\n",
            "205 <Dropout name=block6d_drop, built=True> False\n",
            "206 <Add name=block6d_add, built=True> False\n",
            "207 <Conv2D name=block6e_expand_conv, built=True> False\n",
            "208 <BatchNormalization name=block6e_expand_bn, built=True> False\n",
            "209 <Activation name=block6e_expand_activation, built=True> False\n",
            "210 <DepthwiseConv2D name=block6e_dwconv2, built=True> False\n",
            "211 <BatchNormalization name=block6e_bn, built=True> False\n",
            "212 <Activation name=block6e_activation, built=True> False\n",
            "213 <GlobalAveragePooling2D name=block6e_se_squeeze, built=True> False\n",
            "214 <Reshape name=block6e_se_reshape, built=True> False\n",
            "215 <Conv2D name=block6e_se_reduce, built=True> False\n",
            "216 <Conv2D name=block6e_se_expand, built=True> False\n",
            "217 <Multiply name=block6e_se_excite, built=True> False\n",
            "218 <Conv2D name=block6e_project_conv, built=True> False\n",
            "219 <BatchNormalization name=block6e_project_bn, built=True> False\n",
            "220 <Dropout name=block6e_drop, built=True> False\n",
            "221 <Add name=block6e_add, built=True> False\n",
            "222 <Conv2D name=block6f_expand_conv, built=True> False\n",
            "223 <BatchNormalization name=block6f_expand_bn, built=True> False\n",
            "224 <Activation name=block6f_expand_activation, built=True> False\n",
            "225 <DepthwiseConv2D name=block6f_dwconv2, built=True> False\n",
            "226 <BatchNormalization name=block6f_bn, built=True> False\n",
            "227 <Activation name=block6f_activation, built=True> False\n",
            "228 <GlobalAveragePooling2D name=block6f_se_squeeze, built=True> False\n",
            "229 <Reshape name=block6f_se_reshape, built=True> False\n",
            "230 <Conv2D name=block6f_se_reduce, built=True> False\n",
            "231 <Conv2D name=block6f_se_expand, built=True> False\n",
            "232 <Multiply name=block6f_se_excite, built=True> False\n",
            "233 <Conv2D name=block6f_project_conv, built=True> False\n",
            "234 <BatchNormalization name=block6f_project_bn, built=True> False\n",
            "235 <Dropout name=block6f_drop, built=True> False\n",
            "236 <Add name=block6f_add, built=True> False\n",
            "237 <Conv2D name=block6g_expand_conv, built=True> False\n",
            "238 <BatchNormalization name=block6g_expand_bn, built=True> False\n",
            "239 <Activation name=block6g_expand_activation, built=True> False\n",
            "240 <DepthwiseConv2D name=block6g_dwconv2, built=True> False\n",
            "241 <BatchNormalization name=block6g_bn, built=True> False\n",
            "242 <Activation name=block6g_activation, built=True> False\n",
            "243 <GlobalAveragePooling2D name=block6g_se_squeeze, built=True> False\n",
            "244 <Reshape name=block6g_se_reshape, built=True> False\n",
            "245 <Conv2D name=block6g_se_reduce, built=True> False\n",
            "246 <Conv2D name=block6g_se_expand, built=True> False\n",
            "247 <Multiply name=block6g_se_excite, built=True> False\n",
            "248 <Conv2D name=block6g_project_conv, built=True> False\n",
            "249 <BatchNormalization name=block6g_project_bn, built=True> False\n",
            "250 <Dropout name=block6g_drop, built=True> False\n",
            "251 <Add name=block6g_add, built=True> False\n",
            "252 <Conv2D name=block6h_expand_conv, built=True> False\n",
            "253 <BatchNormalization name=block6h_expand_bn, built=True> False\n",
            "254 <Activation name=block6h_expand_activation, built=True> False\n",
            "255 <DepthwiseConv2D name=block6h_dwconv2, built=True> False\n",
            "256 <BatchNormalization name=block6h_bn, built=True> False\n",
            "257 <Activation name=block6h_activation, built=True> False\n",
            "258 <GlobalAveragePooling2D name=block6h_se_squeeze, built=True> False\n",
            "259 <Reshape name=block6h_se_reshape, built=True> False\n",
            "260 <Conv2D name=block6h_se_reduce, built=True> True\n",
            "261 <Conv2D name=block6h_se_expand, built=True> True\n",
            "262 <Multiply name=block6h_se_excite, built=True> True\n",
            "263 <Conv2D name=block6h_project_conv, built=True> True\n",
            "264 <BatchNormalization name=block6h_project_bn, built=True> True\n",
            "265 <Dropout name=block6h_drop, built=True> True\n",
            "266 <Add name=block6h_add, built=True> True\n",
            "267 <Conv2D name=top_conv, built=True> True\n",
            "268 <BatchNormalization name=top_bn, built=True> True\n",
            "269 <Activation name=top_activation, built=True> True\n"
          ]
        }
      ]
    },
    {
      "cell_type": "code",
      "source": [
        "model_2.summary()"
      ],
      "metadata": {
        "colab": {
          "base_uri": "https://localhost:8080/",
          "height": 305
        },
        "id": "wR2LceOXlsjt",
        "outputId": "6837e6fb-de1a-4afd-fe1b-1a1d4c8b8719"
      },
      "execution_count": 53,
      "outputs": [
        {
          "output_type": "display_data",
          "data": {
            "text/plain": [
              "\u001b[1mModel: \"functional_2\"\u001b[0m\n"
            ],
            "text/html": [
              "<pre style=\"white-space:pre;overflow-x:auto;line-height:normal;font-family:Menlo,'DejaVu Sans Mono',consolas,'Courier New',monospace\"><span style=\"font-weight: bold\">Model: \"functional_2\"</span>\n",
              "</pre>\n"
            ]
          },
          "metadata": {}
        },
        {
          "output_type": "display_data",
          "data": {
            "text/plain": [
              "┏━━━━━━━━━━━━━━━━━━━━━━━━━━━━━━━━━━━━━━┳━━━━━━━━━━━━━━━━━━━━━━━━━━━━━┳━━━━━━━━━━━━━━━━━┓\n",
              "┃\u001b[1m \u001b[0m\u001b[1mLayer (type)                        \u001b[0m\u001b[1m \u001b[0m┃\u001b[1m \u001b[0m\u001b[1mOutput Shape               \u001b[0m\u001b[1m \u001b[0m┃\u001b[1m \u001b[0m\u001b[1m        Param #\u001b[0m\u001b[1m \u001b[0m┃\n",
              "┡━━━━━━━━━━━━━━━━━━━━━━━━━━━━━━━━━━━━━━╇━━━━━━━━━━━━━━━━━━━━━━━━━━━━━╇━━━━━━━━━━━━━━━━━┩\n",
              "│ input_layer (\u001b[38;5;33mInputLayer\u001b[0m)             │ (\u001b[38;5;45mNone\u001b[0m, \u001b[38;5;34m224\u001b[0m, \u001b[38;5;34m224\u001b[0m, \u001b[38;5;34m3\u001b[0m)         │               \u001b[38;5;34m0\u001b[0m │\n",
              "├──────────────────────────────────────┼─────────────────────────────┼─────────────────┤\n",
              "│ data_augmentation_layer (\u001b[38;5;33mSequential\u001b[0m) │ (\u001b[38;5;45mNone\u001b[0m, \u001b[38;5;45mNone\u001b[0m, \u001b[38;5;45mNone\u001b[0m, \u001b[38;5;34m3\u001b[0m)       │               \u001b[38;5;34m0\u001b[0m │\n",
              "├──────────────────────────────────────┼─────────────────────────────┼─────────────────┤\n",
              "│ efficientnetv2-b0 (\u001b[38;5;33mFunctional\u001b[0m)       │ (\u001b[38;5;45mNone\u001b[0m, \u001b[38;5;45mNone\u001b[0m, \u001b[38;5;45mNone\u001b[0m, \u001b[38;5;34m1280\u001b[0m)    │       \u001b[38;5;34m5,919,312\u001b[0m │\n",
              "├──────────────────────────────────────┼─────────────────────────────┼─────────────────┤\n",
              "│ global_average_pooling_layer         │ (\u001b[38;5;45mNone\u001b[0m, \u001b[38;5;34m1280\u001b[0m)                │               \u001b[38;5;34m0\u001b[0m │\n",
              "│ (\u001b[38;5;33mGlobalAveragePooling2D\u001b[0m)             │                             │                 │\n",
              "├──────────────────────────────────────┼─────────────────────────────┼─────────────────┤\n",
              "│ dense_1 (\u001b[38;5;33mDense\u001b[0m)                      │ (\u001b[38;5;45mNone\u001b[0m, \u001b[38;5;34m10\u001b[0m)                  │          \u001b[38;5;34m12,810\u001b[0m │\n",
              "└──────────────────────────────────────┴─────────────────────────────┴─────────────────┘\n"
            ],
            "text/html": [
              "<pre style=\"white-space:pre;overflow-x:auto;line-height:normal;font-family:Menlo,'DejaVu Sans Mono',consolas,'Courier New',monospace\">┏━━━━━━━━━━━━━━━━━━━━━━━━━━━━━━━━━━━━━━┳━━━━━━━━━━━━━━━━━━━━━━━━━━━━━┳━━━━━━━━━━━━━━━━━┓\n",
              "┃<span style=\"font-weight: bold\"> Layer (type)                         </span>┃<span style=\"font-weight: bold\"> Output Shape                </span>┃<span style=\"font-weight: bold\">         Param # </span>┃\n",
              "┡━━━━━━━━━━━━━━━━━━━━━━━━━━━━━━━━━━━━━━╇━━━━━━━━━━━━━━━━━━━━━━━━━━━━━╇━━━━━━━━━━━━━━━━━┩\n",
              "│ input_layer (<span style=\"color: #0087ff; text-decoration-color: #0087ff\">InputLayer</span>)             │ (<span style=\"color: #00d7ff; text-decoration-color: #00d7ff\">None</span>, <span style=\"color: #00af00; text-decoration-color: #00af00\">224</span>, <span style=\"color: #00af00; text-decoration-color: #00af00\">224</span>, <span style=\"color: #00af00; text-decoration-color: #00af00\">3</span>)         │               <span style=\"color: #00af00; text-decoration-color: #00af00\">0</span> │\n",
              "├──────────────────────────────────────┼─────────────────────────────┼─────────────────┤\n",
              "│ data_augmentation_layer (<span style=\"color: #0087ff; text-decoration-color: #0087ff\">Sequential</span>) │ (<span style=\"color: #00d7ff; text-decoration-color: #00d7ff\">None</span>, <span style=\"color: #00d7ff; text-decoration-color: #00d7ff\">None</span>, <span style=\"color: #00d7ff; text-decoration-color: #00d7ff\">None</span>, <span style=\"color: #00af00; text-decoration-color: #00af00\">3</span>)       │               <span style=\"color: #00af00; text-decoration-color: #00af00\">0</span> │\n",
              "├──────────────────────────────────────┼─────────────────────────────┼─────────────────┤\n",
              "│ efficientnetv2-b0 (<span style=\"color: #0087ff; text-decoration-color: #0087ff\">Functional</span>)       │ (<span style=\"color: #00d7ff; text-decoration-color: #00d7ff\">None</span>, <span style=\"color: #00d7ff; text-decoration-color: #00d7ff\">None</span>, <span style=\"color: #00d7ff; text-decoration-color: #00d7ff\">None</span>, <span style=\"color: #00af00; text-decoration-color: #00af00\">1280</span>)    │       <span style=\"color: #00af00; text-decoration-color: #00af00\">5,919,312</span> │\n",
              "├──────────────────────────────────────┼─────────────────────────────┼─────────────────┤\n",
              "│ global_average_pooling_layer         │ (<span style=\"color: #00d7ff; text-decoration-color: #00d7ff\">None</span>, <span style=\"color: #00af00; text-decoration-color: #00af00\">1280</span>)                │               <span style=\"color: #00af00; text-decoration-color: #00af00\">0</span> │\n",
              "│ (<span style=\"color: #0087ff; text-decoration-color: #0087ff\">GlobalAveragePooling2D</span>)             │                             │                 │\n",
              "├──────────────────────────────────────┼─────────────────────────────┼─────────────────┤\n",
              "│ dense_1 (<span style=\"color: #0087ff; text-decoration-color: #0087ff\">Dense</span>)                      │ (<span style=\"color: #00d7ff; text-decoration-color: #00d7ff\">None</span>, <span style=\"color: #00af00; text-decoration-color: #00af00\">10</span>)                  │          <span style=\"color: #00af00; text-decoration-color: #00af00\">12,810</span> │\n",
              "└──────────────────────────────────────┴─────────────────────────────┴─────────────────┘\n",
              "</pre>\n"
            ]
          },
          "metadata": {}
        },
        {
          "output_type": "display_data",
          "data": {
            "text/plain": [
              "\u001b[1m Total params: \u001b[0m\u001b[38;5;34m5,932,122\u001b[0m (22.63 MB)\n"
            ],
            "text/html": [
              "<pre style=\"white-space:pre;overflow-x:auto;line-height:normal;font-family:Menlo,'DejaVu Sans Mono',consolas,'Courier New',monospace\"><span style=\"font-weight: bold\"> Total params: </span><span style=\"color: #00af00; text-decoration-color: #00af00\">5,932,122</span> (22.63 MB)\n",
              "</pre>\n"
            ]
          },
          "metadata": {}
        },
        {
          "output_type": "display_data",
          "data": {
            "text/plain": [
              "\u001b[1m Trainable params: \u001b[0m\u001b[38;5;34m594,490\u001b[0m (2.27 MB)\n"
            ],
            "text/html": [
              "<pre style=\"white-space:pre;overflow-x:auto;line-height:normal;font-family:Menlo,'DejaVu Sans Mono',consolas,'Courier New',monospace\"><span style=\"font-weight: bold\"> Trainable params: </span><span style=\"color: #00af00; text-decoration-color: #00af00\">594,490</span> (2.27 MB)\n",
              "</pre>\n"
            ]
          },
          "metadata": {}
        },
        {
          "output_type": "display_data",
          "data": {
            "text/plain": [
              "\u001b[1m Non-trainable params: \u001b[0m\u001b[38;5;34m5,337,632\u001b[0m (20.36 MB)\n"
            ],
            "text/html": [
              "<pre style=\"white-space:pre;overflow-x:auto;line-height:normal;font-family:Menlo,'DejaVu Sans Mono',consolas,'Courier New',monospace\"><span style=\"font-weight: bold\"> Non-trainable params: </span><span style=\"color: #00af00; text-decoration-color: #00af00\">5,337,632</span> (20.36 MB)\n",
              "</pre>\n"
            ]
          },
          "metadata": {}
        }
      ]
    },
    {
      "cell_type": "markdown",
      "source": [
        "## As we are fine tuning we set the learning rate to be 0.0001"
      ],
      "metadata": {
        "id": "DGyk5xaeoYKe"
      }
    },
    {
      "cell_type": "code",
      "source": [
        "fine_tune_epochs=10\n",
        "history_fine_tune_10=model_2.fit(train_data_10_percent,\n",
        "                                 epochs=fine_tune_epochs,\n",
        "                                 initial_epoch=hitory_10_percent_data_aug.epoch[-1],\n",
        "                                 validation_data=test_data,\n",
        "                                 validation_steps=int(0.25*len(test_data)),\n",
        "                                 callbacks=[create_tensorboard_callback(dir_name=\"transfer_learning\",\n",
        "                                                                        experiment_name=\"10_percent_fine_tuning\")])"
      ],
      "metadata": {
        "colab": {
          "base_uri": "https://localhost:8080/"
        },
        "id": "sKZIX1JQn6bu",
        "outputId": "6514ee2b-6466-482c-a0ff-01d72c80c696"
      },
      "execution_count": 56,
      "outputs": [
        {
          "output_type": "stream",
          "name": "stdout",
          "text": [
            "Saving TensorBoard log files to: transfer_learning/10_percent_fine_tuning/20240901-131806\n",
            "Epoch 1/10\n",
            "\u001b[1m24/24\u001b[0m \u001b[32m━━━━━━━━━━━━━━━━━━━━\u001b[0m\u001b[37m\u001b[0m \u001b[1m120s\u001b[0m 4s/step - accuracy: 0.6361 - loss: 1.5731 - val_accuracy: 0.7681 - val_loss: 1.1739\n",
            "Epoch 2/10\n",
            "\u001b[1m24/24\u001b[0m \u001b[32m━━━━━━━━━━━━━━━━━━━━\u001b[0m\u001b[37m\u001b[0m \u001b[1m136s\u001b[0m 4s/step - accuracy: 0.6974 - loss: 1.3842 - val_accuracy: 0.7648 - val_loss: 1.0283\n",
            "Epoch 3/10\n",
            "\u001b[1m24/24\u001b[0m \u001b[32m━━━━━━━━━━━━━━━━━━━━\u001b[0m\u001b[37m\u001b[0m \u001b[1m137s\u001b[0m 4s/step - accuracy: 0.7288 - loss: 1.2135 - val_accuracy: 0.7401 - val_loss: 0.9160\n",
            "Epoch 4/10\n",
            "\u001b[1m24/24\u001b[0m \u001b[32m━━━━━━━━━━━━━━━━━━━━\u001b[0m\u001b[37m\u001b[0m \u001b[1m165s\u001b[0m 5s/step - accuracy: 0.7120 - loss: 1.1716 - val_accuracy: 0.7812 - val_loss: 0.8496\n",
            "Epoch 5/10\n",
            "\u001b[1m24/24\u001b[0m \u001b[32m━━━━━━━━━━━━━━━━━━━━\u001b[0m\u001b[37m\u001b[0m \u001b[1m92s\u001b[0m 3s/step - accuracy: 0.7343 - loss: 1.0392 - val_accuracy: 0.7647 - val_loss: 0.9537\n",
            "Epoch 6/10\n"
          ]
        },
        {
          "output_type": "stream",
          "name": "stderr",
          "text": [
            "/usr/lib/python3.10/contextlib.py:153: UserWarning: Your input ran out of data; interrupting training. Make sure that your dataset or generator can generate at least `steps_per_epoch * epochs` batches. You may need to use the `.repeat()` function when building your dataset.\n",
            "  self.gen.throw(typ, value, traceback)\n"
          ]
        },
        {
          "output_type": "stream",
          "name": "stdout",
          "text": [
            "\u001b[1m24/24\u001b[0m \u001b[32m━━━━━━━━━━━━━━━━━━━━\u001b[0m\u001b[37m\u001b[0m \u001b[1m110s\u001b[0m 4s/step - accuracy: 0.7799 - loss: 0.9177 - val_accuracy: 0.8586 - val_loss: 0.6336\n",
            "Epoch 7/10\n",
            "\u001b[1m24/24\u001b[0m \u001b[32m━━━━━━━━━━━━━━━━━━━━\u001b[0m\u001b[37m\u001b[0m \u001b[1m171s\u001b[0m 5s/step - accuracy: 0.7902 - loss: 0.9255 - val_accuracy: 0.7944 - val_loss: 0.6748\n",
            "Epoch 8/10\n",
            "\u001b[1m24/24\u001b[0m \u001b[32m━━━━━━━━━━━━━━━━━━━━\u001b[0m\u001b[37m\u001b[0m \u001b[1m111s\u001b[0m 4s/step - accuracy: 0.7946 - loss: 0.8852 - val_accuracy: 0.8109 - val_loss: 0.6382\n",
            "Epoch 9/10\n",
            "\u001b[1m24/24\u001b[0m \u001b[32m━━━━━━━━━━━━━━━━━━━━\u001b[0m\u001b[37m\u001b[0m \u001b[1m94s\u001b[0m 4s/step - accuracy: 0.7816 - loss: 0.8591 - val_accuracy: 0.8224 - val_loss: 0.6067\n",
            "Epoch 10/10\n",
            "\u001b[1m24/24\u001b[0m \u001b[32m━━━━━━━━━━━━━━━━━━━━\u001b[0m\u001b[37m\u001b[0m \u001b[1m151s\u001b[0m 4s/step - accuracy: 0.8029 - loss: 0.8348 - val_accuracy: 0.8676 - val_loss: 0.5262\n"
          ]
        }
      ]
    },
    {
      "cell_type": "code",
      "source": [
        "def compare_history(original_history,new_history,initial_epochs=5):\n",
        "  acc=original_history.history['accuracy']\n",
        "  loss=original_history.history['loss']\n",
        "\n",
        "  val_acc=new_history.history['val_accuracy']\n",
        "  val_loss=new_history.history['val_loss']\n",
        "\n",
        "  total_acc=acc+new_history.history['accuracy']\n",
        "  total_loss=loss+new_history.history['loss']\n",
        "\n",
        "  total_val_acc=val_acc+new_history.history['val_accuracy']\n",
        "  total_val_loss=val_loss+new_history.history['val_loss']\n",
        "\n",
        "  plt.figure(figsize=(8,8))\n",
        "  plt.subplot(2,1,1)\n",
        "  plt.plot(total_acc,label='Training Accuracy')\n",
        "  plt.plot(total_val_acc,label='Validation Accuracy')\n",
        "  plt.plot([initial_epochs-1,initial_epochs-1],plt.ylim(),label='Start Fine Tuning')\n",
        "  plt.legend(loc='lower right')\n",
        "  plt.title(\"Training and Validation Accuracy\")\n",
        "\n",
        "  plt.figure(figsize=(8,8))\n",
        "  plt.subplot(2,1,2)\n",
        "  plt.plot(total_loss,label='Training Loss')\n",
        "  plt.plot(total_val_loss,label='Validation Loss')\n",
        "  plt.plot([initial_epochs-1,initial_epochs-1],plt.ylim(),label='Start Fine Tuning')\n",
        "  plt.legend(loc='lower right')\n",
        "  plt.title(\"Training and Validation Loss\")"
      ],
      "metadata": {
        "id": "VKuNx1rfowRD"
      },
      "execution_count": 58,
      "outputs": []
    },
    {
      "cell_type": "code",
      "source": [
        "import matplotlib.pyplot as plt\n",
        "\n",
        "compare_history(hitory_10_percent_data_aug,\n",
        "                history_fine_tune_10,initial_epochs=5)"
      ],
      "metadata": {
        "colab": {
          "base_uri": "https://localhost:8080/",
          "height": 709
        },
        "id": "ZxHW4hfPvAZg",
        "outputId": "90d509c5-dc6a-42f4-9344-756e5141f2bc"
      },
      "execution_count": 60,
      "outputs": [
        {
          "output_type": "display_data",
          "data": {
            "text/plain": [
              "<Figure size 800x800 with 1 Axes>"
            ],
            "image/png": "[encoded data removed]"
          },
          "metadata": {}
        },
        {
          "output_type": "display_data",
          "data": {
            "text/plain": [
              "<Figure size 800x800 with 1 Axes>"
            ],
            "image/png": "[encoded data removed]"
          },
          "metadata": {}
        }
      ]
    },
    {
      "cell_type": "markdown",
      "source": [
        "##Model 4"
      ],
      "metadata": {
        "id": "PwTd0U5rwyL8"
      }
    },
    {
      "cell_type": "code",
      "source": [
        "\n",
        "# Download and unzip 10 classes of data with all images\n",
        "!wget https://storage.googleapis.com/ztm_tf_course/food_vision/10_food_classes_all_data.zip\n",
        "unzip_data(\"10_food_classes_all_data.zip\")\n",
        "\n",
        "# Setup data directories\n",
        "train_dir = \"10_food_classes_all_data/train/\"\n",
        "test_dir = \"10_food_classes_all_data/test/\""
      ],
      "metadata": {
        "colab": {
          "base_uri": "https://localhost:8080/"
        },
        "id": "G-WSKxqxvc-b",
        "outputId": "3ea0118b-c32f-4edc-cfed-763b1c82b73f"
      },
      "execution_count": 61,
      "outputs": [
        {
          "output_type": "stream",
          "name": "stdout",
          "text": [
            "--2024-09-01 13:41:20--  https://storage.googleapis.com/ztm_tf_course/food_vision/10_food_classes_all_data.zip\n",
            "Resolving storage.googleapis.com (storage.googleapis.com)... 64.233.181.207, 173.194.193.207, 173.194.194.207, ...\n",
            "Connecting to storage.googleapis.com (storage.googleapis.com)|64.233.181.207|:443... connected.\n",
            "HTTP request sent, awaiting response... 200 OK\n",
            "Length: 519183241 (495M) [application/zip]\n",
            "Saving to: ‘10_food_classes_all_data.zip’\n",
            "\n",
            "10_food_classes_all 100%[===================>] 495.13M  58.3MB/s    in 9.3s    \n",
            "\n",
            "2024-09-01 13:41:29 (53.4 MB/s) - ‘10_food_classes_all_data.zip’ saved [519183241/519183241]\n",
            "\n"
          ]
        }
      ]
    },
    {
      "cell_type": "code",
      "source": [
        "walk_through_dir(\"10_food_classes_all_data\")"
      ],
      "metadata": {
        "colab": {
          "base_uri": "https://localhost:8080/"
        },
        "id": "9mlNkxNZw7CR",
        "outputId": "1113d0e6-996a-4758-fd70-6b4c928acbe3"
      },
      "execution_count": 62,
      "outputs": [
        {
          "output_type": "stream",
          "name": "stdout",
          "text": [
            "There are 2 directories and 0 images in '10_food_classes_all_data'.\n",
            "There are 10 directories and 0 images in '10_food_classes_all_data/test'.\n",
            "There are 0 directories and 250 images in '10_food_classes_all_data/test/pizza'.\n",
            "There are 0 directories and 250 images in '10_food_classes_all_data/test/hamburger'.\n",
            "There are 0 directories and 250 images in '10_food_classes_all_data/test/sushi'.\n",
            "There are 0 directories and 250 images in '10_food_classes_all_data/test/chicken_curry'.\n",
            "There are 0 directories and 250 images in '10_food_classes_all_data/test/ice_cream'.\n",
            "There are 0 directories and 250 images in '10_food_classes_all_data/test/grilled_salmon'.\n",
            "There are 0 directories and 250 images in '10_food_classes_all_data/test/fried_rice'.\n",
            "There are 0 directories and 250 images in '10_food_classes_all_data/test/ramen'.\n",
            "There are 0 directories and 250 images in '10_food_classes_all_data/test/steak'.\n",
            "There are 0 directories and 250 images in '10_food_classes_all_data/test/chicken_wings'.\n",
            "There are 10 directories and 0 images in '10_food_classes_all_data/train'.\n",
            "There are 0 directories and 750 images in '10_food_classes_all_data/train/pizza'.\n",
            "There are 0 directories and 750 images in '10_food_classes_all_data/train/hamburger'.\n",
            "There are 0 directories and 750 images in '10_food_classes_all_data/train/sushi'.\n",
            "There are 0 directories and 750 images in '10_food_classes_all_data/train/chicken_curry'.\n",
            "There are 0 directories and 750 images in '10_food_classes_all_data/train/ice_cream'.\n",
            "There are 0 directories and 750 images in '10_food_classes_all_data/train/grilled_salmon'.\n",
            "There are 0 directories and 750 images in '10_food_classes_all_data/train/fried_rice'.\n",
            "There are 0 directories and 750 images in '10_food_classes_all_data/train/ramen'.\n",
            "There are 0 directories and 750 images in '10_food_classes_all_data/train/steak'.\n",
            "There are 0 directories and 750 images in '10_food_classes_all_data/train/chicken_wings'.\n"
          ]
        }
      ]
    },
    {
      "cell_type": "code",
      "source": [
        "import tensorflow as tf\n",
        "\n",
        "BATCH_SIZE=32\n",
        "IMAGE_SIZE=(224,224)\n",
        "train_data_10_classes_full=tf.keras.preprocessing.image_dataset_from_directory(train_dir,\n",
        "                                                                               label_mode='categorical',\n",
        "                                                                               batch_size=BATCH_SIZE,\n",
        "                                                                               image_size=IMAGE_SIZE)\n",
        "test_data=tf.keras.preprocessing.image_dataset_from_directory(test_dir,\n",
        "                                                              label_mode='categorical',\n",
        "                                                              batch_size=BATCH_SIZE,\n",
        "                                                              image_size=IMAGE_SIZE)\n"
      ],
      "metadata": {
        "colab": {
          "base_uri": "https://localhost:8080/"
        },
        "id": "wurcFJOrxGCK",
        "outputId": "4e38c6b8-fabb-42b0-fe9b-dae5741b67f8"
      },
      "execution_count": 63,
      "outputs": [
        {
          "output_type": "stream",
          "name": "stdout",
          "text": [
            "Found 7500 files belonging to 10 classes.\n",
            "Found 2500 files belonging to 10 classes.\n"
          ]
        }
      ]
    },
    {
      "cell_type": "markdown",
      "source": [
        "##test_dataset is same for all different types of transfer learning we did till now"
      ],
      "metadata": {
        "id": "lrRRISNPzBQ9"
      }
    },
    {
      "cell_type": "code",
      "source": [
        "model_2.evaluate(test_data)"
      ],
      "metadata": {
        "colab": {
          "base_uri": "https://localhost:8080/"
        },
        "id": "zFyo4YO_zHrb",
        "outputId": "0d3d30ed-70dc-463d-a97d-4c2b763ebcea"
      },
      "execution_count": 64,
      "outputs": [
        {
          "output_type": "stream",
          "name": "stdout",
          "text": [
            "\u001b[1m79/79\u001b[0m \u001b[32m━━━━━━━━━━━━━━━━━━━━\u001b[0m\u001b[37m\u001b[0m \u001b[1m156s\u001b[0m 2s/step - accuracy: 0.8308 - loss: 0.5773\n"
          ]
        },
        {
          "output_type": "execute_result",
          "data": {
            "text/plain": [
              "[0.5568571090698242, 0.8360000252723694]"
            ]
          },
          "metadata": {},
          "execution_count": 64
        }
      ]
    },
    {
      "cell_type": "code",
      "source": [
        "model_2.load_weights(checkpoint_path)"
      ],
      "metadata": {
        "id": "DflmKaLUz3FE"
      },
      "execution_count": 65,
      "outputs": []
    },
    {
      "cell_type": "code",
      "source": [
        "model_2.evaluate(test_data)"
      ],
      "metadata": {
        "colab": {
          "base_uri": "https://localhost:8080/"
        },
        "id": "1PouFBwD0nwh",
        "outputId": "2a47209d-1505-4bc5-9e9a-224d85ee7ed7"
      },
      "execution_count": 66,
      "outputs": [
        {
          "output_type": "stream",
          "name": "stdout",
          "text": [
            "\u001b[1m79/79\u001b[0m \u001b[32m━━━━━━━━━━━━━━━━━━━━\u001b[0m\u001b[37m\u001b[0m \u001b[1m159s\u001b[0m 2s/step - accuracy: 0.7091 - loss: 1.4369\n"
          ]
        },
        {
          "output_type": "execute_result",
          "data": {
            "text/plain": [
              "[1.4226617813110352, 0.7152000069618225]"
            ]
          },
          "metadata": {},
          "execution_count": 66
        }
      ]
    },
    {
      "cell_type": "code",
      "source": [
        "for layer_number,layer in enumerate(model_2.layers):\n",
        "  print(layer_number,layer.name,layer.trainable)"
      ],
      "metadata": {
        "colab": {
          "base_uri": "https://localhost:8080/"
        },
        "id": "BzyghRPo0pvd",
        "outputId": "8b7cc1b8-bf4e-4de7-9029-6168828eb7e1"
      },
      "execution_count": 68,
      "outputs": [
        {
          "output_type": "stream",
          "name": "stdout",
          "text": [
            "0 input_layer True\n",
            "1 data_augmentation_layer True\n",
            "2 efficientnetv2-b0 True\n",
            "3 global_average_pooling_layer True\n",
            "4 dense_1 True\n"
          ]
        }
      ]
    },
    {
      "cell_type": "code",
      "source": [
        "for layer in model_2.layers[2].layers:\n",
        "  print(layer.name,layer.trainable)"
      ],
      "metadata": {
        "colab": {
          "base_uri": "https://localhost:8080/"
        },
        "id": "smqNEUt21r_I",
        "outputId": "dcc9d615-7049-4ff4-8ed2-bafd03acefff"
      },
      "execution_count": 69,
      "outputs": [
        {
          "output_type": "stream",
          "name": "stdout",
          "text": [
            "input_layer_3 False\n",
            "rescaling_2 False\n",
            "normalization_2 False\n",
            "stem_conv False\n",
            "stem_bn False\n",
            "stem_activation False\n",
            "block1a_project_conv False\n",
            "block1a_project_bn False\n",
            "block1a_project_activation False\n",
            "block2a_expand_conv False\n",
            "block2a_expand_bn False\n",
            "block2a_expand_activation False\n",
            "block2a_project_conv False\n",
            "block2a_project_bn False\n",
            "block2b_expand_conv False\n",
            "block2b_expand_bn False\n",
            "block2b_expand_activation False\n",
            "block2b_project_conv False\n",
            "block2b_project_bn False\n",
            "block2b_drop False\n",
            "block2b_add False\n",
            "block3a_expand_conv False\n",
            "block3a_expand_bn False\n",
            "block3a_expand_activation False\n",
            "block3a_project_conv False\n",
            "block3a_project_bn False\n",
            "block3b_expand_conv False\n",
            "block3b_expand_bn False\n",
            "block3b_expand_activation False\n",
            "block3b_project_conv False\n",
            "block3b_project_bn False\n",
            "block3b_drop False\n",
            "block3b_add False\n",
            "block4a_expand_conv False\n",
            "block4a_expand_bn False\n",
            "block4a_expand_activation False\n",
            "block4a_dwconv2 False\n",
            "block4a_bn False\n",
            "block4a_activation False\n",
            "block4a_se_squeeze False\n",
            "block4a_se_reshape False\n",
            "block4a_se_reduce False\n",
            "block4a_se_expand False\n",
            "block4a_se_excite False\n",
            "block4a_project_conv False\n",
            "block4a_project_bn False\n",
            "block4b_expand_conv False\n",
            "block4b_expand_bn False\n",
            "block4b_expand_activation False\n",
            "block4b_dwconv2 False\n",
            "block4b_bn False\n",
            "block4b_activation False\n",
            "block4b_se_squeeze False\n",
            "block4b_se_reshape False\n",
            "block4b_se_reduce False\n",
            "block4b_se_expand False\n",
            "block4b_se_excite False\n",
            "block4b_project_conv False\n",
            "block4b_project_bn False\n",
            "block4b_drop False\n",
            "block4b_add False\n",
            "block4c_expand_conv False\n",
            "block4c_expand_bn False\n",
            "block4c_expand_activation False\n",
            "block4c_dwconv2 False\n",
            "block4c_bn False\n",
            "block4c_activation False\n",
            "block4c_se_squeeze False\n",
            "block4c_se_reshape False\n",
            "block4c_se_reduce False\n",
            "block4c_se_expand False\n",
            "block4c_se_excite False\n",
            "block4c_project_conv False\n",
            "block4c_project_bn False\n",
            "block4c_drop False\n",
            "block4c_add False\n",
            "block5a_expand_conv False\n",
            "block5a_expand_bn False\n",
            "block5a_expand_activation False\n",
            "block5a_dwconv2 False\n",
            "block5a_bn False\n",
            "block5a_activation False\n",
            "block5a_se_squeeze False\n",
            "block5a_se_reshape False\n",
            "block5a_se_reduce False\n",
            "block5a_se_expand False\n",
            "block5a_se_excite False\n",
            "block5a_project_conv False\n",
            "block5a_project_bn False\n",
            "block5b_expand_conv False\n",
            "block5b_expand_bn False\n",
            "block5b_expand_activation False\n",
            "block5b_dwconv2 False\n",
            "block5b_bn False\n",
            "block5b_activation False\n",
            "block5b_se_squeeze False\n",
            "block5b_se_reshape False\n",
            "block5b_se_reduce False\n",
            "block5b_se_expand False\n",
            "block5b_se_excite False\n",
            "block5b_project_conv False\n",
            "block5b_project_bn False\n",
            "block5b_drop False\n",
            "block5b_add False\n",
            "block5c_expand_conv False\n",
            "block5c_expand_bn False\n",
            "block5c_expand_activation False\n",
            "block5c_dwconv2 False\n",
            "block5c_bn False\n",
            "block5c_activation False\n",
            "block5c_se_squeeze False\n",
            "block5c_se_reshape False\n",
            "block5c_se_reduce False\n",
            "block5c_se_expand False\n",
            "block5c_se_excite False\n",
            "block5c_project_conv False\n",
            "block5c_project_bn False\n",
            "block5c_drop False\n",
            "block5c_add False\n",
            "block5d_expand_conv False\n",
            "block5d_expand_bn False\n",
            "block5d_expand_activation False\n",
            "block5d_dwconv2 False\n",
            "block5d_bn False\n",
            "block5d_activation False\n",
            "block5d_se_squeeze False\n",
            "block5d_se_reshape False\n",
            "block5d_se_reduce False\n",
            "block5d_se_expand False\n",
            "block5d_se_excite False\n",
            "block5d_project_conv False\n",
            "block5d_project_bn False\n",
            "block5d_drop False\n",
            "block5d_add False\n",
            "block5e_expand_conv False\n",
            "block5e_expand_bn False\n",
            "block5e_expand_activation False\n",
            "block5e_dwconv2 False\n",
            "block5e_bn False\n",
            "block5e_activation False\n",
            "block5e_se_squeeze False\n",
            "block5e_se_reshape False\n",
            "block5e_se_reduce False\n",
            "block5e_se_expand False\n",
            "block5e_se_excite False\n",
            "block5e_project_conv False\n",
            "block5e_project_bn False\n",
            "block5e_drop False\n",
            "block5e_add False\n",
            "block6a_expand_conv False\n",
            "block6a_expand_bn False\n",
            "block6a_expand_activation False\n",
            "block6a_dwconv2 False\n",
            "block6a_bn False\n",
            "block6a_activation False\n",
            "block6a_se_squeeze False\n",
            "block6a_se_reshape False\n",
            "block6a_se_reduce False\n",
            "block6a_se_expand False\n",
            "block6a_se_excite False\n",
            "block6a_project_conv False\n",
            "block6a_project_bn False\n",
            "block6b_expand_conv False\n",
            "block6b_expand_bn False\n",
            "block6b_expand_activation False\n",
            "block6b_dwconv2 False\n",
            "block6b_bn False\n",
            "block6b_activation False\n",
            "block6b_se_squeeze False\n",
            "block6b_se_reshape False\n",
            "block6b_se_reduce False\n",
            "block6b_se_expand False\n",
            "block6b_se_excite False\n",
            "block6b_project_conv False\n",
            "block6b_project_bn False\n",
            "block6b_drop False\n",
            "block6b_add False\n",
            "block6c_expand_conv False\n",
            "block6c_expand_bn False\n",
            "block6c_expand_activation False\n",
            "block6c_dwconv2 False\n",
            "block6c_bn False\n",
            "block6c_activation False\n",
            "block6c_se_squeeze False\n",
            "block6c_se_reshape False\n",
            "block6c_se_reduce False\n",
            "block6c_se_expand False\n",
            "block6c_se_excite False\n",
            "block6c_project_conv False\n",
            "block6c_project_bn False\n",
            "block6c_drop False\n",
            "block6c_add False\n",
            "block6d_expand_conv False\n",
            "block6d_expand_bn False\n",
            "block6d_expand_activation False\n",
            "block6d_dwconv2 False\n",
            "block6d_bn False\n",
            "block6d_activation False\n",
            "block6d_se_squeeze False\n",
            "block6d_se_reshape False\n",
            "block6d_se_reduce False\n",
            "block6d_se_expand False\n",
            "block6d_se_excite False\n",
            "block6d_project_conv False\n",
            "block6d_project_bn False\n",
            "block6d_drop False\n",
            "block6d_add False\n",
            "block6e_expand_conv False\n",
            "block6e_expand_bn False\n",
            "block6e_expand_activation False\n",
            "block6e_dwconv2 False\n",
            "block6e_bn False\n",
            "block6e_activation False\n",
            "block6e_se_squeeze False\n",
            "block6e_se_reshape False\n",
            "block6e_se_reduce False\n",
            "block6e_se_expand False\n",
            "block6e_se_excite False\n",
            "block6e_project_conv False\n",
            "block6e_project_bn False\n",
            "block6e_drop False\n",
            "block6e_add False\n",
            "block6f_expand_conv False\n",
            "block6f_expand_bn False\n",
            "block6f_expand_activation False\n",
            "block6f_dwconv2 False\n",
            "block6f_bn False\n",
            "block6f_activation False\n",
            "block6f_se_squeeze False\n",
            "block6f_se_reshape False\n",
            "block6f_se_reduce False\n",
            "block6f_se_expand False\n",
            "block6f_se_excite False\n",
            "block6f_project_conv False\n",
            "block6f_project_bn False\n",
            "block6f_drop False\n",
            "block6f_add False\n",
            "block6g_expand_conv False\n",
            "block6g_expand_bn False\n",
            "block6g_expand_activation False\n",
            "block6g_dwconv2 False\n",
            "block6g_bn False\n",
            "block6g_activation False\n",
            "block6g_se_squeeze False\n",
            "block6g_se_reshape False\n",
            "block6g_se_reduce False\n",
            "block6g_se_expand False\n",
            "block6g_se_excite False\n",
            "block6g_project_conv False\n",
            "block6g_project_bn False\n",
            "block6g_drop False\n",
            "block6g_add False\n",
            "block6h_expand_conv False\n",
            "block6h_expand_bn False\n",
            "block6h_expand_activation False\n",
            "block6h_dwconv2 False\n",
            "block6h_bn False\n",
            "block6h_activation False\n",
            "block6h_se_squeeze False\n",
            "block6h_se_reshape False\n",
            "block6h_se_reduce True\n",
            "block6h_se_expand True\n",
            "block6h_se_excite True\n",
            "block6h_project_conv True\n",
            "block6h_project_bn True\n",
            "block6h_drop True\n",
            "block6h_add True\n",
            "top_conv True\n",
            "top_bn True\n",
            "top_activation True\n"
          ]
        }
      ]
    },
    {
      "cell_type": "code",
      "source": [
        "model_2.compile(loss='categorical_crossentropy',\n",
        "                optimizer=tf.keras.optimizers.Adam(learning_rate=0.0001),\n",
        "                metrics=['accuracy'])\n"
      ],
      "metadata": {
        "id": "XO9SHRRO16Nr"
      },
      "execution_count": 70,
      "outputs": []
    },
    {
      "cell_type": "code",
      "source": [
        "fine_tune_epochs=10\n",
        "history_fine_10_classes_full=model_2.fit(train_data_10_classes_full,\n",
        "                                         epochs=fine_tune_epochs,\n",
        "                                         initial_epoch=hitory_10_percent_data_aug.epoch[-1],\n",
        "                                         validation_data=test_data,\n",
        "                                         validation_steps=int(0.25*len(test_data)),\n",
        "                                         callbacks=[create_tensorboard_callback(dir_name='transfer_learning',\n",
        "                                                                                experiment_name='full_10_classes_fine_tune_last_10')])"
      ],
      "metadata": {
        "colab": {
          "base_uri": "https://localhost:8080/"
        },
        "id": "73ZbOeQs2rMq",
        "outputId": "1b6eaf0c-6f84-4550-e1bb-e05f26caf4cb"
      },
      "execution_count": null,
      "outputs": [
        {
          "output_type": "stream",
          "name": "stdout",
          "text": [
            "Saving TensorBoard log files to: transfer_learning/full_10_classes_fine_tune_last_10/20240901-135433\n",
            "Epoch 1/10\n",
            "\u001b[1m235/235\u001b[0m \u001b[32m━━━━━━━━━━━━━━━━━━━━\u001b[0m\u001b[37m\u001b[0m \u001b[1m655s\u001b[0m 3s/step - accuracy: 0.6523 - loss: 1.3589 - val_accuracy: 0.8372 - val_loss: 0.5544\n",
            "Epoch 2/10\n",
            "\u001b[1m235/235\u001b[0m \u001b[32m━━━━━━━━━━━━━━━━━━━━\u001b[0m\u001b[37m\u001b[0m \u001b[1m677s\u001b[0m 3s/step - accuracy: 0.7649 - loss: 0.8479 - val_accuracy: 0.8421 - val_loss: 0.4465\n",
            "Epoch 3/10\n",
            "\u001b[1m 26/235\u001b[0m \u001b[32m━━\u001b[0m\u001b[37m━━━━━━━━━━━━━━━━━━\u001b[0m \u001b[1m8:14\u001b[0m 2s/step - accuracy: 0.7887 - loss: 0.7201"
          ]
        }
      ]
    },
    {
      "cell_type": "code",
      "source": [
        "results_fine_tune_all_data=model_2.evaluate(test_data)"
      ],
      "metadata": {
        "id": "1y-d51VA3bB6"
      },
      "execution_count": null,
      "outputs": []
    },
    {
      "cell_type": "code",
      "source": [
        "compare_history(hitory_10_percent_data_aug,\n",
        "                history_fine_10_classes_full,\n",
        "                initial_epochs=5)"
      ],
      "metadata": {
        "id": "IZ_cdu-i485O"
      },
      "execution_count": null,
      "outputs": []
    },
    {
      "cell_type": "code",
      "source": [
        "!tensorboard dev upload --logdir ./transfer_learning \\\n",
        "--name \"Transfer Learning Experiments with 10 Food Class Data\" \\\n",
        "--decription \"Transfer Learning Experiments\" \\\n",
        "--one_shot # Exit the uploader once uploading is finished"
      ],
      "metadata": {
        "id": "CtT70ZiZ56ds"
      },
      "execution_count": null,
      "outputs": []
    },
    {
      "cell_type": "code",
      "source": [
        "!tensorboard dev list"
      ],
      "metadata": {
        "id": "pACoMxrZ6i-h"
      },
      "execution_count": null,
      "outputs": []
    },
    {
      "cell_type": "code",
      "source": [
        "!tensorboard dev delete --experiment_id"
      ],
      "metadata": {
        "id": "A-79Kbwv7zed"
      },
      "execution_count": null,
      "outputs": []
    }
  ]
}